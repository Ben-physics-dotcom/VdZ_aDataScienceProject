{
 "cells": [
  {
   "cell_type": "markdown",
   "metadata": {},
   "source": [
    "# Imports"
   ]
  },
  {
   "cell_type": "code",
   "execution_count": 2,
   "metadata": {},
   "outputs": [],
   "source": [
    "import numpy as np\n",
    "import matplotlib.pyplot as plt\n",
    "import pandas as pd"
   ]
  },
  {
   "cell_type": "code",
   "execution_count": 20,
   "metadata": {},
   "outputs": [],
   "source": [
    "import seaborn as sns"
   ]
  },
  {
   "cell_type": "markdown",
   "metadata": {},
   "source": [
    "# Data"
   ]
  },
  {
   "cell_type": "code",
   "execution_count": 16,
   "metadata": {},
   "outputs": [
    {
     "data": {
      "text/html": [
       "<div>\n",
       "<style scoped>\n",
       "    .dataframe tbody tr th:only-of-type {\n",
       "        vertical-align: middle;\n",
       "    }\n",
       "\n",
       "    .dataframe tbody tr th {\n",
       "        vertical-align: top;\n",
       "    }\n",
       "\n",
       "    .dataframe thead th {\n",
       "        text-align: right;\n",
       "    }\n",
       "</style>\n",
       "<table border=\"1\" class=\"dataframe\">\n",
       "  <thead>\n",
       "    <tr style=\"text-align: right;\">\n",
       "      <th></th>\n",
       "      <th>ID</th>\n",
       "      <th>Zoo_Name</th>\n",
       "      <th>Country</th>\n",
       "      <th>State</th>\n",
       "      <th>City</th>\n",
       "      <th>Company_Form</th>\n",
       "      <th>Company_Form_ordinal</th>\n",
       "    </tr>\n",
       "  </thead>\n",
       "  <tbody>\n",
       "    <tr>\n",
       "      <th>0</th>\n",
       "      <td>1</td>\n",
       "      <td>Zoo Heidelberg</td>\n",
       "      <td>DE</td>\n",
       "      <td>BW</td>\n",
       "      <td>Heidelberg</td>\n",
       "      <td>gGmbH</td>\n",
       "      <td>5</td>\n",
       "    </tr>\n",
       "    <tr>\n",
       "      <th>1</th>\n",
       "      <td>2</td>\n",
       "      <td>Zoologischer Stadtgarten Karlsruhe</td>\n",
       "      <td>DE</td>\n",
       "      <td>BW</td>\n",
       "      <td>Karlsruhe</td>\n",
       "      <td>Stadt</td>\n",
       "      <td>3</td>\n",
       "    </tr>\n",
       "    <tr>\n",
       "      <th>2</th>\n",
       "      <td>3</td>\n",
       "      <td>Wilhelma</td>\n",
       "      <td>DE</td>\n",
       "      <td>BW</td>\n",
       "      <td>Stuttgart</td>\n",
       "      <td>BW</td>\n",
       "      <td>8</td>\n",
       "    </tr>\n",
       "    <tr>\n",
       "      <th>3</th>\n",
       "      <td>4</td>\n",
       "      <td>Tier-Freigelände des Nationalparks Bayerischer...</td>\n",
       "      <td>DE</td>\n",
       "      <td>BY</td>\n",
       "      <td>Altschönau</td>\n",
       "      <td>None</td>\n",
       "      <td>1</td>\n",
       "    </tr>\n",
       "    <tr>\n",
       "      <th>4</th>\n",
       "      <td>5</td>\n",
       "      <td>Zoologischer Garten Augsburg</td>\n",
       "      <td>DE</td>\n",
       "      <td>BY</td>\n",
       "      <td>Augsburg</td>\n",
       "      <td>GmbH</td>\n",
       "      <td>2</td>\n",
       "    </tr>\n",
       "  </tbody>\n",
       "</table>\n",
       "</div>"
      ],
      "text/plain": [
       "   ID                                           Zoo_Name Country State  \\\n",
       "0   1                                     Zoo Heidelberg      DE    BW   \n",
       "1   2                 Zoologischer Stadtgarten Karlsruhe      DE    BW   \n",
       "2   3                                           Wilhelma      DE    BW   \n",
       "3   4  Tier-Freigelände des Nationalparks Bayerischer...      DE    BY   \n",
       "4   5                       Zoologischer Garten Augsburg      DE    BY   \n",
       "\n",
       "         City Company_Form  Company_Form_ordinal  \n",
       "0  Heidelberg        gGmbH                     5  \n",
       "1   Karlsruhe        Stadt                     3  \n",
       "2   Stuttgart           BW                     8  \n",
       "3  Altschönau         None                     1  \n",
       "4    Augsburg         GmbH                     2  "
      ]
     },
     "execution_count": 16,
     "metadata": {},
     "output_type": "execute_result"
    }
   ],
   "source": [
    "data_path = '../Data/MembersOfVdZ.json'\n",
    "df = pd.read_json(data_path)\n",
    "# df = df.dr#opna()\n",
    "df.head()"
   ]
  },
  {
   "cell_type": "code",
   "execution_count": null,
   "metadata": {},
   "outputs": [],
   "source": [
    "# set_cols = list(set(df.Company_Form))\n",
    "# lst_ids = list(range(len(set_cols)))\n",
    "# cols_dict = dict(zip(set_cols, lst_ids))\n",
    "# company_form_ids = []\n",
    "# for form in df.Company_Form:\n",
    "#     x = cols_dict[form]\n",
    "#     company_form_ids.append(x)"
   ]
  },
  {
   "cell_type": "code",
   "execution_count": null,
   "metadata": {},
   "outputs": [],
   "source": [
    "# df['Company_Form_ordinal'] = company_form_ids\n",
    "# df.to_json('../Data/MembersOfVdZ.json')"
   ]
  },
  {
   "cell_type": "code",
   "execution_count": 17,
   "metadata": {},
   "outputs": [
    {
     "data": {
      "text/html": [
       "<div>\n",
       "<style scoped>\n",
       "    .dataframe tbody tr th:only-of-type {\n",
       "        vertical-align: middle;\n",
       "    }\n",
       "\n",
       "    .dataframe tbody tr th {\n",
       "        vertical-align: top;\n",
       "    }\n",
       "\n",
       "    .dataframe thead th {\n",
       "        text-align: right;\n",
       "    }\n",
       "</style>\n",
       "<table border=\"1\" class=\"dataframe\">\n",
       "  <thead>\n",
       "    <tr style=\"text-align: right;\">\n",
       "      <th></th>\n",
       "      <th>ID</th>\n",
       "      <th>Zoo_Name</th>\n",
       "      <th>Country</th>\n",
       "      <th>State</th>\n",
       "      <th>City</th>\n",
       "      <th>Company_Form</th>\n",
       "      <th>Company_Form_ordinal</th>\n",
       "    </tr>\n",
       "  </thead>\n",
       "  <tbody>\n",
       "    <tr>\n",
       "      <th>5</th>\n",
       "      <td>6</td>\n",
       "      <td>Tierpark Hellabrunn</td>\n",
       "      <td>DE</td>\n",
       "      <td>BY</td>\n",
       "      <td>München</td>\n",
       "      <td>AG</td>\n",
       "      <td>7</td>\n",
       "    </tr>\n",
       "    <tr>\n",
       "      <th>8</th>\n",
       "      <td>9</td>\n",
       "      <td>Tierpark Berlin-Friedrichsfelde</td>\n",
       "      <td>DE</td>\n",
       "      <td>BE</td>\n",
       "      <td>Berlin</td>\n",
       "      <td>AG</td>\n",
       "      <td>7</td>\n",
       "    </tr>\n",
       "    <tr>\n",
       "      <th>9</th>\n",
       "      <td>10</td>\n",
       "      <td>Zoo Berlin</td>\n",
       "      <td>DE</td>\n",
       "      <td>BE</td>\n",
       "      <td>Berlin</td>\n",
       "      <td>AG</td>\n",
       "      <td>7</td>\n",
       "    </tr>\n",
       "    <tr>\n",
       "      <th>29</th>\n",
       "      <td>30</td>\n",
       "      <td>Aachener Tierpark</td>\n",
       "      <td>DE</td>\n",
       "      <td>NW</td>\n",
       "      <td>Aachen</td>\n",
       "      <td>AG</td>\n",
       "      <td>7</td>\n",
       "    </tr>\n",
       "    <tr>\n",
       "      <th>36</th>\n",
       "      <td>37</td>\n",
       "      <td>Kölner Zoo</td>\n",
       "      <td>DE</td>\n",
       "      <td>NW</td>\n",
       "      <td>Köln</td>\n",
       "      <td>AG</td>\n",
       "      <td>7</td>\n",
       "    </tr>\n",
       "    <tr>\n",
       "      <th>65</th>\n",
       "      <td>66</td>\n",
       "      <td>Walter Zoo</td>\n",
       "      <td>CH</td>\n",
       "      <td>None</td>\n",
       "      <td>Gossau</td>\n",
       "      <td>AG</td>\n",
       "      <td>7</td>\n",
       "    </tr>\n",
       "    <tr>\n",
       "      <th>67</th>\n",
       "      <td>68</td>\n",
       "      <td>Zoo Zürich</td>\n",
       "      <td>CH</td>\n",
       "      <td>None</td>\n",
       "      <td>Zürich</td>\n",
       "      <td>AG</td>\n",
       "      <td>7</td>\n",
       "    </tr>\n",
       "  </tbody>\n",
       "</table>\n",
       "</div>"
      ],
      "text/plain": [
       "    ID                         Zoo_Name Country State     City Company_Form  \\\n",
       "5    6              Tierpark Hellabrunn      DE    BY  München           AG   \n",
       "8    9  Tierpark Berlin-Friedrichsfelde      DE    BE   Berlin           AG   \n",
       "9   10                       Zoo Berlin      DE    BE   Berlin           AG   \n",
       "29  30                Aachener Tierpark      DE    NW   Aachen           AG   \n",
       "36  37                       Kölner Zoo      DE    NW     Köln           AG   \n",
       "65  66                       Walter Zoo      CH  None   Gossau           AG   \n",
       "67  68                       Zoo Zürich      CH  None   Zürich           AG   \n",
       "\n",
       "    Company_Form_ordinal  \n",
       "5                      7  \n",
       "8                      7  \n",
       "9                      7  \n",
       "29                     7  \n",
       "36                     7  \n",
       "65                     7  \n",
       "67                     7  "
      ]
     },
     "execution_count": 17,
     "metadata": {},
     "output_type": "execute_result"
    }
   ],
   "source": [
    "df_new = df.copy()\n",
    "df_new = df_new[df['Company_Form'] == 'AG']\n",
    "df_new"
   ]
  },
  {
   "cell_type": "code",
   "execution_count": 19,
   "metadata": {},
   "outputs": [
    {
     "data": {
      "image/png": "[encoded data removed]",
      "text/plain": [
       "<Figure size 640x480 with 1 Axes>"
      ]
     },
     "metadata": {},
     "output_type": "display_data"
    }
   ],
   "source": [
    "plt.hist(df.Company_Form_ordinal)\n",
    "# plt.xlabel(list())\n",
    "plt.show()"
   ]
  },
  {
   "cell_type": "code",
   "execution_count": 25,
   "metadata": {},
   "outputs": [
    {
     "data": {
      "image/png": "[encoded data removed]",
      "text/plain": [
       "<Figure size 640x480 with 1 Axes>"
      ]
     },
     "metadata": {},
     "output_type": "display_data"
    }
   ],
   "source": [
    "sns.histplot(df.Company_Form)\n",
    "plt.xticks(rotation=90)\n",
    "plt.show()"
   ]
  }
 ],
 "metadata": {
  "kernelspec": {
   "display_name": "projects",
   "language": "python",
   "name": "python3"
  },
  "language_info": {
   "codemirror_mode": {
    "name": "ipython",
    "version": 3
   },
   "file_extension": ".py",
   "mimetype": "text/x-python",
   "name": "python",
   "nbconvert_exporter": "python",
   "pygments_lexer": "ipython3",
   "version": "3.12.8"
  }
 },
 "nbformat": 4,
 "nbformat_minor": 2
}
