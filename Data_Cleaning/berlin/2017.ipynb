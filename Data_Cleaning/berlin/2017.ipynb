{
 "cells": [
  {
   "cell_type": "markdown",
   "metadata": {},
   "source": [
    "# Imports"
   ]
  },
  {
   "cell_type": "code",
   "execution_count": 1,
   "metadata": {},
   "outputs": [],
   "source": [
    "import numpy as np\n",
    "import pandas as pd"
   ]
  },
  {
   "cell_type": "code",
   "execution_count": 2,
   "metadata": {},
   "outputs": [],
   "source": [
    "from tabula import read_pdf"
   ]
  },
  {
   "cell_type": "code",
   "execution_count": 3,
   "metadata": {},
   "outputs": [],
   "source": [
    "# import os\n",
    "# jave_home = 'C:/Program Files/Java/jre1.8.0_441'\n",
    "# os.environ['JAVA_HOME'] = jave_home\n",
    "# os.environ['PATH'] += os.environ['PATH'] + ':/Program Files/Java/jre1.8.0_441/bin'"
   ]
  },
  {
   "cell_type": "markdown",
   "metadata": {},
   "source": [
    "# Functions"
   ]
  },
  {
   "cell_type": "code",
   "execution_count": null,
   "metadata": {},
   "outputs": [],
   "source": []
  },
  {
   "cell_type": "markdown",
   "metadata": {},
   "source": [
    "# Data Import"
   ]
  },
  {
   "cell_type": "code",
   "execution_count": 4,
   "metadata": {},
   "outputs": [
    {
     "name": "stderr",
     "output_type": "stream",
     "text": [
      "Failed to import jpype dependencies. Fallback to subprocess.\n",
      "No module named 'jpype'\n"
     ]
    }
   ],
   "source": [
    "data_path = \"../../../VdZ_Geschäftsberichte/Berlin/Geschaeftsbericht_AG_2017.pdf\"\n",
    "activa = read_pdf(data_path, pages=\"all\")"
   ]
  },
  {
   "cell_type": "code",
   "execution_count": 14,
   "metadata": {},
   "outputs": [],
   "source": [
    "d18 = \"../../../VdZ_Geschäftsberichte/Berlin/Geschaeftsbericht_AG_2018.pdf\"\n",
    "dfs18 = read_pdf(d18, pages=\"all\")"
   ]
  },
  {
   "cell_type": "code",
   "execution_count": 18,
   "metadata": {},
   "outputs": [
    {
     "data": {
      "text/html": [
       "<div>\n",
       "<style scoped>\n",
       "    .dataframe tbody tr th:only-of-type {\n",
       "        vertical-align: middle;\n",
       "    }\n",
       "\n",
       "    .dataframe tbody tr th {\n",
       "        vertical-align: top;\n",
       "    }\n",
       "\n",
       "    .dataframe thead th {\n",
       "        text-align: right;\n",
       "    }\n",
       "</style>\n",
       "<table border=\"1\" class=\"dataframe\">\n",
       "  <thead>\n",
       "    <tr style=\"text-align: right;\">\n",
       "      <th></th>\n",
       "      <th>D.</th>\n",
       "      <th>VERBINDLICHKEITEN</th>\n",
       "      <th>Unnamed: 0</th>\n",
       "      <th>Unnamed: 1</th>\n",
       "    </tr>\n",
       "  </thead>\n",
       "  <tbody>\n",
       "    <tr>\n",
       "      <th>0</th>\n",
       "      <td>NaN</td>\n",
       "      <td>NaN</td>\n",
       "      <td>NaN</td>\n",
       "      <td>NaN</td>\n",
       "    </tr>\n",
       "    <tr>\n",
       "      <th>1</th>\n",
       "      <td>1.Erhaltene Anzahlungen auf Bestellungen\\r- da...</td>\n",
       "      <td>98.815,10</td>\n",
       "      <td>89.187,50</td>\n",
       "      <td>NaN</td>\n",
       "    </tr>\n",
       "    <tr>\n",
       "      <th>2</th>\n",
       "      <td>2.Verbindlichkeiten aus Lieferungen und Leistu...</td>\n",
       "      <td>2.296.312,66</td>\n",
       "      <td>1.867.572,03</td>\n",
       "      <td>NaN</td>\n",
       "    </tr>\n",
       "    <tr>\n",
       "      <th>3</th>\n",
       "      <td>3.Sonstige Verbindlichkeiten:\\r- davon aus Ste...</td>\n",
       "      <td>542.912,57</td>\n",
       "      <td>979.946,76</td>\n",
       "      <td>NaN</td>\n",
       "    </tr>\n",
       "    <tr>\n",
       "      <th>4</th>\n",
       "      <td>Summe Verbindlichkeiten</td>\n",
       "      <td>2.938.040,33</td>\n",
       "      <td>2.936.706,29</td>\n",
       "      <td>NaN</td>\n",
       "    </tr>\n",
       "  </tbody>\n",
       "</table>\n",
       "</div>"
      ],
      "text/plain": [
       "                                                  D. VERBINDLICHKEITEN  \\\n",
       "0                                                NaN               NaN   \n",
       "1  1.Erhaltene Anzahlungen auf Bestellungen\\r- da...         98.815,10   \n",
       "2  2.Verbindlichkeiten aus Lieferungen und Leistu...      2.296.312,66   \n",
       "3  3.Sonstige Verbindlichkeiten:\\r- davon aus Ste...        542.912,57   \n",
       "4                            Summe Verbindlichkeiten      2.938.040,33   \n",
       "\n",
       "     Unnamed: 0  Unnamed: 1  \n",
       "0           NaN         NaN  \n",
       "1     89.187,50         NaN  \n",
       "2  1.867.572,03         NaN  \n",
       "3    979.946,76         NaN  \n",
       "4  2.936.706,29         NaN  "
      ]
     },
     "execution_count": 18,
     "metadata": {},
     "output_type": "execute_result"
    }
   ],
   "source": [
    "dfs18[15]"
   ]
  },
  {
   "cell_type": "code",
   "execution_count": 8,
   "metadata": {},
   "outputs": [],
   "source": [
    "dfs_list = activa"
   ]
  },
  {
   "cell_type": "code",
   "execution_count": 13,
   "metadata": {},
   "outputs": [
    {
     "data": {
      "text/html": [
       "<div>\n",
       "<style scoped>\n",
       "    .dataframe tbody tr th:only-of-type {\n",
       "        vertical-align: middle;\n",
       "    }\n",
       "\n",
       "    .dataframe tbody tr th {\n",
       "        vertical-align: top;\n",
       "    }\n",
       "\n",
       "    .dataframe thead th {\n",
       "        text-align: right;\n",
       "    }\n",
       "</style>\n",
       "<table border=\"1\" class=\"dataframe\">\n",
       "  <thead>\n",
       "    <tr style=\"text-align: right;\">\n",
       "      <th></th>\n",
       "      <th>C.</th>\n",
       "      <th>VERBINDLICHKEITEN</th>\n",
       "      <th>Unnamed: 0</th>\n",
       "      <th>Unnamed: 1</th>\n",
       "    </tr>\n",
       "  </thead>\n",
       "  <tbody>\n",
       "    <tr>\n",
       "      <th>0</th>\n",
       "      <td>1.Erhaltene Anzahlungen auf Bestellungen\\r- da...</td>\n",
       "      <td>89.187,50</td>\n",
       "      <td>88.217,00</td>\n",
       "      <td>NaN</td>\n",
       "    </tr>\n",
       "    <tr>\n",
       "      <th>1</th>\n",
       "      <td>2.Verbindlichkeiten aus Lieferungen und Leistu...</td>\n",
       "      <td>1.867.572,03</td>\n",
       "      <td>1.466.533,15</td>\n",
       "      <td>NaN</td>\n",
       "    </tr>\n",
       "    <tr>\n",
       "      <th>2</th>\n",
       "      <td>3.Sonstige Verbindlichkeiten:\\r- davon aus Ste...</td>\n",
       "      <td>979.946,76</td>\n",
       "      <td>850.820,03</td>\n",
       "      <td>NaN</td>\n",
       "    </tr>\n",
       "    <tr>\n",
       "      <th>3</th>\n",
       "      <td>Summe Verbindlichkeiten</td>\n",
       "      <td>2.936.706,29</td>\n",
       "      <td>2.405.570,18</td>\n",
       "      <td>NaN</td>\n",
       "    </tr>\n",
       "  </tbody>\n",
       "</table>\n",
       "</div>"
      ],
      "text/plain": [
       "                                                  C. VERBINDLICHKEITEN  \\\n",
       "0  1.Erhaltene Anzahlungen auf Bestellungen\\r- da...         89.187,50   \n",
       "1  2.Verbindlichkeiten aus Lieferungen und Leistu...      1.867.572,03   \n",
       "2  3.Sonstige Verbindlichkeiten:\\r- davon aus Ste...        979.946,76   \n",
       "3                            Summe Verbindlichkeiten      2.936.706,29   \n",
       "\n",
       "     Unnamed: 0  Unnamed: 1  \n",
       "0     88.217,00         NaN  \n",
       "1  1.466.533,15         NaN  \n",
       "2    850.820,03         NaN  \n",
       "3  2.405.570,18         NaN  "
      ]
     },
     "execution_count": 13,
     "metadata": {},
     "output_type": "execute_result"
    }
   ],
   "source": [
    "dfs_list[13]"
   ]
  },
  {
   "cell_type": "code",
   "execution_count": null,
   "metadata": {},
   "outputs": [],
   "source": []
  }
 ],
 "metadata": {
  "kernelspec": {
   "display_name": "projects",
   "language": "python",
   "name": "python3"
  },
  "language_info": {
   "codemirror_mode": {
    "name": "ipython",
    "version": 3
   },
   "file_extension": ".py",
   "mimetype": "text/x-python",
   "name": "python",
   "nbconvert_exporter": "python",
   "pygments_lexer": "ipython3",
   "version": "3.12.8"
  }
 },
 "nbformat": 4,
 "nbformat_minor": 2
}
