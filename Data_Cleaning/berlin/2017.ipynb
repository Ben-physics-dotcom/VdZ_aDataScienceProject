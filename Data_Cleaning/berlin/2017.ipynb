{
 "cells": [
  {
   "cell_type": "markdown",
   "metadata": {},
   "source": [
    "# Imports"
   ]
  },
  {
   "cell_type": "code",
   "execution_count": 1,
   "metadata": {},
   "outputs": [],
   "source": [
    "import numpy as np\n",
    "import pandas as pd"
   ]
  },
  {
   "cell_type": "code",
   "execution_count": 2,
   "metadata": {},
   "outputs": [],
   "source": [
    "from tabula import read_pdf"
   ]
  },
  {
   "cell_type": "code",
   "execution_count": 17,
   "metadata": {},
   "outputs": [],
   "source": [
    "import sys\n",
    "import os\n",
    "sys.path.append(os.path.abspath('../../Python_Code'))\n",
    "from CleaningData import Berlin\n",
    "B = Berlin()"
   ]
  },
  {
   "cell_type": "markdown",
   "metadata": {},
   "source": [
    "# Functions"
   ]
  },
  {
   "cell_type": "code",
   "execution_count": null,
   "metadata": {},
   "outputs": [],
   "source": []
  },
  {
   "cell_type": "markdown",
   "metadata": {},
   "source": [
    "# Data Import"
   ]
  },
  {
   "cell_type": "code",
   "execution_count": 5,
   "metadata": {},
   "outputs": [
    {
     "name": "stderr",
     "output_type": "stream",
     "text": [
      "Failed to import jpype dependencies. Fallback to subprocess.\n",
      "No module named 'jpype'\n"
     ]
    }
   ],
   "source": [
    "data_path = \"../../../VdZ_Geschäftsberichte/Berlin/Geschaeftsbericht_AG_2017.pdf\"\n",
    "activa = read_pdf(data_path, pages=\"all\")"
   ]
  },
  {
   "cell_type": "code",
   "execution_count": 6,
   "metadata": {},
   "outputs": [],
   "source": [
    "dfs_list = activa"
   ]
  },
  {
   "cell_type": "code",
   "execution_count": 7,
   "metadata": {},
   "outputs": [
    {
     "data": {
      "text/html": [
       "<div>\n",
       "<style scoped>\n",
       "    .dataframe tbody tr th:only-of-type {\n",
       "        vertical-align: middle;\n",
       "    }\n",
       "\n",
       "    .dataframe tbody tr th {\n",
       "        vertical-align: top;\n",
       "    }\n",
       "\n",
       "    .dataframe thead th {\n",
       "        text-align: right;\n",
       "    }\n",
       "</style>\n",
       "<table border=\"1\" class=\"dataframe\">\n",
       "  <thead>\n",
       "    <tr style=\"text-align: right;\">\n",
       "      <th></th>\n",
       "      <th>C.</th>\n",
       "      <th>VERBINDLICHKEITEN</th>\n",
       "      <th>Unnamed: 0</th>\n",
       "      <th>Unnamed: 1</th>\n",
       "    </tr>\n",
       "  </thead>\n",
       "  <tbody>\n",
       "    <tr>\n",
       "      <th>0</th>\n",
       "      <td>1.Erhaltene Anzahlungen auf Bestellungen\\r- da...</td>\n",
       "      <td>89.187,50</td>\n",
       "      <td>88.217,00</td>\n",
       "      <td>NaN</td>\n",
       "    </tr>\n",
       "    <tr>\n",
       "      <th>1</th>\n",
       "      <td>2.Verbindlichkeiten aus Lieferungen und Leistu...</td>\n",
       "      <td>1.867.572,03</td>\n",
       "      <td>1.466.533,15</td>\n",
       "      <td>NaN</td>\n",
       "    </tr>\n",
       "    <tr>\n",
       "      <th>2</th>\n",
       "      <td>3.Sonstige Verbindlichkeiten:\\r- davon aus Ste...</td>\n",
       "      <td>979.946,76</td>\n",
       "      <td>850.820,03</td>\n",
       "      <td>NaN</td>\n",
       "    </tr>\n",
       "    <tr>\n",
       "      <th>3</th>\n",
       "      <td>Summe Verbindlichkeiten</td>\n",
       "      <td>2.936.706,29</td>\n",
       "      <td>2.405.570,18</td>\n",
       "      <td>NaN</td>\n",
       "    </tr>\n",
       "  </tbody>\n",
       "</table>\n",
       "</div>"
      ],
      "text/plain": [
       "                                                  C. VERBINDLICHKEITEN  \\\n",
       "0  1.Erhaltene Anzahlungen auf Bestellungen\\r- da...         89.187,50   \n",
       "1  2.Verbindlichkeiten aus Lieferungen und Leistu...      1.867.572,03   \n",
       "2  3.Sonstige Verbindlichkeiten:\\r- davon aus Ste...        979.946,76   \n",
       "3                            Summe Verbindlichkeiten      2.936.706,29   \n",
       "\n",
       "     Unnamed: 0  Unnamed: 1  \n",
       "0     88.217,00         NaN  \n",
       "1  1.466.533,15         NaN  \n",
       "2    850.820,03         NaN  \n",
       "3  2.405.570,18         NaN  "
      ]
     },
     "execution_count": 7,
     "metadata": {},
     "output_type": "execute_result"
    }
   ],
   "source": [
    "dfs_list[13]"
   ]
  },
  {
   "cell_type": "code",
   "execution_count": null,
   "metadata": {},
   "outputs": [],
   "source": []
  },
  {
   "cell_type": "markdown",
   "metadata": {},
   "source": [
    "# 2017"
   ]
  },
  {
   "cell_type": "markdown",
   "metadata": {},
   "source": [
    "## Eintrittskarten"
   ]
  },
  {
   "cell_type": "markdown",
   "metadata": {},
   "source": [
    "### Eintrittskarten Zoo"
   ]
  },
  {
   "cell_type": "code",
   "execution_count": 13,
   "metadata": {},
   "outputs": [
    {
     "data": {
      "text/html": [
       "<div>\n",
       "<style scoped>\n",
       "    .dataframe tbody tr th:only-of-type {\n",
       "        vertical-align: middle;\n",
       "    }\n",
       "\n",
       "    .dataframe tbody tr th {\n",
       "        vertical-align: top;\n",
       "    }\n",
       "\n",
       "    .dataframe thead th {\n",
       "        text-align: right;\n",
       "    }\n",
       "</style>\n",
       "<table border=\"1\" class=\"dataframe\">\n",
       "  <thead>\n",
       "    <tr style=\"text-align: right;\">\n",
       "      <th></th>\n",
       "      <th>Tagestickets Zoo</th>\n",
       "      <th>Eintrittskarten 2017</th>\n",
       "      <th>Eintrittskarten 2016</th>\n",
       "      <th>+/- Vorjahr in %</th>\n",
       "    </tr>\n",
       "  </thead>\n",
       "  <tbody>\n",
       "    <tr>\n",
       "      <th>0</th>\n",
       "      <td>Erwachsene</td>\n",
       "      <td>690.974</td>\n",
       "      <td>653.801</td>\n",
       "      <td>6 %</td>\n",
       "    </tr>\n",
       "    <tr>\n",
       "      <th>1</th>\n",
       "      <td>NaN</td>\n",
       "      <td>160.409</td>\n",
       "      <td>163.532</td>\n",
       "      <td>NaN</td>\n",
       "    </tr>\n",
       "    <tr>\n",
       "      <th>2</th>\n",
       "      <td>Kinder</td>\n",
       "      <td>107.606</td>\n",
       "      <td>101.820</td>\n",
       "      <td>6 %</td>\n",
       "    </tr>\n",
       "    <tr>\n",
       "      <th>3</th>\n",
       "      <td>NaN</td>\n",
       "      <td>262.132</td>\n",
       "      <td>211.813</td>\n",
       "      <td>NaN</td>\n",
       "    </tr>\n",
       "    <tr>\n",
       "      <th>4</th>\n",
       "      <td>Andere Eintrittsgelder</td>\n",
       "      <td>17.662</td>\n",
       "      <td>23.932</td>\n",
       "      <td>-26 %</td>\n",
       "    </tr>\n",
       "    <tr>\n",
       "      <th>5</th>\n",
       "      <td>Summe Tagestickets Zoo</td>\n",
       "      <td>1.238.783</td>\n",
       "      <td>1.154.898</td>\n",
       "      <td>7 %</td>\n",
       "    </tr>\n",
       "  </tbody>\n",
       "</table>\n",
       "</div>"
      ],
      "text/plain": [
       "         Tagestickets Zoo Eintrittskarten 2017 Eintrittskarten 2016  \\\n",
       "0              Erwachsene              690.974              653.801   \n",
       "1                     NaN              160.409              163.532   \n",
       "2                  Kinder              107.606              101.820   \n",
       "3                     NaN              262.132              211.813   \n",
       "4  Andere Eintrittsgelder               17.662               23.932   \n",
       "5  Summe Tagestickets Zoo            1.238.783            1.154.898   \n",
       "\n",
       "  +/- Vorjahr in %  \n",
       "0              6 %  \n",
       "1              NaN  \n",
       "2              6 %  \n",
       "3              NaN  \n",
       "4            -26 %  \n",
       "5              7 %  "
      ]
     },
     "execution_count": 13,
     "metadata": {},
     "output_type": "execute_result"
    }
   ],
   "source": [
    "dfs_list[1]"
   ]
  },
  {
   "cell_type": "code",
   "execution_count": 24,
   "metadata": {},
   "outputs": [
    {
     "data": {
      "text/html": [
       "<div>\n",
       "<style scoped>\n",
       "    .dataframe tbody tr th:only-of-type {\n",
       "        vertical-align: middle;\n",
       "    }\n",
       "\n",
       "    .dataframe tbody tr th {\n",
       "        vertical-align: top;\n",
       "    }\n",
       "\n",
       "    .dataframe thead th {\n",
       "        text-align: right;\n",
       "    }\n",
       "</style>\n",
       "<table border=\"1\" class=\"dataframe\">\n",
       "  <thead>\n",
       "    <tr style=\"text-align: right;\">\n",
       "      <th></th>\n",
       "      <th>Tagestickets Zoo</th>\n",
       "      <th>Eintrittskarten 2017</th>\n",
       "      <th>Eintrittskarten 2016</th>\n",
       "      <th>+/- Vorjahr in %</th>\n",
       "    </tr>\n",
       "  </thead>\n",
       "  <tbody>\n",
       "    <tr>\n",
       "      <th>0</th>\n",
       "      <td>Erwachsene</td>\n",
       "      <td>690974.0</td>\n",
       "      <td>653.801</td>\n",
       "      <td>6 %</td>\n",
       "    </tr>\n",
       "    <tr>\n",
       "      <th>1</th>\n",
       "      <td>Ermaesigte</td>\n",
       "      <td>160409.0</td>\n",
       "      <td>163.532</td>\n",
       "      <td>NaN</td>\n",
       "    </tr>\n",
       "    <tr>\n",
       "      <th>2</th>\n",
       "      <td>Kinder</td>\n",
       "      <td>107606.0</td>\n",
       "      <td>101.820</td>\n",
       "      <td>6 %</td>\n",
       "    </tr>\n",
       "    <tr>\n",
       "      <th>3</th>\n",
       "      <td>Familien</td>\n",
       "      <td>262132.0</td>\n",
       "      <td>211.813</td>\n",
       "      <td>NaN</td>\n",
       "    </tr>\n",
       "    <tr>\n",
       "      <th>4</th>\n",
       "      <td>Andere Eintrittsgelder</td>\n",
       "      <td>17662.0</td>\n",
       "      <td>23.932</td>\n",
       "      <td>-26 %</td>\n",
       "    </tr>\n",
       "    <tr>\n",
       "      <th>5</th>\n",
       "      <td>Summe Tagestickets Zoo</td>\n",
       "      <td>1238783.0</td>\n",
       "      <td>1.154.898</td>\n",
       "      <td>7 %</td>\n",
       "    </tr>\n",
       "  </tbody>\n",
       "</table>\n",
       "</div>"
      ],
      "text/plain": [
       "         Tagestickets Zoo  Eintrittskarten 2017 Eintrittskarten 2016  \\\n",
       "0              Erwachsene              690974.0              653.801   \n",
       "1              Ermaesigte              160409.0              163.532   \n",
       "2                  Kinder              107606.0              101.820   \n",
       "3                Familien              262132.0              211.813   \n",
       "4  Andere Eintrittsgelder               17662.0               23.932   \n",
       "5  Summe Tagestickets Zoo             1238783.0            1.154.898   \n",
       "\n",
       "  +/- Vorjahr in %  \n",
       "0              6 %  \n",
       "1              NaN  \n",
       "2              6 %  \n",
       "3              NaN  \n",
       "4            -26 %  \n",
       "5              7 %  "
      ]
     },
     "execution_count": 24,
     "metadata": {},
     "output_type": "execute_result"
    }
   ],
   "source": [
    "dfs_list[1]['Tagestickets Zoo'] = ['Erwachsene', 'Ermaesigte', 'Kinder', 'Familien', 'Andere Eintrittsgelder',\n",
    "                                    'Summe Tagestickets Zoo']\n",
    "dfs_list[1]"
   ]
  },
  {
   "cell_type": "code",
   "execution_count": 26,
   "metadata": {},
   "outputs": [
    {
     "data": {
      "text/html": [
       "<div>\n",
       "<style scoped>\n",
       "    .dataframe tbody tr th:only-of-type {\n",
       "        vertical-align: middle;\n",
       "    }\n",
       "\n",
       "    .dataframe tbody tr th {\n",
       "        vertical-align: top;\n",
       "    }\n",
       "\n",
       "    .dataframe thead th {\n",
       "        text-align: right;\n",
       "    }\n",
       "</style>\n",
       "<table border=\"1\" class=\"dataframe\">\n",
       "  <thead>\n",
       "    <tr style=\"text-align: right;\">\n",
       "      <th></th>\n",
       "      <th>Tagestickets Zoo</th>\n",
       "      <th>Eintrittskarten 2017</th>\n",
       "      <th>Eintrittskarten 2016</th>\n",
       "      <th>+/- Vorjahr in %</th>\n",
       "    </tr>\n",
       "  </thead>\n",
       "  <tbody>\n",
       "    <tr>\n",
       "      <th>0</th>\n",
       "      <td>Erwachsene</td>\n",
       "      <td>690974.0</td>\n",
       "      <td>653801.0</td>\n",
       "      <td>6 %</td>\n",
       "    </tr>\n",
       "    <tr>\n",
       "      <th>1</th>\n",
       "      <td>Ermaesigte</td>\n",
       "      <td>160409.0</td>\n",
       "      <td>163532.0</td>\n",
       "      <td>NaN</td>\n",
       "    </tr>\n",
       "    <tr>\n",
       "      <th>2</th>\n",
       "      <td>Kinder</td>\n",
       "      <td>107606.0</td>\n",
       "      <td>101820.0</td>\n",
       "      <td>6 %</td>\n",
       "    </tr>\n",
       "    <tr>\n",
       "      <th>3</th>\n",
       "      <td>Familien</td>\n",
       "      <td>262132.0</td>\n",
       "      <td>211813.0</td>\n",
       "      <td>NaN</td>\n",
       "    </tr>\n",
       "    <tr>\n",
       "      <th>4</th>\n",
       "      <td>Andere Eintrittsgelder</td>\n",
       "      <td>17662.0</td>\n",
       "      <td>23932.0</td>\n",
       "      <td>-26 %</td>\n",
       "    </tr>\n",
       "    <tr>\n",
       "      <th>5</th>\n",
       "      <td>Summe Tagestickets Zoo</td>\n",
       "      <td>1238783.0</td>\n",
       "      <td>1154898.0</td>\n",
       "      <td>7 %</td>\n",
       "    </tr>\n",
       "  </tbody>\n",
       "</table>\n",
       "</div>"
      ],
      "text/plain": [
       "         Tagestickets Zoo  Eintrittskarten 2017  Eintrittskarten 2016  \\\n",
       "0              Erwachsene              690974.0              653801.0   \n",
       "1              Ermaesigte              160409.0              163532.0   \n",
       "2                  Kinder              107606.0              101820.0   \n",
       "3                Familien              262132.0              211813.0   \n",
       "4  Andere Eintrittsgelder               17662.0               23932.0   \n",
       "5  Summe Tagestickets Zoo             1238783.0             1154898.0   \n",
       "\n",
       "  +/- Vorjahr in %  \n",
       "0              6 %  \n",
       "1              NaN  \n",
       "2              6 %  \n",
       "3              NaN  \n",
       "4            -26 %  \n",
       "5              7 %  "
      ]
     },
     "execution_count": 26,
     "metadata": {},
     "output_type": "execute_result"
    }
   ],
   "source": [
    "Tagestickets_Zoo = dfs_list[1]\n",
    "# Tagestickets_Zoo = str2float(Tagestickets_Zoo, 'Eintrittskarten 2017')\n",
    "Tagestickets_Zoo = str2float(Tagestickets_Zoo, 'Eintrittskarten 2016')\n",
    "\n",
    "Tagestickets_Zoo"
   ]
  },
  {
   "cell_type": "code",
   "execution_count": 27,
   "metadata": {},
   "outputs": [
    {
     "data": {
      "text/html": [
       "<div>\n",
       "<style scoped>\n",
       "    .dataframe tbody tr th:only-of-type {\n",
       "        vertical-align: middle;\n",
       "    }\n",
       "\n",
       "    .dataframe tbody tr th {\n",
       "        vertical-align: top;\n",
       "    }\n",
       "\n",
       "    .dataframe thead th {\n",
       "        text-align: right;\n",
       "    }\n",
       "</style>\n",
       "<table border=\"1\" class=\"dataframe\">\n",
       "  <thead>\n",
       "    <tr style=\"text-align: right;\">\n",
       "      <th></th>\n",
       "      <th>Tagestickets Zoo</th>\n",
       "      <th>Eintrittskarten 2017</th>\n",
       "      <th>Eintrittskarten 2016</th>\n",
       "      <th>+/- Vorjahr in %</th>\n",
       "    </tr>\n",
       "  </thead>\n",
       "  <tbody>\n",
       "    <tr>\n",
       "      <th>0</th>\n",
       "      <td>Erwachsene</td>\n",
       "      <td>690974.0</td>\n",
       "      <td>653801.0</td>\n",
       "      <td>6.0</td>\n",
       "    </tr>\n",
       "    <tr>\n",
       "      <th>1</th>\n",
       "      <td>Ermaesigte</td>\n",
       "      <td>160409.0</td>\n",
       "      <td>163532.0</td>\n",
       "      <td>NaN</td>\n",
       "    </tr>\n",
       "    <tr>\n",
       "      <th>2</th>\n",
       "      <td>Kinder</td>\n",
       "      <td>107606.0</td>\n",
       "      <td>101820.0</td>\n",
       "      <td>6.0</td>\n",
       "    </tr>\n",
       "    <tr>\n",
       "      <th>3</th>\n",
       "      <td>Familien</td>\n",
       "      <td>262132.0</td>\n",
       "      <td>211813.0</td>\n",
       "      <td>NaN</td>\n",
       "    </tr>\n",
       "    <tr>\n",
       "      <th>4</th>\n",
       "      <td>Andere Eintrittsgelder</td>\n",
       "      <td>17662.0</td>\n",
       "      <td>23932.0</td>\n",
       "      <td>-26.0</td>\n",
       "    </tr>\n",
       "    <tr>\n",
       "      <th>5</th>\n",
       "      <td>Summe Tagestickets Zoo</td>\n",
       "      <td>1238783.0</td>\n",
       "      <td>1154898.0</td>\n",
       "      <td>7.0</td>\n",
       "    </tr>\n",
       "  </tbody>\n",
       "</table>\n",
       "</div>"
      ],
      "text/plain": [
       "         Tagestickets Zoo  Eintrittskarten 2017  Eintrittskarten 2016  \\\n",
       "0              Erwachsene              690974.0              653801.0   \n",
       "1              Ermaesigte              160409.0              163532.0   \n",
       "2                  Kinder              107606.0              101820.0   \n",
       "3                Familien              262132.0              211813.0   \n",
       "4  Andere Eintrittsgelder               17662.0               23932.0   \n",
       "5  Summe Tagestickets Zoo             1238783.0             1154898.0   \n",
       "\n",
       "   +/- Vorjahr in %  \n",
       "0               6.0  \n",
       "1               NaN  \n",
       "2               6.0  \n",
       "3               NaN  \n",
       "4             -26.0  \n",
       "5               7.0  "
      ]
     },
     "execution_count": 27,
     "metadata": {},
     "output_type": "execute_result"
    }
   ],
   "source": [
    "Tagestickets_Zoo = percentage2float(Tagestickets_Zoo, '+/- Vorjahr in %')\n",
    "Tagestickets_Zoo"
   ]
  },
  {
   "cell_type": "code",
   "execution_count": null,
   "metadata": {},
   "outputs": [],
   "source": [
    "Tagestickets_Zoo.iloc[1, 3] = -2.0\n",
    "Tagestickets_Zoo.iloc[3, 3] = 24.0"
   ]
  },
  {
   "cell_type": "code",
   "execution_count": 32,
   "metadata": {},
   "outputs": [],
   "source": [
    "year = np.ones(len(Tagestickets_Zoo)) * 2017\n",
    "pastyear = np.ones(len(Tagestickets_Zoo)) * 2016\n",
    "Tagestickets_Zoo['Jahr'] = year\n",
    "Tagestickets_Zoo['Vorjahr'] = pastyear"
   ]
  },
  {
   "cell_type": "code",
   "execution_count": 44,
   "metadata": {},
   "outputs": [
    {
     "data": {
      "text/plain": [
       "array([2017, 2017, 2017, 2017, 2017, 2017])"
      ]
     },
     "execution_count": 44,
     "metadata": {},
     "output_type": "execute_result"
    }
   ],
   "source": [
    "year.astype(int)"
   ]
  },
  {
   "cell_type": "code",
   "execution_count": 34,
   "metadata": {},
   "outputs": [],
   "source": [
    "Tagestickets_Zoo['Jahr'] = Tagestickets_Zoo['Jahr'].astype(int)\n",
    "Tagestickets_Zoo['Vorjahr'] = Tagestickets_Zoo['Vorjahr'].astype(int)"
   ]
  },
  {
   "cell_type": "code",
   "execution_count": 38,
   "metadata": {},
   "outputs": [],
   "source": [
    "Tagestickets_Zoo = Tagestickets_Zoo[['Tagestickets Zoo', 'Jahr', 'Eintrittskarten 2017',\n",
    "                                    'Vorjahr', 'Eintrittskarten 2016', '+/- Vorjahr in %']]\n",
    "Tagestickets_Zoo = Tagestickets_Zoo.rename(columns={'Eintrittskarten 2017': 'Eintrittskarten',\n",
    "                                                    'Eintrittskarten 2016': 'Vorjahres Eintrittskarten'})"
   ]
  },
  {
   "cell_type": "code",
   "execution_count": 39,
   "metadata": {},
   "outputs": [
    {
     "data": {
      "text/html": [
       "<div>\n",
       "<style scoped>\n",
       "    .dataframe tbody tr th:only-of-type {\n",
       "        vertical-align: middle;\n",
       "    }\n",
       "\n",
       "    .dataframe tbody tr th {\n",
       "        vertical-align: top;\n",
       "    }\n",
       "\n",
       "    .dataframe thead th {\n",
       "        text-align: right;\n",
       "    }\n",
       "</style>\n",
       "<table border=\"1\" class=\"dataframe\">\n",
       "  <thead>\n",
       "    <tr style=\"text-align: right;\">\n",
       "      <th></th>\n",
       "      <th>Tagestickets Zoo</th>\n",
       "      <th>Jahr</th>\n",
       "      <th>Eintrittskarten</th>\n",
       "      <th>Vorjahr</th>\n",
       "      <th>Vorjahres Eintrittskarten</th>\n",
       "      <th>+/- Vorjahr in %</th>\n",
       "    </tr>\n",
       "  </thead>\n",
       "  <tbody>\n",
       "    <tr>\n",
       "      <th>0</th>\n",
       "      <td>Erwachsene</td>\n",
       "      <td>2017</td>\n",
       "      <td>690974.0</td>\n",
       "      <td>2016</td>\n",
       "      <td>653801.0</td>\n",
       "      <td>6.0</td>\n",
       "    </tr>\n",
       "    <tr>\n",
       "      <th>1</th>\n",
       "      <td>Ermaesigte</td>\n",
       "      <td>2017</td>\n",
       "      <td>160409.0</td>\n",
       "      <td>2016</td>\n",
       "      <td>163532.0</td>\n",
       "      <td>-2.0</td>\n",
       "    </tr>\n",
       "    <tr>\n",
       "      <th>2</th>\n",
       "      <td>Kinder</td>\n",
       "      <td>2017</td>\n",
       "      <td>107606.0</td>\n",
       "      <td>2016</td>\n",
       "      <td>101820.0</td>\n",
       "      <td>6.0</td>\n",
       "    </tr>\n",
       "    <tr>\n",
       "      <th>3</th>\n",
       "      <td>Familien</td>\n",
       "      <td>2017</td>\n",
       "      <td>262132.0</td>\n",
       "      <td>2016</td>\n",
       "      <td>211813.0</td>\n",
       "      <td>24.0</td>\n",
       "    </tr>\n",
       "    <tr>\n",
       "      <th>4</th>\n",
       "      <td>Andere Eintrittsgelder</td>\n",
       "      <td>2017</td>\n",
       "      <td>17662.0</td>\n",
       "      <td>2016</td>\n",
       "      <td>23932.0</td>\n",
       "      <td>-26.0</td>\n",
       "    </tr>\n",
       "    <tr>\n",
       "      <th>5</th>\n",
       "      <td>Summe Tagestickets Zoo</td>\n",
       "      <td>2017</td>\n",
       "      <td>1238783.0</td>\n",
       "      <td>2016</td>\n",
       "      <td>1154898.0</td>\n",
       "      <td>7.0</td>\n",
       "    </tr>\n",
       "  </tbody>\n",
       "</table>\n",
       "</div>"
      ],
      "text/plain": [
       "         Tagestickets Zoo  Jahr  Eintrittskarten  Vorjahr  \\\n",
       "0              Erwachsene  2017         690974.0     2016   \n",
       "1              Ermaesigte  2017         160409.0     2016   \n",
       "2                  Kinder  2017         107606.0     2016   \n",
       "3                Familien  2017         262132.0     2016   \n",
       "4  Andere Eintrittsgelder  2017          17662.0     2016   \n",
       "5  Summe Tagestickets Zoo  2017        1238783.0     2016   \n",
       "\n",
       "   Vorjahres Eintrittskarten  +/- Vorjahr in %  \n",
       "0                   653801.0               6.0  \n",
       "1                   163532.0              -2.0  \n",
       "2                   101820.0               6.0  \n",
       "3                   211813.0              24.0  \n",
       "4                    23932.0             -26.0  \n",
       "5                  1154898.0               7.0  "
      ]
     },
     "execution_count": 39,
     "metadata": {},
     "output_type": "execute_result"
    }
   ],
   "source": [
    "Tagestickets_Zoo"
   ]
  },
  {
   "cell_type": "code",
   "execution_count": 41,
   "metadata": {},
   "outputs": [],
   "source": [
    "Tagestickets_Zoo.to_json('../../Data/Berlin/Tagestickets_Zoo.json', index=False)"
   ]
  },
  {
   "cell_type": "markdown",
   "metadata": {},
   "source": [
    "### Tagestickets ZooAquarium"
   ]
  },
  {
   "cell_type": "code",
   "execution_count": 18,
   "metadata": {},
   "outputs": [
    {
     "ename": "TypeError",
     "evalue": "Berlin.eintrittskarten() missing 1 required positional argument: 'self'",
     "output_type": "error",
     "traceback": [
      "\u001b[1;31m---------------------------------------------------------------------------\u001b[0m",
      "\u001b[1;31mTypeError\u001b[0m                                 Traceback (most recent call last)",
      "Cell \u001b[1;32mIn[18], line 3\u001b[0m\n\u001b[0;32m      1\u001b[0m Tagestickets_ZooAquarium \u001b[38;5;241m=\u001b[39m dfs_list[\u001b[38;5;241m2\u001b[39m]\n\u001b[0;32m      2\u001b[0m cols \u001b[38;5;241m=\u001b[39m \u001b[38;5;28mlist\u001b[39m(Tagestickets_ZooAquarium\u001b[38;5;241m.\u001b[39mcolumns)\n\u001b[1;32m----> 3\u001b[0m Tagestickets_ZooAquarium \u001b[38;5;241m=\u001b[39m B\u001b[38;5;241m.\u001b[39meintrittskarten(df\u001b[38;5;241m=\u001b[39mTagestickets_ZooAquarium, list_cols\u001b[38;5;241m=\u001b[39mcols, year\u001b[38;5;241m=\u001b[39m\u001b[38;5;241m2017\u001b[39m, past_year\u001b[38;5;241m=\u001b[39m\u001b[38;5;241m2016\u001b[39m)\n\u001b[0;32m      4\u001b[0m Tagestickets_ZooAquarium\n",
      "\u001b[1;31mTypeError\u001b[0m: Berlin.eintrittskarten() missing 1 required positional argument: 'self'"
     ]
    }
   ],
   "source": [
    "Tagestickets_ZooAquarium = dfs_list[2]\n",
    "cols = list(Tagestickets_ZooAquarium.columns)\n",
    "Tagestickets_ZooAquarium = B.eintrittskarten(df=Tagestickets_ZooAquarium, list_cols=cols, year=2017, past_year=2016)\n",
    "Tagestickets_ZooAquarium"
   ]
  }
 ],
 "metadata": {
  "kernelspec": {
   "display_name": "projects",
   "language": "python",
   "name": "python3"
  },
  "language_info": {
   "codemirror_mode": {
    "name": "ipython",
    "version": 3
   },
   "file_extension": ".py",
   "mimetype": "text/x-python",
   "name": "python",
   "nbconvert_exporter": "python",
   "pygments_lexer": "ipython3",
   "version": "3.12.8"
  }
 },
 "nbformat": 4,
 "nbformat_minor": 2
}
