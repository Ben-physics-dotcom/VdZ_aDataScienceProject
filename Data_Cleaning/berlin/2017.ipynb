{
 "cells": [
  {
   "cell_type": "markdown",
   "metadata": {},
   "source": [
    "# Imports"
   ]
  },
  {
   "cell_type": "code",
   "execution_count": 16,
   "metadata": {},
   "outputs": [],
   "source": [
    "import numpy as np\n",
    "import pandas as pd"
   ]
  },
  {
   "cell_type": "code",
   "execution_count": 17,
   "metadata": {},
   "outputs": [],
   "source": [
    "from tabula import read_pdf"
   ]
  },
  {
   "cell_type": "code",
   "execution_count": 47,
   "metadata": {},
   "outputs": [],
   "source": [
    "import sys\n",
    "import os\n",
    "sys.path.append(os.path.abspath('../../Python_Code'))\n",
    "from CleaningData import Berlin\n",
    "from CleaningData import Pdf2Json\n",
    "data_path = '../../Data'\n",
    "B = Berlin('Berlin', 2017, 2023, data_path)"
   ]
  },
  {
   "cell_type": "code",
   "execution_count": 19,
   "metadata": {},
   "outputs": [],
   "source": [
    "EK = Berlin.eintrittskarten"
   ]
  },
  {
   "cell_type": "code",
   "execution_count": 97,
   "metadata": {},
   "outputs": [
    {
     "data": {
      "text/plain": [
       "'../../Data/Berlin'"
      ]
     },
     "execution_count": 97,
     "metadata": {},
     "output_type": "execute_result"
    }
   ],
   "source": [
    "B.save_path"
   ]
  },
  {
   "cell_type": "markdown",
   "metadata": {},
   "source": [
    "# Functions"
   ]
  },
  {
   "cell_type": "code",
   "execution_count": null,
   "metadata": {},
   "outputs": [],
   "source": []
  },
  {
   "cell_type": "markdown",
   "metadata": {},
   "source": [
    "# Data Import"
   ]
  },
  {
   "cell_type": "code",
   "execution_count": null,
   "metadata": {},
   "outputs": [],
   "source": [
    "test = '../../Data/Berlin/2017/'\n",
    "dfs17 = [pd.read_json(test + file) for file in os.listdir(test)]"
   ]
  },
  {
   "cell_type": "code",
   "execution_count": 96,
   "metadata": {},
   "outputs": [
    {
     "name": "stdout",
     "output_type": "stream",
     "text": [
      "['table_1.json', 'table_10.json', 'table_100.json', 'table_101.json', 'table_102.json', 'table_103.json', 'table_104.json', 'table_105.json', 'table_106.json', 'table_107.json', 'table_108.json', 'table_109.json', 'table_110.json', 'table_111.json', 'table_112.json', 'table_113.json', 'table_114.json', 'table_115.json', 'table_116.json', 'table_117.json', 'table_118.json', 'table_119.json', 'table_12.json', 'table_120.json', 'table_121.json', 'table_122.json', 'table_123.json', 'table_124.json', 'table_125.json', 'table_126.json', 'table_127.json', 'table_128.json', 'table_129.json', 'table_13.json', 'table_130.json', 'table_131.json', 'table_132.json', 'table_133.json', 'table_134.json', 'table_135.json', 'table_136.json', 'table_14.json', 'table_15.json', 'table_16.json', 'table_17.json', 'table_18.json', 'table_19.json', 'table_2.json', 'table_20.json', 'table_22.json', 'table_24.json', 'table_25.json', 'table_26.json', 'table_27.json', 'table_28.json', 'table_29.json', 'table_3.json', 'table_30.json', 'table_31.json', 'table_32.json', 'table_33.json', 'table_34.json', 'table_35.json', 'table_36.json', 'table_37.json', 'table_38.json', 'table_39.json', 'table_4.json', 'table_40.json', 'table_41.json', 'table_42.json', 'table_43.json', 'table_44.json', 'table_45.json', 'table_46.json', 'table_47.json', 'table_48.json', 'table_49.json', 'table_50.json', 'table_51.json', 'table_52.json', 'table_53.json', 'table_54.json', 'table_55.json', 'table_56.json', 'table_57.json', 'table_58.json', 'table_59.json', 'table_60.json', 'table_61.json', 'table_62.json', 'table_63.json', 'table_64.json', 'table_65.json', 'table_66.json', 'table_67.json', 'table_68.json', 'table_69.json', 'table_7.json', 'table_70.json', 'table_71.json', 'table_72.json', 'table_73.json', 'table_74.json', 'table_75.json', 'table_76.json', 'table_77.json', 'table_78.json', 'table_79.json', 'table_8.json', 'table_80.json', 'table_81.json', 'table_82.json', 'table_83.json', 'table_84.json', 'table_85.json', 'table_86.json', 'table_87.json', 'table_88.json', 'table_89.json', 'table_9.json', 'table_90.json', 'table_91.json', 'table_92.json', 'table_93.json', 'table_94.json', 'table_95.json', 'table_96.json', 'table_97.json', 'table_98.json', 'table_99.json']\n"
     ]
    }
   ],
   "source": [
    "lst = list(os.listdir(test))\n",
    "print(lst)\n",
    "for i in range(len(lst)):\n",
    "    if i < 10:\n",
    "        lst[i] = f'table_00{i}.json'\n",
    "    elif i >= 10 and i < 100:\n",
    "        lst[i] = f'table_0{i}.json'\n",
    "    else:\n",
    "        continue"
   ]
  },
  {
   "cell_type": "code",
   "execution_count": 95,
   "metadata": {},
   "outputs": [
    {
     "data": {
      "text/plain": [
       "['table_000.json',\n",
       " 'table_001.json',\n",
       " 'table_002.json',\n",
       " 'table_003.json',\n",
       " 'table_004.json',\n",
       " 'table_005.json',\n",
       " 'table_006.json',\n",
       " 'table_007.json',\n",
       " 'table_008.json',\n",
       " 'table_009.json',\n",
       " 'table_010.json',\n",
       " 'table_011.json',\n",
       " 'table_012.json',\n",
       " 'table_013.json',\n",
       " 'table_014.json',\n",
       " 'table_015.json',\n",
       " 'table_016.json',\n",
       " 'table_017.json',\n",
       " 'table_018.json',\n",
       " 'table_019.json',\n",
       " 'table_020.json',\n",
       " 'table_021.json',\n",
       " 'table_022.json',\n",
       " 'table_023.json',\n",
       " 'table_024.json',\n",
       " 'table_025.json',\n",
       " 'table_026.json',\n",
       " 'table_027.json',\n",
       " 'table_028.json',\n",
       " 'table_029.json',\n",
       " 'table_030.json',\n",
       " 'table_031.json',\n",
       " 'table_032.json',\n",
       " 'table_033.json',\n",
       " 'table_034.json',\n",
       " 'table_035.json',\n",
       " 'table_036.json',\n",
       " 'table_037.json',\n",
       " 'table_038.json',\n",
       " 'table_039.json',\n",
       " 'table_040.json',\n",
       " 'table_041.json',\n",
       " 'table_042.json',\n",
       " 'table_043.json',\n",
       " 'table_044.json',\n",
       " 'table_045.json',\n",
       " 'table_046.json',\n",
       " 'table_047.json',\n",
       " 'table_048.json',\n",
       " 'table_049.json',\n",
       " 'table_050.json',\n",
       " 'table_051.json',\n",
       " 'table_052.json',\n",
       " 'table_053.json',\n",
       " 'table_054.json',\n",
       " 'table_055.json',\n",
       " 'table_056.json',\n",
       " 'table_057.json',\n",
       " 'table_058.json',\n",
       " 'table_059.json',\n",
       " 'table_060.json',\n",
       " 'table_061.json',\n",
       " 'table_062.json',\n",
       " 'table_063.json',\n",
       " 'table_064.json',\n",
       " 'table_065.json',\n",
       " 'table_066.json',\n",
       " 'table_067.json',\n",
       " 'table_068.json',\n",
       " 'table_069.json',\n",
       " 'table_070.json',\n",
       " 'table_071.json',\n",
       " 'table_072.json',\n",
       " 'table_073.json',\n",
       " 'table_074.json',\n",
       " 'table_075.json',\n",
       " 'table_076.json',\n",
       " 'table_077.json',\n",
       " 'table_078.json',\n",
       " 'table_079.json',\n",
       " 'table_080.json',\n",
       " 'table_081.json',\n",
       " 'table_082.json',\n",
       " 'table_083.json',\n",
       " 'table_084.json',\n",
       " 'table_085.json',\n",
       " 'table_086.json',\n",
       " 'table_087.json',\n",
       " 'table_088.json',\n",
       " 'table_089.json',\n",
       " 'table_090.json',\n",
       " 'table_091.json',\n",
       " 'table_092.json',\n",
       " 'table_093.json',\n",
       " 'table_094.json',\n",
       " 'table_095.json',\n",
       " 'table_096.json',\n",
       " 'table_097.json',\n",
       " 'table_098.json',\n",
       " 'table_099.json',\n",
       " 'table_71.json',\n",
       " 'table_72.json',\n",
       " 'table_73.json',\n",
       " 'table_74.json',\n",
       " 'table_75.json',\n",
       " 'table_76.json',\n",
       " 'table_77.json',\n",
       " 'table_78.json',\n",
       " 'table_79.json',\n",
       " 'table_8.json',\n",
       " 'table_80.json',\n",
       " 'table_81.json',\n",
       " 'table_82.json',\n",
       " 'table_83.json',\n",
       " 'table_84.json',\n",
       " 'table_85.json',\n",
       " 'table_86.json',\n",
       " 'table_87.json',\n",
       " 'table_88.json',\n",
       " 'table_89.json',\n",
       " 'table_9.json',\n",
       " 'table_90.json',\n",
       " 'table_91.json',\n",
       " 'table_92.json',\n",
       " 'table_93.json',\n",
       " 'table_94.json',\n",
       " 'table_95.json',\n",
       " 'table_96.json',\n",
       " 'table_97.json',\n",
       " 'table_98.json',\n",
       " 'table_99.json']"
      ]
     },
     "execution_count": 95,
     "metadata": {},
     "output_type": "execute_result"
    }
   ],
   "source": [
    "lst"
   ]
  },
  {
   "cell_type": "markdown",
   "metadata": {},
   "source": [
    "# Eintrittskarten"
   ]
  },
  {
   "cell_type": "markdown",
   "metadata": {},
   "source": [
    "### Eintrittskarten Zoo"
   ]
  },
  {
   "cell_type": "code",
   "execution_count": 32,
   "metadata": {},
   "outputs": [
    {
     "data": {
      "text/html": [
       "<div>\n",
       "<style scoped>\n",
       "    .dataframe tbody tr th:only-of-type {\n",
       "        vertical-align: middle;\n",
       "    }\n",
       "\n",
       "    .dataframe tbody tr th {\n",
       "        vertical-align: top;\n",
       "    }\n",
       "\n",
       "    .dataframe thead th {\n",
       "        text-align: right;\n",
       "    }\n",
       "</style>\n",
       "<table border=\"1\" class=\"dataframe\">\n",
       "  <thead>\n",
       "    <tr style=\"text-align: right;\">\n",
       "      <th></th>\n",
       "      <th>Tagestickets Zoo</th>\n",
       "      <th>Eintrittskarten 2017</th>\n",
       "      <th>Eintrittskarten 2016</th>\n",
       "      <th>+/- Vorjahr in %</th>\n",
       "    </tr>\n",
       "  </thead>\n",
       "  <tbody>\n",
       "    <tr>\n",
       "      <th>0</th>\n",
       "      <td>Erwachsene</td>\n",
       "      <td>690.974</td>\n",
       "      <td>653.801</td>\n",
       "      <td>6 %</td>\n",
       "    </tr>\n",
       "    <tr>\n",
       "      <th>1</th>\n",
       "      <td>None</td>\n",
       "      <td>160.409</td>\n",
       "      <td>163.532</td>\n",
       "      <td>None</td>\n",
       "    </tr>\n",
       "    <tr>\n",
       "      <th>2</th>\n",
       "      <td>Kinder</td>\n",
       "      <td>107.606</td>\n",
       "      <td>101.820</td>\n",
       "      <td>6 %</td>\n",
       "    </tr>\n",
       "    <tr>\n",
       "      <th>3</th>\n",
       "      <td>None</td>\n",
       "      <td>262.132</td>\n",
       "      <td>211.813</td>\n",
       "      <td>None</td>\n",
       "    </tr>\n",
       "    <tr>\n",
       "      <th>4</th>\n",
       "      <td>Andere Eintrittsgelder</td>\n",
       "      <td>17.662</td>\n",
       "      <td>23.932</td>\n",
       "      <td>-26 %</td>\n",
       "    </tr>\n",
       "    <tr>\n",
       "      <th>5</th>\n",
       "      <td>Summe Tagestickets Zoo</td>\n",
       "      <td>1.238.783</td>\n",
       "      <td>1.154.898</td>\n",
       "      <td>7 %</td>\n",
       "    </tr>\n",
       "  </tbody>\n",
       "</table>\n",
       "</div>"
      ],
      "text/plain": [
       "         Tagestickets Zoo Eintrittskarten 2017 Eintrittskarten 2016  \\\n",
       "0              Erwachsene              690.974              653.801   \n",
       "1                    None              160.409              163.532   \n",
       "2                  Kinder              107.606              101.820   \n",
       "3                    None              262.132              211.813   \n",
       "4  Andere Eintrittsgelder               17.662               23.932   \n",
       "5  Summe Tagestickets Zoo            1.238.783            1.154.898   \n",
       "\n",
       "  +/- Vorjahr in %  \n",
       "0              6 %  \n",
       "1             None  \n",
       "2              6 %  \n",
       "3             None  \n",
       "4            -26 %  \n",
       "5              7 %  "
      ]
     },
     "execution_count": 32,
     "metadata": {},
     "output_type": "execute_result"
    }
   ],
   "source": [
    "dfs17[1]"
   ]
  },
  {
   "cell_type": "code",
   "execution_count": 33,
   "metadata": {},
   "outputs": [
    {
     "data": {
      "text/html": [
       "<div>\n",
       "<style scoped>\n",
       "    .dataframe tbody tr th:only-of-type {\n",
       "        vertical-align: middle;\n",
       "    }\n",
       "\n",
       "    .dataframe tbody tr th {\n",
       "        vertical-align: top;\n",
       "    }\n",
       "\n",
       "    .dataframe thead th {\n",
       "        text-align: right;\n",
       "    }\n",
       "</style>\n",
       "<table border=\"1\" class=\"dataframe\">\n",
       "  <thead>\n",
       "    <tr style=\"text-align: right;\">\n",
       "      <th></th>\n",
       "      <th>Tagestickets Zoo</th>\n",
       "      <th>Eintrittskarten 2017</th>\n",
       "      <th>Eintrittskarten 2016</th>\n",
       "      <th>+/- Vorjahr in %</th>\n",
       "    </tr>\n",
       "  </thead>\n",
       "  <tbody>\n",
       "    <tr>\n",
       "      <th>0</th>\n",
       "      <td>Erwachsene</td>\n",
       "      <td>690.974</td>\n",
       "      <td>653.801</td>\n",
       "      <td>6 %</td>\n",
       "    </tr>\n",
       "    <tr>\n",
       "      <th>1</th>\n",
       "      <td>Ermaesigte</td>\n",
       "      <td>160.409</td>\n",
       "      <td>163.532</td>\n",
       "      <td>None</td>\n",
       "    </tr>\n",
       "    <tr>\n",
       "      <th>2</th>\n",
       "      <td>Kinder</td>\n",
       "      <td>107.606</td>\n",
       "      <td>101.820</td>\n",
       "      <td>6 %</td>\n",
       "    </tr>\n",
       "    <tr>\n",
       "      <th>3</th>\n",
       "      <td>Familien</td>\n",
       "      <td>262.132</td>\n",
       "      <td>211.813</td>\n",
       "      <td>None</td>\n",
       "    </tr>\n",
       "    <tr>\n",
       "      <th>4</th>\n",
       "      <td>Andere Eintrittsgelder</td>\n",
       "      <td>17.662</td>\n",
       "      <td>23.932</td>\n",
       "      <td>-26 %</td>\n",
       "    </tr>\n",
       "    <tr>\n",
       "      <th>5</th>\n",
       "      <td>Summe Tagestickets Zoo</td>\n",
       "      <td>1.238.783</td>\n",
       "      <td>1.154.898</td>\n",
       "      <td>7 %</td>\n",
       "    </tr>\n",
       "  </tbody>\n",
       "</table>\n",
       "</div>"
      ],
      "text/plain": [
       "         Tagestickets Zoo Eintrittskarten 2017 Eintrittskarten 2016  \\\n",
       "0              Erwachsene              690.974              653.801   \n",
       "1              Ermaesigte              160.409              163.532   \n",
       "2                  Kinder              107.606              101.820   \n",
       "3                Familien              262.132              211.813   \n",
       "4  Andere Eintrittsgelder               17.662               23.932   \n",
       "5  Summe Tagestickets Zoo            1.238.783            1.154.898   \n",
       "\n",
       "  +/- Vorjahr in %  \n",
       "0              6 %  \n",
       "1             None  \n",
       "2              6 %  \n",
       "3             None  \n",
       "4            -26 %  \n",
       "5              7 %  "
      ]
     },
     "execution_count": 33,
     "metadata": {},
     "output_type": "execute_result"
    }
   ],
   "source": [
    "dfs17[1]['Tagestickets Zoo'] = ['Erwachsene', 'Ermaesigte', 'Kinder', 'Familien', 'Andere Eintrittsgelder',\n",
    "                                    'Summe Tagestickets Zoo']\n",
    "dfs17[1]"
   ]
  },
  {
   "cell_type": "code",
   "execution_count": 38,
   "metadata": {},
   "outputs": [
    {
     "data": {
      "text/html": [
       "<div>\n",
       "<style scoped>\n",
       "    .dataframe tbody tr th:only-of-type {\n",
       "        vertical-align: middle;\n",
       "    }\n",
       "\n",
       "    .dataframe tbody tr th {\n",
       "        vertical-align: top;\n",
       "    }\n",
       "\n",
       "    .dataframe thead th {\n",
       "        text-align: right;\n",
       "    }\n",
       "</style>\n",
       "<table border=\"1\" class=\"dataframe\">\n",
       "  <thead>\n",
       "    <tr style=\"text-align: right;\">\n",
       "      <th></th>\n",
       "      <th>Tagestickets Zoo</th>\n",
       "      <th>Eintrittskarten 2017</th>\n",
       "      <th>Eintrittskarten 2016</th>\n",
       "      <th>+/- Vorjahr in %</th>\n",
       "    </tr>\n",
       "  </thead>\n",
       "  <tbody>\n",
       "    <tr>\n",
       "      <th>0</th>\n",
       "      <td>Erwachsene</td>\n",
       "      <td>690974.0</td>\n",
       "      <td>653.801</td>\n",
       "      <td>6 %</td>\n",
       "    </tr>\n",
       "    <tr>\n",
       "      <th>1</th>\n",
       "      <td>Ermaesigte</td>\n",
       "      <td>160409.0</td>\n",
       "      <td>163.532</td>\n",
       "      <td>None</td>\n",
       "    </tr>\n",
       "    <tr>\n",
       "      <th>2</th>\n",
       "      <td>Kinder</td>\n",
       "      <td>107606.0</td>\n",
       "      <td>101.820</td>\n",
       "      <td>6 %</td>\n",
       "    </tr>\n",
       "    <tr>\n",
       "      <th>3</th>\n",
       "      <td>Familien</td>\n",
       "      <td>262132.0</td>\n",
       "      <td>211.813</td>\n",
       "      <td>None</td>\n",
       "    </tr>\n",
       "    <tr>\n",
       "      <th>4</th>\n",
       "      <td>Andere Eintrittsgelder</td>\n",
       "      <td>17662.0</td>\n",
       "      <td>23.932</td>\n",
       "      <td>-26 %</td>\n",
       "    </tr>\n",
       "    <tr>\n",
       "      <th>5</th>\n",
       "      <td>Summe Tagestickets Zoo</td>\n",
       "      <td>1238783.0</td>\n",
       "      <td>1.154.898</td>\n",
       "      <td>7 %</td>\n",
       "    </tr>\n",
       "  </tbody>\n",
       "</table>\n",
       "</div>"
      ],
      "text/plain": [
       "         Tagestickets Zoo  Eintrittskarten 2017 Eintrittskarten 2016  \\\n",
       "0              Erwachsene              690974.0              653.801   \n",
       "1              Ermaesigte              160409.0              163.532   \n",
       "2                  Kinder              107606.0              101.820   \n",
       "3                Familien              262132.0              211.813   \n",
       "4  Andere Eintrittsgelder               17662.0               23.932   \n",
       "5  Summe Tagestickets Zoo             1238783.0            1.154.898   \n",
       "\n",
       "  +/- Vorjahr in %  \n",
       "0              6 %  \n",
       "1             None  \n",
       "2              6 %  \n",
       "3             None  \n",
       "4            -26 %  \n",
       "5              7 %  "
      ]
     },
     "execution_count": 38,
     "metadata": {},
     "output_type": "execute_result"
    }
   ],
   "source": [
    "Tagestickets_Zoo = dfs17[1]\n",
    "str2float = Berlin.str2float\n",
    "# Tagestickets_Zoo = str2float(Tagestickets_Zoo, 'Eintrittskarten 2017')\n",
    "# Tagestickets_Zoo = dfs17(Tagestickets_Zoo, 'Eintrittskarten 2016')\n",
    "\n",
    "Tagestickets_Zoo"
   ]
  },
  {
   "cell_type": "code",
   "execution_count": 39,
   "metadata": {},
   "outputs": [
    {
     "data": {
      "text/html": [
       "<div>\n",
       "<style scoped>\n",
       "    .dataframe tbody tr th:only-of-type {\n",
       "        vertical-align: middle;\n",
       "    }\n",
       "\n",
       "    .dataframe tbody tr th {\n",
       "        vertical-align: top;\n",
       "    }\n",
       "\n",
       "    .dataframe thead th {\n",
       "        text-align: right;\n",
       "    }\n",
       "</style>\n",
       "<table border=\"1\" class=\"dataframe\">\n",
       "  <thead>\n",
       "    <tr style=\"text-align: right;\">\n",
       "      <th></th>\n",
       "      <th>Tagestickets Zoo</th>\n",
       "      <th>Eintrittskarten 2017</th>\n",
       "      <th>Eintrittskarten 2016</th>\n",
       "      <th>+/- Vorjahr in %</th>\n",
       "    </tr>\n",
       "  </thead>\n",
       "  <tbody>\n",
       "    <tr>\n",
       "      <th>0</th>\n",
       "      <td>Erwachsene</td>\n",
       "      <td>690974.0</td>\n",
       "      <td>653.801</td>\n",
       "      <td>6.0</td>\n",
       "    </tr>\n",
       "    <tr>\n",
       "      <th>1</th>\n",
       "      <td>Ermaesigte</td>\n",
       "      <td>160409.0</td>\n",
       "      <td>163.532</td>\n",
       "      <td>NaN</td>\n",
       "    </tr>\n",
       "    <tr>\n",
       "      <th>2</th>\n",
       "      <td>Kinder</td>\n",
       "      <td>107606.0</td>\n",
       "      <td>101.820</td>\n",
       "      <td>6.0</td>\n",
       "    </tr>\n",
       "    <tr>\n",
       "      <th>3</th>\n",
       "      <td>Familien</td>\n",
       "      <td>262132.0</td>\n",
       "      <td>211.813</td>\n",
       "      <td>NaN</td>\n",
       "    </tr>\n",
       "    <tr>\n",
       "      <th>4</th>\n",
       "      <td>Andere Eintrittsgelder</td>\n",
       "      <td>17662.0</td>\n",
       "      <td>23.932</td>\n",
       "      <td>-26.0</td>\n",
       "    </tr>\n",
       "    <tr>\n",
       "      <th>5</th>\n",
       "      <td>Summe Tagestickets Zoo</td>\n",
       "      <td>1238783.0</td>\n",
       "      <td>1.154.898</td>\n",
       "      <td>7.0</td>\n",
       "    </tr>\n",
       "  </tbody>\n",
       "</table>\n",
       "</div>"
      ],
      "text/plain": [
       "         Tagestickets Zoo  Eintrittskarten 2017 Eintrittskarten 2016  \\\n",
       "0              Erwachsene              690974.0              653.801   \n",
       "1              Ermaesigte              160409.0              163.532   \n",
       "2                  Kinder              107606.0              101.820   \n",
       "3                Familien              262132.0              211.813   \n",
       "4  Andere Eintrittsgelder               17662.0               23.932   \n",
       "5  Summe Tagestickets Zoo             1238783.0            1.154.898   \n",
       "\n",
       "   +/- Vorjahr in %  \n",
       "0               6.0  \n",
       "1               NaN  \n",
       "2               6.0  \n",
       "3               NaN  \n",
       "4             -26.0  \n",
       "5               7.0  "
      ]
     },
     "execution_count": 39,
     "metadata": {},
     "output_type": "execute_result"
    }
   ],
   "source": [
    "percentage2float = Berlin.percentage2float\n",
    "Tagestickets_Zoo = percentage2float(Tagestickets_Zoo, '+/- Vorjahr in %')\n",
    "Tagestickets_Zoo"
   ]
  },
  {
   "cell_type": "code",
   "execution_count": 40,
   "metadata": {},
   "outputs": [],
   "source": [
    "Tagestickets_Zoo.iloc[1, 3] = -2.0\n",
    "Tagestickets_Zoo.iloc[3, 3] = 24.0"
   ]
  },
  {
   "cell_type": "code",
   "execution_count": 41,
   "metadata": {},
   "outputs": [],
   "source": [
    "year = np.ones(len(Tagestickets_Zoo)) * 2017\n",
    "pastyear = np.ones(len(Tagestickets_Zoo)) * 2016\n",
    "Tagestickets_Zoo['Jahr'] = year\n",
    "Tagestickets_Zoo['Vorjahr'] = pastyear"
   ]
  },
  {
   "cell_type": "code",
   "execution_count": 42,
   "metadata": {},
   "outputs": [
    {
     "data": {
      "text/plain": [
       "array([2017, 2017, 2017, 2017, 2017, 2017])"
      ]
     },
     "execution_count": 42,
     "metadata": {},
     "output_type": "execute_result"
    }
   ],
   "source": [
    "year.astype(int)"
   ]
  },
  {
   "cell_type": "code",
   "execution_count": 43,
   "metadata": {},
   "outputs": [],
   "source": [
    "Tagestickets_Zoo['Jahr'] = Tagestickets_Zoo['Jahr'].astype(int)\n",
    "Tagestickets_Zoo['Vorjahr'] = Tagestickets_Zoo['Vorjahr'].astype(int)"
   ]
  },
  {
   "cell_type": "code",
   "execution_count": 44,
   "metadata": {},
   "outputs": [],
   "source": [
    "Tagestickets_Zoo = Tagestickets_Zoo[['Tagestickets Zoo', 'Jahr', 'Eintrittskarten 2017',\n",
    "                                    'Vorjahr', 'Eintrittskarten 2016', '+/- Vorjahr in %']]\n",
    "Tagestickets_Zoo = Tagestickets_Zoo.rename(columns={'Eintrittskarten 2017': 'Eintrittskarten',\n",
    "                                                    'Eintrittskarten 2016': 'Vorjahres Eintrittskarten'})"
   ]
  },
  {
   "cell_type": "code",
   "execution_count": 45,
   "metadata": {},
   "outputs": [
    {
     "data": {
      "text/html": [
       "<div>\n",
       "<style scoped>\n",
       "    .dataframe tbody tr th:only-of-type {\n",
       "        vertical-align: middle;\n",
       "    }\n",
       "\n",
       "    .dataframe tbody tr th {\n",
       "        vertical-align: top;\n",
       "    }\n",
       "\n",
       "    .dataframe thead th {\n",
       "        text-align: right;\n",
       "    }\n",
       "</style>\n",
       "<table border=\"1\" class=\"dataframe\">\n",
       "  <thead>\n",
       "    <tr style=\"text-align: right;\">\n",
       "      <th></th>\n",
       "      <th>Tagestickets Zoo</th>\n",
       "      <th>Jahr</th>\n",
       "      <th>Eintrittskarten</th>\n",
       "      <th>Vorjahr</th>\n",
       "      <th>Vorjahres Eintrittskarten</th>\n",
       "      <th>+/- Vorjahr in %</th>\n",
       "    </tr>\n",
       "  </thead>\n",
       "  <tbody>\n",
       "    <tr>\n",
       "      <th>0</th>\n",
       "      <td>Erwachsene</td>\n",
       "      <td>2017</td>\n",
       "      <td>690974.0</td>\n",
       "      <td>2016</td>\n",
       "      <td>653.801</td>\n",
       "      <td>6.0</td>\n",
       "    </tr>\n",
       "    <tr>\n",
       "      <th>1</th>\n",
       "      <td>Ermaesigte</td>\n",
       "      <td>2017</td>\n",
       "      <td>160409.0</td>\n",
       "      <td>2016</td>\n",
       "      <td>163.532</td>\n",
       "      <td>-2.0</td>\n",
       "    </tr>\n",
       "    <tr>\n",
       "      <th>2</th>\n",
       "      <td>Kinder</td>\n",
       "      <td>2017</td>\n",
       "      <td>107606.0</td>\n",
       "      <td>2016</td>\n",
       "      <td>101.820</td>\n",
       "      <td>6.0</td>\n",
       "    </tr>\n",
       "    <tr>\n",
       "      <th>3</th>\n",
       "      <td>Familien</td>\n",
       "      <td>2017</td>\n",
       "      <td>262132.0</td>\n",
       "      <td>2016</td>\n",
       "      <td>211.813</td>\n",
       "      <td>24.0</td>\n",
       "    </tr>\n",
       "    <tr>\n",
       "      <th>4</th>\n",
       "      <td>Andere Eintrittsgelder</td>\n",
       "      <td>2017</td>\n",
       "      <td>17662.0</td>\n",
       "      <td>2016</td>\n",
       "      <td>23.932</td>\n",
       "      <td>-26.0</td>\n",
       "    </tr>\n",
       "    <tr>\n",
       "      <th>5</th>\n",
       "      <td>Summe Tagestickets Zoo</td>\n",
       "      <td>2017</td>\n",
       "      <td>1238783.0</td>\n",
       "      <td>2016</td>\n",
       "      <td>1.154.898</td>\n",
       "      <td>7.0</td>\n",
       "    </tr>\n",
       "  </tbody>\n",
       "</table>\n",
       "</div>"
      ],
      "text/plain": [
       "         Tagestickets Zoo  Jahr  Eintrittskarten  Vorjahr  \\\n",
       "0              Erwachsene  2017         690974.0     2016   \n",
       "1              Ermaesigte  2017         160409.0     2016   \n",
       "2                  Kinder  2017         107606.0     2016   \n",
       "3                Familien  2017         262132.0     2016   \n",
       "4  Andere Eintrittsgelder  2017          17662.0     2016   \n",
       "5  Summe Tagestickets Zoo  2017        1238783.0     2016   \n",
       "\n",
       "  Vorjahres Eintrittskarten  +/- Vorjahr in %  \n",
       "0                   653.801               6.0  \n",
       "1                   163.532              -2.0  \n",
       "2                   101.820               6.0  \n",
       "3                   211.813              24.0  \n",
       "4                    23.932             -26.0  \n",
       "5                 1.154.898               7.0  "
      ]
     },
     "execution_count": 45,
     "metadata": {},
     "output_type": "execute_result"
    }
   ],
   "source": [
    "Tagestickets_Zoo"
   ]
  },
  {
   "cell_type": "code",
   "execution_count": null,
   "metadata": {},
   "outputs": [],
   "source": [
    "# Tagestickets_Zoo.to_json('../../Data/Berlin/Tagestickets_Zoo.json', index=False)"
   ]
  },
  {
   "cell_type": "markdown",
   "metadata": {},
   "source": [
    "### Tagestickets ZooAquarium"
   ]
  },
  {
   "cell_type": "code",
   "execution_count": 78,
   "metadata": {},
   "outputs": [
    {
     "name": "stdout",
     "output_type": "stream",
     "text": [
      "0\n",
      "47\n",
      "56\n",
      "67\n",
      "97\n"
     ]
    }
   ],
   "source": [
    "for i in range(len(dfs17)):\n",
    "    if 'Eintrittskarten 2017' in dfs17[i].columns:\n",
    "        print(i)\n",
    "        # print(dfs17[i])"
   ]
  },
  {
   "cell_type": "code",
   "execution_count": 79,
   "metadata": {},
   "outputs": [
    {
     "data": {
      "text/html": [
       "<div>\n",
       "<style scoped>\n",
       "    .dataframe tbody tr th:only-of-type {\n",
       "        vertical-align: middle;\n",
       "    }\n",
       "\n",
       "    .dataframe tbody tr th {\n",
       "        vertical-align: top;\n",
       "    }\n",
       "\n",
       "    .dataframe thead th {\n",
       "        text-align: right;\n",
       "    }\n",
       "</style>\n",
       "<table border=\"1\" class=\"dataframe\">\n",
       "  <thead>\n",
       "    <tr style=\"text-align: right;\">\n",
       "      <th></th>\n",
       "      <th>Tagestickets Zoo-Aquarium</th>\n",
       "      <th>Eintrittskarten 2017</th>\n",
       "      <th>Eintrittskarten 2016</th>\n",
       "      <th>+/- Vorjahr in %</th>\n",
       "    </tr>\n",
       "  </thead>\n",
       "  <tbody>\n",
       "    <tr>\n",
       "      <th>0</th>\n",
       "      <td>Erwachsene</td>\n",
       "      <td>341.391</td>\n",
       "      <td>346.618</td>\n",
       "      <td>-2 %</td>\n",
       "    </tr>\n",
       "    <tr>\n",
       "      <th>1</th>\n",
       "      <td>None</td>\n",
       "      <td>76.488</td>\n",
       "      <td>81.421</td>\n",
       "      <td>None</td>\n",
       "    </tr>\n",
       "    <tr>\n",
       "      <th>2</th>\n",
       "      <td>Kinder</td>\n",
       "      <td>51.549</td>\n",
       "      <td>56.018</td>\n",
       "      <td>-8 %</td>\n",
       "    </tr>\n",
       "    <tr>\n",
       "      <th>3</th>\n",
       "      <td>None</td>\n",
       "      <td>157.733</td>\n",
       "      <td>127.812</td>\n",
       "      <td>None</td>\n",
       "    </tr>\n",
       "    <tr>\n",
       "      <th>4</th>\n",
       "      <td>Andere Eintrittsgelder</td>\n",
       "      <td>1.401</td>\n",
       "      <td>3.822</td>\n",
       "      <td>-63 %</td>\n",
       "    </tr>\n",
       "    <tr>\n",
       "      <th>5</th>\n",
       "      <td>Summe Tagestickets Zoo-Aquarium</td>\n",
       "      <td>628.562</td>\n",
       "      <td>615.691</td>\n",
       "      <td>2 %</td>\n",
       "    </tr>\n",
       "    <tr>\n",
       "      <th>6</th>\n",
       "      <td>SUMME TAGESTICKETS TOTAL</td>\n",
       "      <td>1.867.345</td>\n",
       "      <td>1.770.589</td>\n",
       "      <td>5 %</td>\n",
       "    </tr>\n",
       "  </tbody>\n",
       "</table>\n",
       "</div>"
      ],
      "text/plain": [
       "         Tagestickets Zoo-Aquarium Eintrittskarten 2017 Eintrittskarten 2016  \\\n",
       "0                       Erwachsene              341.391              346.618   \n",
       "1                             None               76.488               81.421   \n",
       "2                           Kinder               51.549               56.018   \n",
       "3                             None              157.733              127.812   \n",
       "4           Andere Eintrittsgelder                1.401                3.822   \n",
       "5  Summe Tagestickets Zoo-Aquarium              628.562              615.691   \n",
       "6         SUMME TAGESTICKETS TOTAL            1.867.345            1.770.589   \n",
       "\n",
       "  +/- Vorjahr in %  \n",
       "0             -2 %  \n",
       "1             None  \n",
       "2             -8 %  \n",
       "3             None  \n",
       "4            -63 %  \n",
       "5              2 %  \n",
       "6              5 %  "
      ]
     },
     "execution_count": 79,
     "metadata": {},
     "output_type": "execute_result"
    }
   ],
   "source": [
    "dfs17[47]"
   ]
  },
  {
   "cell_type": "code",
   "execution_count": 48,
   "metadata": {},
   "outputs": [
    {
     "ename": "KeyError",
     "evalue": "\"['Eintrittskarten', 'Eintrittskarten_Vorjahr', '+/- Vorjahr in %'] not in index\"",
     "output_type": "error",
     "traceback": [
      "\u001b[1;31m---------------------------------------------------------------------------\u001b[0m",
      "\u001b[1;31mKeyError\u001b[0m                                  Traceback (most recent call last)",
      "Cell \u001b[1;32mIn[48], line 3\u001b[0m\n\u001b[0;32m      1\u001b[0m Tagestickets_ZooAquarium \u001b[38;5;241m=\u001b[39m dfs17[\u001b[38;5;241m2\u001b[39m]\n\u001b[0;32m      2\u001b[0m cols \u001b[38;5;241m=\u001b[39m \u001b[38;5;28mlist\u001b[39m(Tagestickets_ZooAquarium\u001b[38;5;241m.\u001b[39mcolumns)\n\u001b[1;32m----> 3\u001b[0m Tagestickets_ZooAquarium \u001b[38;5;241m=\u001b[39m B\u001b[38;5;241m.\u001b[39meintrittskarten(df\u001b[38;5;241m=\u001b[39mTagestickets_ZooAquarium, list_cols\u001b[38;5;241m=\u001b[39mcols, year\u001b[38;5;241m=\u001b[39m\u001b[38;5;241m2017\u001b[39m, past_year\u001b[38;5;241m=\u001b[39m\u001b[38;5;241m2016\u001b[39m)\n\u001b[0;32m      4\u001b[0m Tagestickets_ZooAquarium\n",
      "File \u001b[1;32mc:\\Users\\benjf\\Documents\\Programmierung\\Projekte\\VdZ_aDataScienceProject\\Python_Code\\CleaningData.py:103\u001b[0m, in \u001b[0;36mBerlin.eintrittskarten\u001b[1;34m(df, list_cols, year, past_year)\u001b[0m\n\u001b[0;32m    100\u001b[0m df \u001b[38;5;241m=\u001b[39m df\u001b[38;5;241m.\u001b[39mrename(columns\u001b[38;5;241m=\u001b[39m{\u001b[38;5;124mf\u001b[39m\u001b[38;5;124m'\u001b[39m\u001b[38;5;124mEintrittskarten \u001b[39m\u001b[38;5;132;01m{\u001b[39;00myear\u001b[38;5;132;01m}\u001b[39;00m\u001b[38;5;124m'\u001b[39m: \u001b[38;5;124m'\u001b[39m\u001b[38;5;124mEintrittskarten\u001b[39m\u001b[38;5;124m'\u001b[39m,\n\u001b[0;32m    101\u001b[0m                         \u001b[38;5;124mf\u001b[39m\u001b[38;5;124m'\u001b[39m\u001b[38;5;124mEintrittskarten \u001b[39m\u001b[38;5;132;01m{\u001b[39;00mpast_year\u001b[38;5;132;01m}\u001b[39;00m\u001b[38;5;124m'\u001b[39m: \u001b[38;5;124m'\u001b[39m\u001b[38;5;124mEintrittskarten_Vorjahr\u001b[39m\u001b[38;5;124m'\u001b[39m})\n\u001b[0;32m    102\u001b[0m cols \u001b[38;5;241m=\u001b[39m df\u001b[38;5;241m.\u001b[39mcolumns\u001b[38;5;241m.\u001b[39mtolist()\n\u001b[1;32m--> 103\u001b[0m df \u001b[38;5;241m=\u001b[39m df[[cols[\u001b[38;5;241m1\u001b[39m], \u001b[38;5;124m'\u001b[39m\u001b[38;5;124mJahr\u001b[39m\u001b[38;5;124m'\u001b[39m, \u001b[38;5;124m'\u001b[39m\u001b[38;5;124mEintrittskarten\u001b[39m\u001b[38;5;124m'\u001b[39m, \u001b[38;5;124m'\u001b[39m\u001b[38;5;124mVorjahr\u001b[39m\u001b[38;5;124m'\u001b[39m, \u001b[38;5;124m'\u001b[39m\u001b[38;5;124mEintrittskarten_Vorjahr\u001b[39m\u001b[38;5;124m'\u001b[39m, \u001b[38;5;124m'\u001b[39m\u001b[38;5;124m+/- Vorjahr in \u001b[39m\u001b[38;5;124m%\u001b[39m\u001b[38;5;124m'\u001b[39m]]\n\u001b[0;32m    104\u001b[0m \u001b[38;5;28;01mreturn\u001b[39;00m df\n",
      "File \u001b[1;32mc:\\Users\\benjf\\anaconda3\\envs\\projects\\Lib\\site-packages\\pandas\\core\\frame.py:4108\u001b[0m, in \u001b[0;36mDataFrame.__getitem__\u001b[1;34m(self, key)\u001b[0m\n\u001b[0;32m   4106\u001b[0m     \u001b[38;5;28;01mif\u001b[39;00m is_iterator(key):\n\u001b[0;32m   4107\u001b[0m         key \u001b[38;5;241m=\u001b[39m \u001b[38;5;28mlist\u001b[39m(key)\n\u001b[1;32m-> 4108\u001b[0m     indexer \u001b[38;5;241m=\u001b[39m \u001b[38;5;28mself\u001b[39m\u001b[38;5;241m.\u001b[39mcolumns\u001b[38;5;241m.\u001b[39m_get_indexer_strict(key, \u001b[38;5;124m\"\u001b[39m\u001b[38;5;124mcolumns\u001b[39m\u001b[38;5;124m\"\u001b[39m)[\u001b[38;5;241m1\u001b[39m]\n\u001b[0;32m   4110\u001b[0m \u001b[38;5;66;03m# take() does not accept boolean indexers\u001b[39;00m\n\u001b[0;32m   4111\u001b[0m \u001b[38;5;28;01mif\u001b[39;00m \u001b[38;5;28mgetattr\u001b[39m(indexer, \u001b[38;5;124m\"\u001b[39m\u001b[38;5;124mdtype\u001b[39m\u001b[38;5;124m\"\u001b[39m, \u001b[38;5;28;01mNone\u001b[39;00m) \u001b[38;5;241m==\u001b[39m \u001b[38;5;28mbool\u001b[39m:\n",
      "File \u001b[1;32mc:\\Users\\benjf\\anaconda3\\envs\\projects\\Lib\\site-packages\\pandas\\core\\indexes\\base.py:6200\u001b[0m, in \u001b[0;36mIndex._get_indexer_strict\u001b[1;34m(self, key, axis_name)\u001b[0m\n\u001b[0;32m   6197\u001b[0m \u001b[38;5;28;01melse\u001b[39;00m:\n\u001b[0;32m   6198\u001b[0m     keyarr, indexer, new_indexer \u001b[38;5;241m=\u001b[39m \u001b[38;5;28mself\u001b[39m\u001b[38;5;241m.\u001b[39m_reindex_non_unique(keyarr)\n\u001b[1;32m-> 6200\u001b[0m \u001b[38;5;28mself\u001b[39m\u001b[38;5;241m.\u001b[39m_raise_if_missing(keyarr, indexer, axis_name)\n\u001b[0;32m   6202\u001b[0m keyarr \u001b[38;5;241m=\u001b[39m \u001b[38;5;28mself\u001b[39m\u001b[38;5;241m.\u001b[39mtake(indexer)\n\u001b[0;32m   6203\u001b[0m \u001b[38;5;28;01mif\u001b[39;00m \u001b[38;5;28misinstance\u001b[39m(key, Index):\n\u001b[0;32m   6204\u001b[0m     \u001b[38;5;66;03m# GH 42790 - Preserve name from an Index\u001b[39;00m\n",
      "File \u001b[1;32mc:\\Users\\benjf\\anaconda3\\envs\\projects\\Lib\\site-packages\\pandas\\core\\indexes\\base.py:6252\u001b[0m, in \u001b[0;36mIndex._raise_if_missing\u001b[1;34m(self, key, indexer, axis_name)\u001b[0m\n\u001b[0;32m   6249\u001b[0m     \u001b[38;5;28;01mraise\u001b[39;00m \u001b[38;5;167;01mKeyError\u001b[39;00m(\u001b[38;5;124mf\u001b[39m\u001b[38;5;124m\"\u001b[39m\u001b[38;5;124mNone of [\u001b[39m\u001b[38;5;132;01m{\u001b[39;00mkey\u001b[38;5;132;01m}\u001b[39;00m\u001b[38;5;124m] are in the [\u001b[39m\u001b[38;5;132;01m{\u001b[39;00maxis_name\u001b[38;5;132;01m}\u001b[39;00m\u001b[38;5;124m]\u001b[39m\u001b[38;5;124m\"\u001b[39m)\n\u001b[0;32m   6251\u001b[0m not_found \u001b[38;5;241m=\u001b[39m \u001b[38;5;28mlist\u001b[39m(ensure_index(key)[missing_mask\u001b[38;5;241m.\u001b[39mnonzero()[\u001b[38;5;241m0\u001b[39m]]\u001b[38;5;241m.\u001b[39munique())\n\u001b[1;32m-> 6252\u001b[0m \u001b[38;5;28;01mraise\u001b[39;00m \u001b[38;5;167;01mKeyError\u001b[39;00m(\u001b[38;5;124mf\u001b[39m\u001b[38;5;124m\"\u001b[39m\u001b[38;5;132;01m{\u001b[39;00mnot_found\u001b[38;5;132;01m}\u001b[39;00m\u001b[38;5;124m not in index\u001b[39m\u001b[38;5;124m\"\u001b[39m)\n",
      "\u001b[1;31mKeyError\u001b[0m: \"['Eintrittskarten', 'Eintrittskarten_Vorjahr', '+/- Vorjahr in %'] not in index\""
     ]
    }
   ],
   "source": [
    "Tagestickets_ZooAquarium = dfs17[2]\n",
    "cols = list(Tagestickets_ZooAquarium.columns)\n",
    "Tagestickets_ZooAquarium = B.eintrittskarten(df=Tagestickets_ZooAquarium, list_cols=cols, year=2017, past_year=2016)\n",
    "Tagestickets_ZooAquarium"
   ]
  }
 ],
 "metadata": {
  "kernelspec": {
   "display_name": "projects",
   "language": "python",
   "name": "python3"
  },
  "language_info": {
   "codemirror_mode": {
    "name": "ipython",
    "version": 3
   },
   "file_extension": ".py",
   "mimetype": "text/x-python",
   "name": "python",
   "nbconvert_exporter": "python",
   "pygments_lexer": "ipython3",
   "version": "3.12.8"
  }
 },
 "nbformat": 4,
 "nbformat_minor": 2
}
