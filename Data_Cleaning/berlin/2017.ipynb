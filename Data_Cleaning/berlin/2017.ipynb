{
 "cells": [
  {
   "cell_type": "markdown",
   "metadata": {},
   "source": [
    "# Imports"
   ]
  },
  {
   "cell_type": "code",
   "execution_count": 1,
   "metadata": {},
   "outputs": [],
   "source": [
    "import numpy as np\n",
    "import pandas as pd"
   ]
  },
  {
   "cell_type": "code",
   "execution_count": 2,
   "metadata": {},
   "outputs": [],
   "source": [
    "import sys\n",
    "import os\n",
    "sys.path.append(os.path.abspath('../../'))\n",
    "from Python_Code.CleaningData import CleaningData"
   ]
  },
  {
   "cell_type": "markdown",
   "metadata": {},
   "source": [
    "# Functions"
   ]
  },
  {
   "cell_type": "code",
   "execution_count": 3,
   "metadata": {},
   "outputs": [],
   "source": [
    "CD = CleaningData(place='Berlin', year=2017)"
   ]
  },
  {
   "cell_type": "markdown",
   "metadata": {},
   "source": [
    "# Data Import"
   ]
  },
  {
   "cell_type": "markdown",
   "metadata": {},
   "source": [
    "## Using cleaningdata class"
   ]
  },
  {
   "cell_type": "code",
   "execution_count": 4,
   "metadata": {},
   "outputs": [],
   "source": [
    "CD.read_all_csv_files()"
   ]
  },
  {
   "cell_type": "code",
   "execution_count": 5,
   "metadata": {},
   "outputs": [
    {
     "data": {
      "text/html": [
       "<div>\n",
       "<style scoped>\n",
       "    .dataframe tbody tr th:only-of-type {\n",
       "        vertical-align: middle;\n",
       "    }\n",
       "\n",
       "    .dataframe tbody tr th {\n",
       "        vertical-align: top;\n",
       "    }\n",
       "\n",
       "    .dataframe thead th {\n",
       "        text-align: right;\n",
       "    }\n",
       "</style>\n",
       "<table border=\"1\" class=\"dataframe\">\n",
       "  <thead>\n",
       "    <tr style=\"text-align: right;\">\n",
       "      <th></th>\n",
       "      <th>AKTIVA</th>\n",
       "      <th>2017</th>\n",
       "      <th>2016</th>\n",
       "    </tr>\n",
       "  </thead>\n",
       "  <tbody>\n",
       "    <tr>\n",
       "      <th>0</th>\n",
       "      <td>A. Anlagevermögen</td>\n",
       "      <td>in EUR</td>\n",
       "      <td>in EUR</td>\n",
       "    </tr>\n",
       "    <tr>\n",
       "      <th>1</th>\n",
       "      <td>Immaterielle Vermögensgegenstände, gewerbliche...</td>\n",
       "      <td>116202.0</td>\n",
       "      <td>87586.0</td>\n",
       "    </tr>\n",
       "    <tr>\n",
       "      <th>2</th>\n",
       "      <td>Grundstücke und Bauten</td>\n",
       "      <td>36442462.0</td>\n",
       "      <td>27245124.0</td>\n",
       "    </tr>\n",
       "    <tr>\n",
       "      <th>3</th>\n",
       "      <td>Technische Anlagen und Maschinen</td>\n",
       "      <td>1888071.0</td>\n",
       "      <td>2060958.0</td>\n",
       "    </tr>\n",
       "    <tr>\n",
       "      <th>4</th>\n",
       "      <td>Andere Anlagen, Betriebs- und Geschäftsausstat...</td>\n",
       "      <td>1712442.0</td>\n",
       "      <td>1544325.0</td>\n",
       "    </tr>\n",
       "  </tbody>\n",
       "</table>\n",
       "</div>"
      ],
      "text/plain": [
       "                                              AKTIVA        2017        2016\n",
       "0                                  A. Anlagevermögen      in EUR      in EUR\n",
       "1  Immaterielle Vermögensgegenstände, gewerbliche...    116202.0     87586.0\n",
       "2                             Grundstücke und Bauten  36442462.0  27245124.0\n",
       "3                   Technische Anlagen und Maschinen   1888071.0   2060958.0\n",
       "4  Andere Anlagen, Betriebs- und Geschäftsausstat...   1712442.0   1544325.0"
      ]
     },
     "execution_count": 5,
     "metadata": {},
     "output_type": "execute_result"
    }
   ],
   "source": [
    "CD.activa.head()"
   ]
  },
  {
   "cell_type": "code",
   "execution_count": 6,
   "metadata": {},
   "outputs": [
    {
     "data": {
      "text/html": [
       "<div>\n",
       "<style scoped>\n",
       "    .dataframe tbody tr th:only-of-type {\n",
       "        vertical-align: middle;\n",
       "    }\n",
       "\n",
       "    .dataframe tbody tr th {\n",
       "        vertical-align: top;\n",
       "    }\n",
       "\n",
       "    .dataframe thead th {\n",
       "        text-align: right;\n",
       "    }\n",
       "</style>\n",
       "<table border=\"1\" class=\"dataframe\">\n",
       "  <thead>\n",
       "    <tr style=\"text-align: right;\">\n",
       "      <th></th>\n",
       "      <th>Passiva</th>\n",
       "      <th>2017</th>\n",
       "      <th>2016</th>\n",
       "    </tr>\n",
       "  </thead>\n",
       "  <tbody>\n",
       "    <tr>\n",
       "      <th>0</th>\n",
       "      <td>A. Eigenkapital</td>\n",
       "      <td>in EUR</td>\n",
       "      <td>in EUR</td>\n",
       "    </tr>\n",
       "    <tr>\n",
       "      <th>1</th>\n",
       "      <td>Grundkapital</td>\n",
       "      <td>1716000.0</td>\n",
       "      <td>1716000.0</td>\n",
       "    </tr>\n",
       "    <tr>\n",
       "      <th>2</th>\n",
       "      <td>Nennbetrag eigener Anteile</td>\n",
       "      <td>-832.0</td>\n",
       "      <td>-676.0</td>\n",
       "    </tr>\n",
       "    <tr>\n",
       "      <th>3</th>\n",
       "      <td>Summe Gezeichnetes Kapital</td>\n",
       "      <td>1715168.0</td>\n",
       "      <td>1715324.0</td>\n",
       "    </tr>\n",
       "    <tr>\n",
       "      <th>4</th>\n",
       "      <td>Kapitalrücklage</td>\n",
       "      <td>62659.07</td>\n",
       "      <td>62659.07</td>\n",
       "    </tr>\n",
       "  </tbody>\n",
       "</table>\n",
       "</div>"
      ],
      "text/plain": [
       "                      Passiva       2017       2016\n",
       "0             A. Eigenkapital     in EUR     in EUR\n",
       "1                Grundkapital  1716000.0  1716000.0\n",
       "2  Nennbetrag eigener Anteile     -832.0     -676.0\n",
       "3  Summe Gezeichnetes Kapital  1715168.0  1715324.0\n",
       "4             Kapitalrücklage   62659.07   62659.07"
      ]
     },
     "execution_count": 6,
     "metadata": {},
     "output_type": "execute_result"
    }
   ],
   "source": [
    "CD.passiva.head()"
   ]
  },
  {
   "cell_type": "code",
   "execution_count": 7,
   "metadata": {},
   "outputs": [
    {
     "data": {
      "text/plain": [
       "Passiva    object\n",
       "2017       object\n",
       "2016       object\n",
       "dtype: object"
      ]
     },
     "execution_count": 7,
     "metadata": {},
     "output_type": "execute_result"
    }
   ],
   "source": [
    "CD.passiva.dtypes"
   ]
  },
  {
   "cell_type": "code",
   "execution_count": 8,
   "metadata": {},
   "outputs": [],
   "source": [
    "passiva_list_cols = list(CD.passiva.columns)\n",
    "passiva_list_cols[1] = f'{passiva_list_cols[1]} in EUR'\n",
    "passiva_list_cols[2] = f'{passiva_list_cols[2]} in EUR'"
   ]
  },
  {
   "cell_type": "code",
   "execution_count": 11,
   "metadata": {},
   "outputs": [],
   "source": [
    "act_list_cols = list(CD.activa.columns)\n",
    "act_list_cols[1] = f'{act_list_cols[1]} in EUR'\n",
    "act_list_cols[2] = f'{act_list_cols[2]} in EUR'"
   ]
  },
  {
   "cell_type": "code",
   "execution_count": 12,
   "metadata": {},
   "outputs": [
    {
     "data": {
      "text/html": [
       "<div>\n",
       "<style scoped>\n",
       "    .dataframe tbody tr th:only-of-type {\n",
       "        vertical-align: middle;\n",
       "    }\n",
       "\n",
       "    .dataframe tbody tr th {\n",
       "        vertical-align: top;\n",
       "    }\n",
       "\n",
       "    .dataframe thead th {\n",
       "        text-align: right;\n",
       "    }\n",
       "</style>\n",
       "<table border=\"1\" class=\"dataframe\">\n",
       "  <thead>\n",
       "    <tr style=\"text-align: right;\">\n",
       "      <th></th>\n",
       "      <th>Passiva</th>\n",
       "      <th>2017 in EUR</th>\n",
       "      <th>2016 in EUR</th>\n",
       "    </tr>\n",
       "  </thead>\n",
       "  <tbody>\n",
       "    <tr>\n",
       "      <th>0</th>\n",
       "      <td>A. Eigenkapital</td>\n",
       "      <td>in EUR</td>\n",
       "      <td>in EUR</td>\n",
       "    </tr>\n",
       "    <tr>\n",
       "      <th>1</th>\n",
       "      <td>Grundkapital</td>\n",
       "      <td>1716000.0</td>\n",
       "      <td>1716000.0</td>\n",
       "    </tr>\n",
       "    <tr>\n",
       "      <th>2</th>\n",
       "      <td>Nennbetrag eigener Anteile</td>\n",
       "      <td>-832.0</td>\n",
       "      <td>-676.0</td>\n",
       "    </tr>\n",
       "    <tr>\n",
       "      <th>3</th>\n",
       "      <td>Summe Gezeichnetes Kapital</td>\n",
       "      <td>1715168.0</td>\n",
       "      <td>1715324.0</td>\n",
       "    </tr>\n",
       "    <tr>\n",
       "      <th>4</th>\n",
       "      <td>Kapitalrücklage</td>\n",
       "      <td>62659.07</td>\n",
       "      <td>62659.07</td>\n",
       "    </tr>\n",
       "  </tbody>\n",
       "</table>\n",
       "</div>"
      ],
      "text/plain": [
       "                      Passiva 2017 in EUR 2016 in EUR\n",
       "0             A. Eigenkapital      in EUR      in EUR\n",
       "1                Grundkapital   1716000.0   1716000.0\n",
       "2  Nennbetrag eigener Anteile      -832.0      -676.0\n",
       "3  Summe Gezeichnetes Kapital   1715168.0   1715324.0\n",
       "4             Kapitalrücklage    62659.07    62659.07"
      ]
     },
     "execution_count": 12,
     "metadata": {},
     "output_type": "execute_result"
    }
   ],
   "source": [
    "CD.passiva.columns = passiva_list_cols\n",
    "CD.activa.columns = act_list_cols\n",
    "CD.passiva.head()"
   ]
  },
  {
   "cell_type": "code",
   "execution_count": 13,
   "metadata": {},
   "outputs": [
    {
     "name": "stderr",
     "output_type": "stream",
     "text": [
      "c:\\Users\\benjf\\Documents\\Programmierung\\Projekte\\VdZ_aDataScienceProject\\Python_Code\\CleaningData.py:93: SettingWithCopyWarning: \n",
      "A value is trying to be set on a copy of a slice from a DataFrame.\n",
      "Try using .loc[row_indexer,col_indexer] = value instead\n",
      "\n",
      "See the caveats in the documentation: https://pandas.pydata.org/pandas-docs/stable/user_guide/indexing.html#returning-a-view-versus-a-copy\n",
      "  self.activa[self.activa.columns[i]] = self.activa[self.activa.columns[i]].astype(float)\n",
      "c:\\Users\\benjf\\Documents\\Programmierung\\Projekte\\VdZ_aDataScienceProject\\Python_Code\\CleaningData.py:94: SettingWithCopyWarning: \n",
      "A value is trying to be set on a copy of a slice from a DataFrame.\n",
      "Try using .loc[row_indexer,col_indexer] = value instead\n",
      "\n",
      "See the caveats in the documentation: https://pandas.pydata.org/pandas-docs/stable/user_guide/indexing.html#returning-a-view-versus-a-copy\n",
      "  self.activa[self.passiva.columns[i]] = self.activa[self.passiva.columns[i]].astype(float)\n",
      "c:\\Users\\benjf\\Documents\\Programmierung\\Projekte\\VdZ_aDataScienceProject\\Python_Code\\CleaningData.py:93: SettingWithCopyWarning: \n",
      "A value is trying to be set on a copy of a slice from a DataFrame.\n",
      "Try using .loc[row_indexer,col_indexer] = value instead\n",
      "\n",
      "See the caveats in the documentation: https://pandas.pydata.org/pandas-docs/stable/user_guide/indexing.html#returning-a-view-versus-a-copy\n",
      "  self.activa[self.activa.columns[i]] = self.activa[self.activa.columns[i]].astype(float)\n",
      "c:\\Users\\benjf\\Documents\\Programmierung\\Projekte\\VdZ_aDataScienceProject\\Python_Code\\CleaningData.py:94: SettingWithCopyWarning: \n",
      "A value is trying to be set on a copy of a slice from a DataFrame.\n",
      "Try using .loc[row_indexer,col_indexer] = value instead\n",
      "\n",
      "See the caveats in the documentation: https://pandas.pydata.org/pandas-docs/stable/user_guide/indexing.html#returning-a-view-versus-a-copy\n",
      "  self.activa[self.passiva.columns[i]] = self.activa[self.passiva.columns[i]].astype(float)\n"
     ]
    }
   ],
   "source": [
    "CD.cleaning_act_pass()"
   ]
  },
  {
   "cell_type": "code",
   "execution_count": 14,
   "metadata": {},
   "outputs": [
    {
     "data": {
      "text/plain": [
       "'-832.0'"
      ]
     },
     "execution_count": 14,
     "metadata": {},
     "output_type": "execute_result"
    }
   ],
   "source": [
    "CD.passiva.iloc[2, 1]"
   ]
  },
  {
   "cell_type": "markdown",
   "metadata": {},
   "source": [
    "## Testing"
   ]
  },
  {
   "cell_type": "markdown",
   "metadata": {},
   "source": [
    "Creating data cleaning class to make the cleaning process faster"
   ]
  },
  {
   "cell_type": "code",
   "execution_count": null,
   "metadata": {},
   "outputs": [
    {
     "name": "stderr",
     "output_type": "stream",
     "text": [
      "C:\\Users\\benjf\\AppData\\Local\\Temp\\ipykernel_9408\\2046554483.py:1: FutureWarning: The 'delim_whitespace' keyword in pd.read_csv is deprecated and will be removed in a future version. Use ``sep='\\s+'`` instead\n",
      "  B17_besucher = pd.read_csv(\n"
     ]
    }
   ],
   "source": [
    "B17_besucher = pd.read_csv(\n",
    "    filepath_or_buffer='../../Data/Berlin/2017/cn_zoo.csv',\n",
    "    delim_whitespace=True, encoding='utf-8'\n",
    ")"
   ]
  },
  {
   "cell_type": "code",
   "execution_count": null,
   "metadata": {},
   "outputs": [
    {
     "data": {
      "text/plain": [
       "Index(['Tagestickets', 'Zoo', 'Eintrittskarten', '2017', 'Eintrittskarten.1',\n",
       "       '2016', '+/-', 'Vorjahr', 'in', '%'],\n",
       "      dtype='object')"
      ]
     },
     "execution_count": 19,
     "metadata": {},
     "output_type": "execute_result"
    }
   ],
   "source": [
    "B17_besucher.columns"
   ]
  },
  {
   "cell_type": "code",
   "execution_count": null,
   "metadata": {},
   "outputs": [
    {
     "data": {
      "text/html": [
       "<div>\n",
       "<style scoped>\n",
       "    .dataframe tbody tr th:only-of-type {\n",
       "        vertical-align: middle;\n",
       "    }\n",
       "\n",
       "    .dataframe tbody tr th {\n",
       "        vertical-align: top;\n",
       "    }\n",
       "\n",
       "    .dataframe thead th {\n",
       "        text-align: right;\n",
       "    }\n",
       "</style>\n",
       "<table border=\"1\" class=\"dataframe\">\n",
       "  <thead>\n",
       "    <tr style=\"text-align: right;\">\n",
       "      <th></th>\n",
       "      <th>Tagestickets</th>\n",
       "      <th>Zoo</th>\n",
       "      <th>Eintrittskarten</th>\n",
       "      <th>2017</th>\n",
       "      <th>Eintrittskarten.1</th>\n",
       "      <th>2016</th>\n",
       "      <th>+/-</th>\n",
       "      <th>Vorjahr</th>\n",
       "      <th>in</th>\n",
       "      <th>%</th>\n",
       "    </tr>\n",
       "  </thead>\n",
       "  <tbody>\n",
       "    <tr>\n",
       "      <th>0</th>\n",
       "      <td>Erwachsene</td>\n",
       "      <td>690.974</td>\n",
       "      <td>653.801</td>\n",
       "      <td>6</td>\n",
       "      <td>%</td>\n",
       "      <td>NaN</td>\n",
       "      <td>NaN</td>\n",
       "      <td>NaN</td>\n",
       "      <td>NaN</td>\n",
       "      <td>NaN</td>\n",
       "    </tr>\n",
       "    <tr>\n",
       "      <th>1</th>\n",
       "      <td>Ermäßigte</td>\n",
       "      <td>160.409</td>\n",
       "      <td>163.532</td>\n",
       "      <td>-2</td>\n",
       "      <td>%</td>\n",
       "      <td>NaN</td>\n",
       "      <td>NaN</td>\n",
       "      <td>NaN</td>\n",
       "      <td>NaN</td>\n",
       "      <td>NaN</td>\n",
       "    </tr>\n",
       "    <tr>\n",
       "      <th>2</th>\n",
       "      <td>Kinder</td>\n",
       "      <td>107.606</td>\n",
       "      <td>101.820</td>\n",
       "      <td>6</td>\n",
       "      <td>%</td>\n",
       "      <td>NaN</td>\n",
       "      <td>NaN</td>\n",
       "      <td>NaN</td>\n",
       "      <td>NaN</td>\n",
       "      <td>NaN</td>\n",
       "    </tr>\n",
       "    <tr>\n",
       "      <th>3</th>\n",
       "      <td>Familien</td>\n",
       "      <td>262.132</td>\n",
       "      <td>211.813</td>\n",
       "      <td>24</td>\n",
       "      <td>%</td>\n",
       "      <td>NaN</td>\n",
       "      <td>NaN</td>\n",
       "      <td>NaN</td>\n",
       "      <td>NaN</td>\n",
       "      <td>NaN</td>\n",
       "    </tr>\n",
       "    <tr>\n",
       "      <th>4</th>\n",
       "      <td>Andere</td>\n",
       "      <td>Eintrittsgelder</td>\n",
       "      <td>17.662</td>\n",
       "      <td>23.932</td>\n",
       "      <td>-26</td>\n",
       "      <td>%</td>\n",
       "      <td>NaN</td>\n",
       "      <td>NaN</td>\n",
       "      <td>NaN</td>\n",
       "      <td>NaN</td>\n",
       "    </tr>\n",
       "  </tbody>\n",
       "</table>\n",
       "</div>"
      ],
      "text/plain": [
       "  Tagestickets              Zoo Eintrittskarten    2017 Eintrittskarten.1  \\\n",
       "0   Erwachsene          690.974         653.801       6                 %   \n",
       "1    Ermäßigte          160.409         163.532      -2                 %   \n",
       "2       Kinder          107.606         101.820       6                 %   \n",
       "3     Familien          262.132         211.813      24                 %   \n",
       "4       Andere  Eintrittsgelder          17.662  23.932               -26   \n",
       "\n",
       "  2016  +/-  Vorjahr  in   %  \n",
       "0  NaN  NaN      NaN NaN NaN  \n",
       "1  NaN  NaN      NaN NaN NaN  \n",
       "2  NaN  NaN      NaN NaN NaN  \n",
       "3  NaN  NaN      NaN NaN NaN  \n",
       "4    %  NaN      NaN NaN NaN  "
      ]
     },
     "execution_count": 20,
     "metadata": {},
     "output_type": "execute_result"
    }
   ],
   "source": [
    "B17_besucher.head()"
   ]
  },
  {
   "cell_type": "code",
   "execution_count": null,
   "metadata": {},
   "outputs": [],
   "source": []
  }
 ],
 "metadata": {
  "kernelspec": {
   "display_name": "projects",
   "language": "python",
   "name": "python3"
  },
  "language_info": {
   "codemirror_mode": {
    "name": "ipython",
    "version": 3
   },
   "file_extension": ".py",
   "mimetype": "text/x-python",
   "name": "python",
   "nbconvert_exporter": "python",
   "pygments_lexer": "ipython3",
   "version": "3.12.8"
  }
 },
 "nbformat": 4,
 "nbformat_minor": 2
}
