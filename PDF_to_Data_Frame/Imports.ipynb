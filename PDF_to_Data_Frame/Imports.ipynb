{
 "cells": [
  {
   "cell_type": "markdown",
   "id": "e75ae8cc",
   "metadata": {},
   "source": [
    "# Imports"
   ]
  },
  {
   "cell_type": "code",
   "execution_count": 4,
   "id": "3391ccbc",
   "metadata": {},
   "outputs": [],
   "source": [
    "import numpy as np\n",
    "import pandas as pd\n",
    "import seaborn as sns\n",
    "import matplotlib.pyplot as plt\n",
    "import camelot\n",
    "import openpyxl\n",
    "import pymupdf"
   ]
  },
  {
   "cell_type": "code",
   "execution_count": 5,
   "id": "fff38471",
   "metadata": {},
   "outputs": [],
   "source": [
    "import os\n",
    "import sys\n",
    "parent_dir = os.path.abspath(os.path.join(os.getcwd(), \"..\"))\n",
    "sys.path.append(parent_dir)"
   ]
  },
  {
   "cell_type": "markdown",
   "id": "9bb64b87",
   "metadata": {},
   "source": [
    "# Data"
   ]
  },
  {
   "cell_type": "markdown",
   "id": "cb72a58c",
   "metadata": {},
   "source": [
    "## From Data folder"
   ]
  },
  {
   "cell_type": "code",
   "execution_count": 3,
   "id": "c54117ce",
   "metadata": {},
   "outputs": [
    {
     "data": {
      "text/plain": [
       "'2.2.3'"
      ]
     },
     "execution_count": 3,
     "metadata": {},
     "output_type": "execute_result"
    }
   ],
   "source": [
    "pd.__version__"
   ]
  },
  {
   "cell_type": "code",
   "execution_count": 4,
   "id": "7f479039",
   "metadata": {},
   "outputs": [],
   "source": [
    "data_path = '../Data/'\n",
    "test  = pd.read_excel('../Data/Members.xlsx', engine='openpyxl')\n",
    "members = pd.read_excel(data_path + 'Members.xlsx', engine='openpyxl')\n",
    "members = members.dropna()"
   ]
  },
  {
   "cell_type": "code",
   "execution_count": null,
   "id": "586d7f84",
   "metadata": {},
   "outputs": [],
   "source": [
    "metadata_path = '../Data/metadata.pkl'\n",
    "tables_path = '../Data/tables.pkl'\n"
   ]
  },
  {
   "cell_type": "markdown",
   "id": "8f450377",
   "metadata": {},
   "source": [
    "# Functions"
   ]
  },
  {
   "cell_type": "code",
   "execution_count": null,
   "id": "415982b6",
   "metadata": {},
   "outputs": [],
   "source": [
    "def read_pdf_tables(file_path, pages='all'):\n",
    "    tables = camelot.read_pdf(file_path, pages=pages, process_background=True)\n",
    "    return tables\n"
   ]
  },
  {
   "cell_type": "code",
   "execution_count": null,
   "id": "637df493",
   "metadata": {},
   "outputs": [],
   "source": [
    "def metadata_function(file_path):\n",
    "    doc = pymupdf.open(file_path)\n",
    "    meta = doc.metadata\n",
    "    return meta"
   ]
  },
  {
   "cell_type": "code",
   "execution_count": null,
   "id": "9d19b7f5",
   "metadata": {},
   "outputs": [],
   "source": [
    "def dict_metadata(meta, place, report_type):\n",
    "    meta_dict = {\n",
    "        'Place': place,\n",
    "        'Metadata': meta,\n",
    "        'Report_Type': report_type\n",
    "    }\n",
    "    return meta_dict"
   ]
  },
  {
   "cell_type": "code",
   "execution_count": 6,
   "id": "8b3b2ca0",
   "metadata": {},
   "outputs": [],
   "source": [
    "def open_dict_pkl(file_path):\n",
    "    with open(file_path, 'rb') as f:\n",
    "        results = pd.read_pickle(f)\n",
    "    return results"
   ]
  },
  {
   "cell_type": "code",
   "execution_count": 7,
   "id": "b4e9f780",
   "metadata": {},
   "outputs": [],
   "source": [
    "def save_dict_pkl(results, file_path):\n",
    "    with open(file_path, 'wb') as f:\n",
    "        pd.to_pickle(results, f)"
   ]
  },
  {
   "cell_type": "code",
   "execution_count": null,
   "id": "c9fb5117",
   "metadata": {},
   "outputs": [],
   "source": [
    "def parsing_report_df(dict_input):\n",
    "    pr = {}\n",
    "    for year in dict_input.keys():\n",
    "        year_pa = {}\n",
    "        for i in range(len(dict_input[year])):\n",
    "            year_pa[i] = dict_input[year][i].parsing_report\n",
    "        pr[f'{year}_parsing_report'] = year_pa\n",
    "    return pr"
   ]
  },
  {
   "cell_type": "code",
   "execution_count": null,
   "id": "9cd6d947",
   "metadata": {},
   "outputs": [],
   "source": [
    "def table_to_df(dict_input):\n",
    "    pr = {}\n",
    "    for year in dict_input.keys():\n",
    "        year_pa = {}\n",
    "        for i in range(len(dict_input[year])):\n",
    "            year_pa[i] = dict_input[year][i].df\n",
    "        pr[year] = year_pa\n",
    "    return pr"
   ]
  },
  {
   "cell_type": "markdown",
   "id": "292b500e",
   "metadata": {},
   "source": [
    "# Loading Dictionaries"
   ]
  },
  {
   "cell_type": "code",
   "execution_count": 15,
   "id": "a6fbbb63",
   "metadata": {},
   "outputs": [],
   "source": [
    "tables_dict = open_dict_pkl(tables_path)\n",
    "metadata_dict = open_dict_pkl(metadata_path)"
   ]
  }
 ],
 "metadata": {
  "kernelspec": {
   "display_name": "projects",
   "language": "python",
   "name": "python3"
  },
  "language_info": {
   "codemirror_mode": {
    "name": "ipython",
    "version": 3
   },
   "file_extension": ".py",
   "mimetype": "text/x-python",
   "name": "python",
   "nbconvert_exporter": "python",
   "pygments_lexer": "ipython3",
   "version": "3.12.8"
  }
 },
 "nbformat": 4,
 "nbformat_minor": 5
}
