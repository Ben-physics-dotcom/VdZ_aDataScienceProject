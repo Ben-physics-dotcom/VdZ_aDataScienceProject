{
 "cells": [
  {
   "cell_type": "markdown",
   "id": "4c92d0c2",
   "metadata": {},
   "source": [
    "# Imports"
   ]
  },
  {
   "cell_type": "code",
   "execution_count": 13,
   "id": "a06ff925",
   "metadata": {},
   "outputs": [],
   "source": [
    "%run Imports.ipynb"
   ]
  },
  {
   "cell_type": "markdown",
   "id": "c453165c",
   "metadata": {},
   "source": [
    "# Resourcen"
   ]
  },
  {
   "cell_type": "code",
   "execution_count": 14,
   "id": "22c87f82",
   "metadata": {},
   "outputs": [],
   "source": [
    "path = '../../VdZ_Geschäftsberichte/Berlin/'"
   ]
  },
  {
   "cell_type": "markdown",
   "id": "1e0cc5db",
   "metadata": {},
   "source": [
    "# 2017"
   ]
  },
  {
   "cell_type": "code",
   "execution_count": 15,
   "id": "5f8eaaab",
   "metadata": {},
   "outputs": [],
   "source": [
    "file17 = 'Geschaeftsbericht_AG_2017.pdf'"
   ]
  },
  {
   "cell_type": "code",
   "execution_count": 16,
   "id": "691b1866",
   "metadata": {},
   "outputs": [],
   "source": [
    "metadata17 = metadata_function(path + file17)"
   ]
  },
  {
   "cell_type": "code",
   "execution_count": null,
   "id": "5cf66a6b",
   "metadata": {},
   "outputs": [],
   "source": [
    "# tables17_zoo = read_pdf_tables(path + file17, pages='0-100')\n",
    "# tables17_tg = read_pdf_tables(path + file17, pages='101-end')"
   ]
  },
  {
   "cell_type": "code",
   "execution_count": null,
   "id": "102e728a",
   "metadata": {},
   "outputs": [],
   "source": [
    "# tables_dict['Berlin']['ZooAquarium'][2017] = tables17_zoo\n",
    "# tables_dict['Berlin']['Tiergarten'][2017] = tables17_tg"
   ]
  },
  {
   "cell_type": "code",
   "execution_count": null,
   "id": "676c8f92",
   "metadata": {},
   "outputs": [],
   "source": [
    "# save_dict_pkl(tables_dict, tables_path)"
   ]
  },
  {
   "cell_type": "code",
   "execution_count": null,
   "id": "7d11269c",
   "metadata": {},
   "outputs": [],
   "source": [
    "# metadata_dict['Berlin'][2017] = metadata17\n"
   ]
  },
  {
   "cell_type": "code",
   "execution_count": null,
   "id": "430609aa",
   "metadata": {},
   "outputs": [],
   "source": [
    "# save_dict_pkl(metadata_dict, metadata_path)"
   ]
  },
  {
   "cell_type": "markdown",
   "id": "da535d2b",
   "metadata": {},
   "source": [
    "# 2018 - 2021"
   ]
  },
  {
   "cell_type": "code",
   "execution_count": 32,
   "id": "92324ef3",
   "metadata": {},
   "outputs": [],
   "source": [
    "years = [2018, 2019, 2020, 2021]\n",
    "zoo_end = [101, 101, 99, 103]"
   ]
  },
  {
   "cell_type": "code",
   "execution_count": 33,
   "id": "bb4f760f",
   "metadata": {},
   "outputs": [
    {
     "name": "stdout",
     "output_type": "stream",
     "text": [
      "2018\n",
      "2019\n",
      "2020\n"
     ]
    },
    {
     "name": "stderr",
     "output_type": "stream",
     "text": [
      "c:\\Users\\benjf\\anaconda3\\envs\\projects\\Lib\\site-packages\\camelot\\parsers\\base.py:124: UserWarning: page-2 is image-based, camelot only works on text-based pages.\n",
      "  warnings.warn(\n"
     ]
    },
    {
     "name": "stdout",
     "output_type": "stream",
     "text": [
      "2021\n"
     ]
    },
    {
     "name": "stderr",
     "output_type": "stream",
     "text": [
      "c:\\Users\\benjf\\anaconda3\\envs\\projects\\Lib\\site-packages\\camelot\\parsers\\base.py:124: UserWarning: page-2 is image-based, camelot only works on text-based pages.\n",
      "  warnings.warn(\n",
      "c:\\Users\\benjf\\anaconda3\\envs\\projects\\Lib\\site-packages\\camelot\\parsers\\base.py:124: UserWarning: page-203 is image-based, camelot only works on text-based pages.\n",
      "  warnings.warn(\n"
     ]
    }
   ],
   "source": [
    "for i in range(len(years)):\n",
    "    year = years[i]\n",
    "    print(year)\n",
    "    zoo_pages = f'0-{zoo_end[i]}'\n",
    "    tg_pages = f'{zoo_end[i]+1}-end'\n",
    "    file = f'Geschaeftsbericht_AG_{year}.pdf'\n",
    "    md = metadata_function(path + file)\n",
    "    metadata = dict_metadata('Berlin', md, 'Geschaeftsbericht')\n",
    "    metadata_dict['Berlin'][year] = metadata\n",
    "    tables_zoo = read_pdf_tables(path + file, pages=zoo_pages)\n",
    "    tables_tg = read_pdf_tables(path + file, pages=tg_pages)\n",
    "    tables_dict['Berlin']['ZooAquarium'][year] = tables_zoo\n",
    "    tables_dict['Berlin']['Tiergarten'][year] = tables_tg\n",
    "    save_dict_pkl(tables_dict, tables_path)\n",
    "    save_dict_pkl(metadata_dict, metadata_path)"
   ]
  },
  {
   "cell_type": "markdown",
   "id": "c8462290",
   "metadata": {},
   "source": [
    "# Parsing Reports"
   ]
  },
  {
   "cell_type": "code",
   "execution_count": 50,
   "id": "6d0fc88a",
   "metadata": {},
   "outputs": [],
   "source": [
    "tables_dict['ParsingReports'] = {\n",
    "    'Achen': {},\n",
    "    'Berlin': {\n",
    "        'ZooAquarium': {},\n",
    "        'Tiergarten': {}\n",
    "    },\n",
    "    'Cologne': {},\n",
    "    'Gossau': {},\n",
    "    'Munich': {},\n",
    "    'Zurich': {}\n",
    "}"
   ]
  },
  {
   "cell_type": "code",
   "execution_count": 37,
   "id": "83804b66",
   "metadata": {},
   "outputs": [],
   "source": [
    "za = tables_dict['Berlin']['ZooAquarium']\n",
    "tg = tables_dict['Berlin']['Tiergarten']"
   ]
  },
  {
   "cell_type": "code",
   "execution_count": 43,
   "id": "a72f4add",
   "metadata": {},
   "outputs": [
    {
     "data": {
      "text/plain": [
       "<TableList n=49>"
      ]
     },
     "execution_count": 43,
     "metadata": {},
     "output_type": "execute_result"
    }
   ],
   "source": [
    "za[2017]"
   ]
  },
  {
   "cell_type": "code",
   "execution_count": 44,
   "id": "77659e58",
   "metadata": {},
   "outputs": [],
   "source": [
    "def parsing_report_df(dict_input):\n",
    "    pr = {}\n",
    "    for year in dict_input.keys():\n",
    "        year_pa = {}\n",
    "        for i in range(len(dict_input[year])):\n",
    "            year_pa[i] = dict_input[year][i].parsing_report\n",
    "        pr[f'{year}_parsing_report'] = year_pa\n",
    "    return pr"
   ]
  },
  {
   "cell_type": "code",
   "execution_count": 47,
   "id": "f9e092b0",
   "metadata": {},
   "outputs": [],
   "source": [
    "za_parsing_report = parsing_report_df(za)\n",
    "tg_parsing_report = parsing_report_df(tg)"
   ]
  },
  {
   "cell_type": "code",
   "execution_count": 53,
   "id": "6681867c",
   "metadata": {},
   "outputs": [],
   "source": [
    "tables_dict['ParsingReports']['Berlin']['ZooAquarium'] = za_parsing_report\n",
    "tables_dict['ParsingReports']['Berlin']['Tiergarten'] = tg_parsing_report"
   ]
  },
  {
   "cell_type": "code",
   "execution_count": 54,
   "id": "a245d50e",
   "metadata": {},
   "outputs": [],
   "source": [
    "save_dict_pkl(tables_dict, tables_path)"
   ]
  },
  {
   "cell_type": "markdown",
   "id": "8c232366",
   "metadata": {},
   "source": [
    "# Transforming tables in data frames"
   ]
  },
  {
   "cell_type": "code",
   "execution_count": 55,
   "id": "73375553",
   "metadata": {},
   "outputs": [],
   "source": [
    "def table_to_df(dict_input):\n",
    "    pr = {}\n",
    "    for year in dict_input.keys():\n",
    "        year_pa = {}\n",
    "        for i in range(len(dict_input[year])):\n",
    "            year_pa[i] = dict_input[year][i].df\n",
    "        pr[year] = year_pa\n",
    "    return pr"
   ]
  },
  {
   "cell_type": "code",
   "execution_count": 56,
   "id": "3742b148",
   "metadata": {},
   "outputs": [],
   "source": [
    "za_dfs = table_to_df(za)\n",
    "tg_dfs = table_to_df(tg)\n"
   ]
  },
  {
   "cell_type": "code",
   "execution_count": 59,
   "id": "d8469994",
   "metadata": {},
   "outputs": [],
   "source": [
    "tables_dict['Berlin']['Tiergarten'] = tg_dfs\n",
    "tables_dict['Berlin']['ZooAquarium'] = za_dfs"
   ]
  },
  {
   "cell_type": "code",
   "execution_count": 60,
   "id": "8bf2f04f",
   "metadata": {},
   "outputs": [],
   "source": [
    "save_dict_pkl(tables_dict, tables_path)"
   ]
  },
  {
   "cell_type": "code",
   "execution_count": 61,
   "id": "a26dfaad",
   "metadata": {},
   "outputs": [],
   "source": [
    "save_dict_pkl(tables_dict['Berlin'], data_path + 'Berlin_tables.pkl')"
   ]
  }
 ],
 "metadata": {
  "kernelspec": {
   "display_name": "projects",
   "language": "python",
   "name": "python3"
  },
  "language_info": {
   "codemirror_mode": {
    "name": "ipython",
    "version": 3
   },
   "file_extension": ".py",
   "mimetype": "text/x-python",
   "name": "python",
   "nbconvert_exporter": "python",
   "pygments_lexer": "ipython3",
   "version": "3.12.8"
  }
 },
 "nbformat": 4,
 "nbformat_minor": 5
}
