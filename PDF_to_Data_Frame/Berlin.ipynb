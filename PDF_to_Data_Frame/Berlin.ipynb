{
 "cells": [
  {
   "cell_type": "markdown",
   "id": "4c92d0c2",
   "metadata": {},
   "source": [
    "# Imports"
   ]
  },
  {
   "cell_type": "code",
   "execution_count": 13,
   "id": "a06ff925",
   "metadata": {},
   "outputs": [],
   "source": [
    "%run Imports.ipynb"
   ]
  },
  {
   "cell_type": "markdown",
   "id": "c453165c",
   "metadata": {},
   "source": [
    "# Resourcen"
   ]
  },
  {
   "cell_type": "code",
   "execution_count": 14,
   "id": "22c87f82",
   "metadata": {},
   "outputs": [],
   "source": [
    "path = '../../VdZ_Geschäftsberichte/Berlin/'"
   ]
  },
  {
   "cell_type": "markdown",
   "id": "1e0cc5db",
   "metadata": {},
   "source": [
    "# 2017"
   ]
  },
  {
   "cell_type": "code",
   "execution_count": 15,
   "id": "5f8eaaab",
   "metadata": {},
   "outputs": [],
   "source": [
    "file17 = 'Geschaeftsbericht_AG_2017.pdf'"
   ]
  },
  {
   "cell_type": "code",
   "execution_count": 16,
   "id": "691b1866",
   "metadata": {},
   "outputs": [],
   "source": [
    "metadata17 = metadata_function(path + file17)"
   ]
  },
  {
   "cell_type": "code",
   "execution_count": 12,
   "id": "5cf66a6b",
   "metadata": {},
   "outputs": [],
   "source": [
    "tables17_zoo = read_pdf_tables(path + file17, pages='0-100')\n",
    "tables17_tg = read_pdf_tables(path + file17, pages='101-end')"
   ]
  },
  {
   "cell_type": "code",
   "execution_count": 20,
   "id": "102e728a",
   "metadata": {},
   "outputs": [],
   "source": [
    "tables_dict['Berlin']['ZooAquarium'][2017] = tables17_zoo\n",
    "tables_dict['Berlin']['Tiergarten'][2017] = tables17_tg"
   ]
  },
  {
   "cell_type": "code",
   "execution_count": 24,
   "id": "676c8f92",
   "metadata": {},
   "outputs": [],
   "source": [
    "save_dict_pkl(tables_dict, tables_path)"
   ]
  },
  {
   "cell_type": "code",
   "execution_count": null,
   "id": "7d11269c",
   "metadata": {},
   "outputs": [],
   "source": [
    "metadata_dict['Berlin'][2017] = metadata17\n"
   ]
  },
  {
   "cell_type": "code",
   "execution_count": 30,
   "id": "430609aa",
   "metadata": {},
   "outputs": [],
   "source": [
    "save_dict_pkl(metadata_dict, metadata_path)"
   ]
  },
  {
   "cell_type": "markdown",
   "id": "da535d2b",
   "metadata": {},
   "source": [
    "# 2018"
   ]
  },
  {
   "cell_type": "code",
   "execution_count": null,
   "id": "bd7110a2",
   "metadata": {},
   "outputs": [],
   "source": []
  },
  {
   "cell_type": "markdown",
   "id": "3680ab0d",
   "metadata": {},
   "source": [
    "# 2019"
   ]
  },
  {
   "cell_type": "code",
   "execution_count": null,
   "id": "92324ef3",
   "metadata": {},
   "outputs": [],
   "source": []
  }
 ],
 "metadata": {
  "kernelspec": {
   "display_name": "projects",
   "language": "python",
   "name": "python3"
  },
  "language_info": {
   "codemirror_mode": {
    "name": "ipython",
    "version": 3
   },
   "file_extension": ".py",
   "mimetype": "text/x-python",
   "name": "python",
   "nbconvert_exporter": "python",
   "pygments_lexer": "ipython3",
   "version": "3.12.8"
  }
 },
 "nbformat": 4,
 "nbformat_minor": 5
}
