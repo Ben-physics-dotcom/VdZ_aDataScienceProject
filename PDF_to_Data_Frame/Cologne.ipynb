{
 "cells": [
  {
   "cell_type": "markdown",
   "id": "923cd0fb",
   "metadata": {},
   "source": [
    "# Imports"
   ]
  },
  {
   "cell_type": "code",
   "execution_count": 16,
   "id": "174350e3",
   "metadata": {},
   "outputs": [],
   "source": [
    "%run Imports.ipynb"
   ]
  },
  {
   "cell_type": "markdown",
   "id": "eecee767",
   "metadata": {},
   "source": [
    "# Resources"
   ]
  },
  {
   "cell_type": "code",
   "execution_count": 17,
   "id": "3a417af1",
   "metadata": {},
   "outputs": [],
   "source": [
    "path_jb = '../../VdZ_Geschäftsberichte/Cologne/JB/'\n",
    "path_gb = '../../VdZ_Geschäftsberichte/Cologne/GB/'"
   ]
  },
  {
   "cell_type": "markdown",
   "id": "d0cef2fc",
   "metadata": {},
   "source": [
    "# Metadata"
   ]
  },
  {
   "cell_type": "code",
   "execution_count": 18,
   "id": "8a8137bf",
   "metadata": {},
   "outputs": [
    {
     "data": {
      "text/plain": [
       "[2011, 2012, 2013, 2014, 2015, 2016, 2017, 2018, 2019, 2020, 2021, 2022, 2023]"
      ]
     },
     "execution_count": 18,
     "metadata": {},
     "output_type": "execute_result"
    }
   ],
   "source": [
    "years = list(range(2011, 2024))\n",
    "years"
   ]
  },
  {
   "cell_type": "code",
   "execution_count": 19,
   "id": "39c7c242",
   "metadata": {},
   "outputs": [],
   "source": [
    "metadata_dict['Cologne'] = {'GB': {}, 'JB': {}}"
   ]
  },
  {
   "cell_type": "code",
   "execution_count": 20,
   "id": "89c3bdfa",
   "metadata": {},
   "outputs": [
    {
     "data": {
      "text/plain": [
       "{'GB': {}, 'JB': {}}"
      ]
     },
     "execution_count": 20,
     "metadata": {},
     "output_type": "execute_result"
    }
   ],
   "source": [
    "metadata_dict['Cologne']"
   ]
  },
  {
   "cell_type": "code",
   "execution_count": 21,
   "id": "bf47cfcd",
   "metadata": {},
   "outputs": [],
   "source": [
    "def metadata_cologne_function(path: str, years: list, type_str: str) -> dict:\n",
    "    results = {}\n",
    "    for i in range(len(years)):\n",
    "        year = years[i]\n",
    "        print(year)\n",
    "        path_pdf = path + f'{year}.pdf'\n",
    "        md = metadata_function(path_pdf)\n",
    "        metadata = dict_metadata_function('Cologne', md, type_str)\n",
    "        results[year] = metadata\n",
    "    return results\n"
   ]
  },
  {
   "cell_type": "code",
   "execution_count": 23,
   "id": "9a4e4de4",
   "metadata": {},
   "outputs": [
    {
     "name": "stdout",
     "output_type": "stream",
     "text": [
      "2011\n",
      "2012\n",
      "2013\n",
      "2014\n",
      "2015\n",
      "2016\n",
      "2017\n",
      "2018\n",
      "2019\n",
      "2020\n",
      "2021\n",
      "2022\n",
      "2023\n",
      "2011\n",
      "2012\n",
      "2013\n",
      "2014\n",
      "2015\n",
      "2016\n",
      "2017\n",
      "2018\n",
      "2019\n",
      "2020\n",
      "2021\n",
      "2022\n",
      "2023\n"
     ]
    }
   ],
   "source": [
    "gb_md = metadata_cologne_function(path_gb, years, 'Geschäftsbericht')\n",
    "jb_md = metadata_cologne_function(path_jb, years, 'Jahresbericht')"
   ]
  },
  {
   "cell_type": "code",
   "execution_count": 24,
   "id": "1b98d65a",
   "metadata": {},
   "outputs": [
    {
     "data": {
      "text/plain": [
       "{2011: {'Place': {'format': 'PDF 1.6',\n",
       "   'title': '54421_005-060_Jahresbericht-2011_v04.pdf',\n",
       "   'author': 'fbenninghoff',\n",
       "   'subject': '',\n",
       "   'keywords': '',\n",
       "   'creator': 'Adobe InDesign CS4 (6.0.6)',\n",
       "   'producer': 'Acrobat Distiller 8.3.1 (Macintosh)',\n",
       "   'creationDate': \"D:20120411144556+02'00'\",\n",
       "   'modDate': \"D:20120411145356+02'00'\",\n",
       "   'trapped': '',\n",
       "   'encryption': None},\n",
       "  'Metadata': 'Cologne',\n",
       "  'Report_Type': 'Jahresbericht'},\n",
       " 2012: {'Place': {'format': 'PDF 1.6',\n",
       "   'title': '56424_000_U1+U4.pdf',\n",
       "   'author': 'fbenninghoff',\n",
       "   'subject': '',\n",
       "   'keywords': '',\n",
       "   'creator': 'Adobe InDesign CS4 (6.0.6)',\n",
       "   'producer': 'Acrobat Distiller 8.3.1 (Macintosh)',\n",
       "   'creationDate': \"D:20130402172155+02'00'\",\n",
       "   'modDate': \"D:20130403164545+02'00'\",\n",
       "   'trapped': '',\n",
       "   'encryption': None},\n",
       "  'Metadata': 'Cologne',\n",
       "  'Report_Type': 'Jahresbericht'},\n",
       " 2013: {'Place': {'format': 'PDF 1.6',\n",
       "   'title': '57786_000_U1+U4.pdf',\n",
       "   'author': 'fbenninghoff',\n",
       "   'subject': '',\n",
       "   'keywords': '',\n",
       "   'creator': 'Adobe InDesign CS4 (6.0.6)',\n",
       "   'producer': 'Acrobat Distiller 8.3.1 (Macintosh)',\n",
       "   'creationDate': \"D:20140505141335+02'00'\",\n",
       "   'modDate': \"D:20140507150453+02'00'\",\n",
       "   'trapped': '',\n",
       "   'encryption': None},\n",
       "  'Metadata': 'Cologne',\n",
       "  'Report_Type': 'Jahresbericht'},\n",
       " 2014: {'Place': {'format': 'PDF 1.7',\n",
       "   'title': '58164_000_U1+U4_ES.pdf',\n",
       "   'author': 'akock',\n",
       "   'subject': '',\n",
       "   'keywords': '',\n",
       "   'creator': 'Adobe InDesign CS4 (6.0.6)',\n",
       "   'producer': 'Acrobat Distiller 10.1.13 (Macintosh)',\n",
       "   'creationDate': \"D:20150529114935+02'00'\",\n",
       "   'modDate': \"D:20150529120904+02'00'\",\n",
       "   'trapped': '',\n",
       "   'encryption': None},\n",
       "  'Metadata': 'Cologne',\n",
       "  'Report_Type': 'Jahresbericht'},\n",
       " 2015: {'Place': {'format': 'PDF 1.7',\n",
       "   'title': '59597_003-071_Jahresbericht-2015_v04b.pdf',\n",
       "   'author': 'fbenninghoff',\n",
       "   'subject': '',\n",
       "   'keywords': '',\n",
       "   'creator': 'Adobe InDesign CC 2014 (Macintosh)',\n",
       "   'producer': 'Acrobat Distiller 15.0 (Macintosh)',\n",
       "   'creationDate': \"D:20160429132037+02'00'\",\n",
       "   'modDate': \"D:20160509115721+02'00'\",\n",
       "   'trapped': '',\n",
       "   'encryption': None},\n",
       "  'Metadata': 'Cologne',\n",
       "  'Report_Type': 'Jahresbericht'},\n",
       " 2016: {'Place': {'format': 'PDF 1.7',\n",
       "   'title': '60459_005-071_Jahresbericht-2016_v04.pdf',\n",
       "   'author': 'fbenninghoff',\n",
       "   'subject': '',\n",
       "   'keywords': '',\n",
       "   'creator': 'Adobe InDesign CC 2014 (Macintosh)',\n",
       "   'producer': 'Acrobat Distiller 17.0 (Macintosh)',\n",
       "   'creationDate': \"D:20170502144834+02'00'\",\n",
       "   'modDate': \"D:20170504122940+02'00'\",\n",
       "   'trapped': '',\n",
       "   'encryption': None},\n",
       "  'Metadata': 'Cologne',\n",
       "  'Report_Type': 'Jahresbericht'},\n",
       " 2017: {'Place': {'format': 'PDF 1.7',\n",
       "   'title': '61506_000_U1+U4.pdf',\n",
       "   'author': 'fbenninghoff',\n",
       "   'subject': '',\n",
       "   'keywords': '',\n",
       "   'creator': 'Adobe InDesign CC 13.1 (Macintosh)',\n",
       "   'producer': 'Acrobat Distiller 18.0 (Macintosh)',\n",
       "   'creationDate': \"D:20180530144031+02'00'\",\n",
       "   'modDate': \"D:20180621105402+02'00'\",\n",
       "   'trapped': '',\n",
       "   'encryption': None},\n",
       "  'Metadata': 'Cologne',\n",
       "  'Report_Type': 'Jahresbericht'},\n",
       " 2018: {'Place': {'format': 'PDF 1.7',\n",
       "   'title': '',\n",
       "   'author': '',\n",
       "   'subject': '',\n",
       "   'keywords': '',\n",
       "   'creator': 'Adobe InDesign CC 13.1 (Macintosh)',\n",
       "   'producer': 'Adobe PDF Library 15.0',\n",
       "   'creationDate': \"D:20190429115413+02'00'\",\n",
       "   'modDate': \"D:20200527135332+02'00'\",\n",
       "   'trapped': '',\n",
       "   'encryption': None},\n",
       "  'Metadata': 'Cologne',\n",
       "  'Report_Type': 'Jahresbericht'},\n",
       " 2019: {'Place': {'format': 'PDF 1.5',\n",
       "   'title': '',\n",
       "   'author': '',\n",
       "   'subject': '',\n",
       "   'keywords': '',\n",
       "   'creator': 'Adobe InDesign 15.0 (Windows)',\n",
       "   'producer': 'Adobe PDF Library 15.0',\n",
       "   'creationDate': \"D:20200526144637+02'00'\",\n",
       "   'modDate': \"D:20200526145139+02'00'\",\n",
       "   'trapped': '',\n",
       "   'encryption': None},\n",
       "  'Metadata': 'Cologne',\n",
       "  'Report_Type': 'Jahresbericht'},\n",
       " 2020: {'Place': {'format': 'PDF 1.6',\n",
       "   'title': '',\n",
       "   'author': '',\n",
       "   'subject': '',\n",
       "   'keywords': '',\n",
       "   'creator': 'Adobe InDesign 16.2 (Windows)',\n",
       "   'producer': 'Adobe PDF Library 15.0',\n",
       "   'creationDate': \"D:20210528162543+02'00'\",\n",
       "   'modDate': \"D:20210531090624+02'00'\",\n",
       "   'trapped': '',\n",
       "   'encryption': None},\n",
       "  'Metadata': 'Cologne',\n",
       "  'Report_Type': 'Jahresbericht'},\n",
       " 2021: {'Place': {'format': 'PDF 1.5',\n",
       "   'title': '',\n",
       "   'author': '',\n",
       "   'subject': '',\n",
       "   'keywords': '',\n",
       "   'creator': 'Adobe InDesign 17.3 (Windows)',\n",
       "   'producer': 'Adobe PDF Library 16.0.7',\n",
       "   'creationDate': \"D:20220624110503+02'00'\",\n",
       "   'modDate': \"D:20220624111228+02'00'\",\n",
       "   'trapped': '',\n",
       "   'encryption': None},\n",
       "  'Metadata': 'Cologne',\n",
       "  'Report_Type': 'Jahresbericht'},\n",
       " 2022: {'Place': {'format': 'PDF 1.3',\n",
       "   'title': '',\n",
       "   'author': '',\n",
       "   'subject': '',\n",
       "   'keywords': '',\n",
       "   'creator': 'Adobe InDesign 18.0 (Windows)',\n",
       "   'producer': 'Adobe PDF Library 17.0',\n",
       "   'creationDate': \"D:20230706081300+02'00'\",\n",
       "   'modDate': \"D:20230817134925+02'00'\",\n",
       "   'trapped': '',\n",
       "   'encryption': None},\n",
       "  'Metadata': 'Cologne',\n",
       "  'Report_Type': 'Jahresbericht'},\n",
       " 2023: {'Place': {'format': 'PDF 1.5',\n",
       "   'title': '',\n",
       "   'author': '',\n",
       "   'subject': '',\n",
       "   'keywords': '',\n",
       "   'creator': 'Adobe InDesign 18.0 (Windows)',\n",
       "   'producer': 'Adobe PDF Library 17.0',\n",
       "   'creationDate': \"D:20240514085443+02'00'\",\n",
       "   'modDate': \"D:20240514090028+02'00'\",\n",
       "   'trapped': '',\n",
       "   'encryption': None},\n",
       "  'Metadata': 'Cologne',\n",
       "  'Report_Type': 'Jahresbericht'}}"
      ]
     },
     "execution_count": 24,
     "metadata": {},
     "output_type": "execute_result"
    }
   ],
   "source": [
    "jb_md"
   ]
  }
 ],
 "metadata": {
  "kernelspec": {
   "display_name": "projects",
   "language": "python",
   "name": "python3"
  },
  "language_info": {
   "codemirror_mode": {
    "name": "ipython",
    "version": 3
   },
   "file_extension": ".py",
   "mimetype": "text/x-python",
   "name": "python",
   "nbconvert_exporter": "python",
   "pygments_lexer": "ipython3",
   "version": "3.12.8"
  }
 },
 "nbformat": 4,
 "nbformat_minor": 5
}
