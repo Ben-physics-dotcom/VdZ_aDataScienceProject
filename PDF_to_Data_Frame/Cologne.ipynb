{
 "cells": [
  {
   "cell_type": "markdown",
   "id": "923cd0fb",
   "metadata": {},
   "source": [
    "# Imports"
   ]
  },
  {
   "cell_type": "code",
   "execution_count": 33,
   "id": "174350e3",
   "metadata": {},
   "outputs": [],
   "source": [
    "%run Imports.ipynb"
   ]
  },
  {
   "cell_type": "markdown",
   "id": "eecee767",
   "metadata": {},
   "source": [
    "# Resources"
   ]
  },
  {
   "cell_type": "code",
   "execution_count": 23,
   "id": "3a417af1",
   "metadata": {},
   "outputs": [],
   "source": [
    "path_jb = '../../VdZ_Geschäftsberichte/Cologne/JB/'\n",
    "path_gb = '../../VdZ_Geschäftsberichte/Cologne/GB/'"
   ]
  },
  {
   "cell_type": "markdown",
   "id": "d0cef2fc",
   "metadata": {},
   "source": [
    "# Metadata"
   ]
  },
  {
   "cell_type": "code",
   "execution_count": 34,
   "id": "8a8137bf",
   "metadata": {},
   "outputs": [
    {
     "data": {
      "text/plain": [
       "[2011, 2012, 2013, 2014, 2015, 2016, 2017, 2018, 2019, 2020, 2021, 2022, 2023]"
      ]
     },
     "execution_count": 34,
     "metadata": {},
     "output_type": "execute_result"
    }
   ],
   "source": [
    "years = list(range(2011, 2024))\n",
    "years"
   ]
  },
  {
   "cell_type": "code",
   "execution_count": 35,
   "id": "39c7c242",
   "metadata": {},
   "outputs": [],
   "source": [
    "# metadata_dict['Cologne'] = {'GB': {}, 'JB': {}}"
   ]
  },
  {
   "cell_type": "code",
   "execution_count": 36,
   "id": "89c3bdfa",
   "metadata": {},
   "outputs": [
    {
     "data": {
      "text/plain": [
       "{'GB': {2011: {'Place': {'format': 'PDF 1.5',\n",
       "    'title': '',\n",
       "    'author': '',\n",
       "    'subject': '',\n",
       "    'keywords': '',\n",
       "    'creator': 'Adobe InDesign CS5.5 (7.5.2)',\n",
       "    'producer': 'Adobe PDF Library 9.9',\n",
       "    'creationDate': \"D:20120702161101+02'00'\",\n",
       "    'modDate': \"D:20120702161158+02'00'\",\n",
       "    'trapped': '',\n",
       "    'encryption': None},\n",
       "   'Metadata': 'Cologne',\n",
       "   'Report_Type': 'Geschäftsbericht'},\n",
       "  2012: {'Place': {'format': 'PDF 1.3',\n",
       "    'title': '',\n",
       "    'author': '',\n",
       "    'subject': '',\n",
       "    'keywords': '',\n",
       "    'creator': 'Adobe InDesign CS6 (Macintosh)',\n",
       "    'producer': 'Adobe PDF Library 10.0.1',\n",
       "    'creationDate': \"D:20140324122459+01'00'\",\n",
       "    'modDate': \"D:20140324122526+01'00'\",\n",
       "    'trapped': '',\n",
       "    'encryption': None},\n",
       "   'Metadata': 'Cologne',\n",
       "   'Report_Type': 'Geschäftsbericht'},\n",
       "  2013: {'Place': {'format': 'PDF 1.3',\n",
       "    'title': '',\n",
       "    'author': '',\n",
       "    'subject': '',\n",
       "    'keywords': '',\n",
       "    'creator': 'Adobe InDesign CC 2014 (Macintosh)',\n",
       "    'producer': 'Adobe PDF Library 11.0',\n",
       "    'creationDate': \"D:20150427154235+02'00'\",\n",
       "    'modDate': \"D:20150427154425+02'00'\",\n",
       "    'trapped': '',\n",
       "    'encryption': None},\n",
       "   'Metadata': 'Cologne',\n",
       "   'Report_Type': 'Geschäftsbericht'},\n",
       "  2014: {'Place': {'format': 'PDF 1.3',\n",
       "    'title': '',\n",
       "    'author': '',\n",
       "    'subject': '',\n",
       "    'keywords': '',\n",
       "    'creator': 'Adobe InDesign CC 2014 (Macintosh)',\n",
       "    'producer': 'Adobe PDF Library 11.0',\n",
       "    'creationDate': \"D:20150602152055+02'00'\",\n",
       "    'modDate': \"D:20150602152318+02'00'\",\n",
       "    'trapped': '',\n",
       "    'encryption': None},\n",
       "   'Metadata': 'Cologne',\n",
       "   'Report_Type': 'Geschäftsbericht'},\n",
       "  2015: {'Place': {'format': 'PDF 1.3',\n",
       "    'title': '',\n",
       "    'author': '',\n",
       "    'subject': '',\n",
       "    'keywords': '',\n",
       "    'creator': 'Adobe InDesign CC 2015 (Macintosh)',\n",
       "    'producer': 'Adobe PDF Library 15.0',\n",
       "    'creationDate': \"D:20160714114751+02'00'\",\n",
       "    'modDate': \"D:20160714114813+02'00'\",\n",
       "    'trapped': '',\n",
       "    'encryption': None},\n",
       "   'Metadata': 'Cologne',\n",
       "   'Report_Type': 'Geschäftsbericht'},\n",
       "  2016: {'Place': {'format': 'PDF 1.6',\n",
       "    'title': '',\n",
       "    'author': '',\n",
       "    'subject': '',\n",
       "    'keywords': '',\n",
       "    'creator': 'Adobe InDesign CC 2017 (Macintosh)',\n",
       "    'producer': 'Adobe PDF Library 15.0',\n",
       "    'creationDate': \"D:20170720171848+02'00'\",\n",
       "    'modDate': \"D:20170720172306+02'00'\",\n",
       "    'trapped': '',\n",
       "    'encryption': 'Standard V4 R4 128-bit AES'},\n",
       "   'Metadata': 'Cologne',\n",
       "   'Report_Type': 'Geschäftsbericht'},\n",
       "  2017: {'Place': {'format': 'PDF 1.5',\n",
       "    'title': '',\n",
       "    'author': '',\n",
       "    'subject': '',\n",
       "    'keywords': '',\n",
       "    'creator': 'Adobe InDesign CC 13.1 (Macintosh)',\n",
       "    'producer': 'Adobe PDF Library 15.0',\n",
       "    'creationDate': \"D:20180827120909+02'00'\",\n",
       "    'modDate': \"D:20180827121054+02'00'\",\n",
       "    'trapped': '',\n",
       "    'encryption': None},\n",
       "   'Metadata': 'Cologne',\n",
       "   'Report_Type': 'Geschäftsbericht'},\n",
       "  2018: {'Place': {'format': 'PDF 1.6',\n",
       "    'title': '',\n",
       "    'author': '',\n",
       "    'subject': '',\n",
       "    'keywords': '',\n",
       "    'creator': 'Adobe InDesign CC 14.0 (Macintosh)',\n",
       "    'producer': '3-Heights(TM) PDF Optimization Shell 4.8.25.2 (http://www.pdf-tools.com)',\n",
       "    'creationDate': \"D:20190819153001+02'00'\",\n",
       "    'modDate': 'D:20190821134001Z',\n",
       "    'trapped': '',\n",
       "    'encryption': None},\n",
       "   'Metadata': 'Cologne',\n",
       "   'Report_Type': 'Geschäftsbericht'},\n",
       "  2019: {'Place': {'format': 'PDF 1.6',\n",
       "    'title': '',\n",
       "    'author': '',\n",
       "    'subject': '',\n",
       "    'keywords': '',\n",
       "    'creator': 'Adobe InDesign 14.0 (Macintosh)',\n",
       "    'producer': '3-Heights™ PDF Optimization Shell 6.3.1.5 (http://www.pdf-tools.com)',\n",
       "    'creationDate': \"D:20200807133016+02'00'\",\n",
       "    'modDate': 'D:20200812054750Z',\n",
       "    'trapped': '',\n",
       "    'encryption': None},\n",
       "   'Metadata': 'Cologne',\n",
       "   'Report_Type': 'Geschäftsbericht'},\n",
       "  2020: {'Place': {'format': 'PDF 1.5',\n",
       "    'title': '',\n",
       "    'author': '',\n",
       "    'subject': '',\n",
       "    'keywords': '',\n",
       "    'creator': 'Adobe InDesign 14.0 (Macintosh)',\n",
       "    'producer': 'Adobe PDF Library 15.0',\n",
       "    'creationDate': \"D:20210706134933+02'00'\",\n",
       "    'modDate': \"D:20210706135032+02'00'\",\n",
       "    'trapped': '',\n",
       "    'encryption': None},\n",
       "   'Metadata': 'Cologne',\n",
       "   'Report_Type': 'Geschäftsbericht'},\n",
       "  2021: {'Place': {'format': 'PDF 1.7',\n",
       "    'title': '',\n",
       "    'author': '',\n",
       "    'subject': '',\n",
       "    'keywords': '',\n",
       "    'creator': 'Adobe InDesign 14.0 (Macintosh)',\n",
       "    'producer': 'Adobe PDF Library 15.0',\n",
       "    'creationDate': \"D:20220624131648+02'00'\",\n",
       "    'modDate': \"D:20220624132915+02'00'\",\n",
       "    'trapped': '',\n",
       "    'encryption': 'Standard V5 R6 256-bit AES'},\n",
       "   'Metadata': 'Cologne',\n",
       "   'Report_Type': 'Geschäftsbericht'},\n",
       "  2022: {'Place': {'format': 'PDF 1.5',\n",
       "    'title': '',\n",
       "    'author': '',\n",
       "    'subject': '',\n",
       "    'keywords': '',\n",
       "    'creator': 'Adobe InDesign 18.5 (Macintosh)',\n",
       "    'producer': 'Adobe PDF Library 17.0',\n",
       "    'creationDate': \"D:20230823230458+02'00'\",\n",
       "    'modDate': \"D:20230823230703+02'00'\",\n",
       "    'trapped': '',\n",
       "    'encryption': None},\n",
       "   'Metadata': 'Cologne',\n",
       "   'Report_Type': 'Geschäftsbericht'},\n",
       "  2023: {'Place': {'format': 'PDF 1.5',\n",
       "    'title': '',\n",
       "    'author': '',\n",
       "    'subject': '',\n",
       "    'keywords': '',\n",
       "    'creator': 'Adobe InDesign 19.4 (Macintosh)',\n",
       "    'producer': 'Adobe PDF Library 17.0',\n",
       "    'creationDate': \"D:20240704134718+02'00'\",\n",
       "    'modDate': \"D:20240704134835+02'00'\",\n",
       "    'trapped': '',\n",
       "    'encryption': None},\n",
       "   'Metadata': 'Cologne',\n",
       "   'Report_Type': 'Geschäftsbericht'}},\n",
       " 'JB': {2011: {'Place': {'format': 'PDF 1.6',\n",
       "    'title': '54421_005-060_Jahresbericht-2011_v04.pdf',\n",
       "    'author': 'fbenninghoff',\n",
       "    'subject': '',\n",
       "    'keywords': '',\n",
       "    'creator': 'Adobe InDesign CS4 (6.0.6)',\n",
       "    'producer': 'Acrobat Distiller 8.3.1 (Macintosh)',\n",
       "    'creationDate': \"D:20120411144556+02'00'\",\n",
       "    'modDate': \"D:20120411145356+02'00'\",\n",
       "    'trapped': '',\n",
       "    'encryption': None},\n",
       "   'Metadata': 'Cologne',\n",
       "   'Report_Type': 'Jahresbericht'},\n",
       "  2012: {'Place': {'format': 'PDF 1.6',\n",
       "    'title': '56424_000_U1+U4.pdf',\n",
       "    'author': 'fbenninghoff',\n",
       "    'subject': '',\n",
       "    'keywords': '',\n",
       "    'creator': 'Adobe InDesign CS4 (6.0.6)',\n",
       "    'producer': 'Acrobat Distiller 8.3.1 (Macintosh)',\n",
       "    'creationDate': \"D:20130402172155+02'00'\",\n",
       "    'modDate': \"D:20130403164545+02'00'\",\n",
       "    'trapped': '',\n",
       "    'encryption': None},\n",
       "   'Metadata': 'Cologne',\n",
       "   'Report_Type': 'Jahresbericht'},\n",
       "  2013: {'Place': {'format': 'PDF 1.6',\n",
       "    'title': '57786_000_U1+U4.pdf',\n",
       "    'author': 'fbenninghoff',\n",
       "    'subject': '',\n",
       "    'keywords': '',\n",
       "    'creator': 'Adobe InDesign CS4 (6.0.6)',\n",
       "    'producer': 'Acrobat Distiller 8.3.1 (Macintosh)',\n",
       "    'creationDate': \"D:20140505141335+02'00'\",\n",
       "    'modDate': \"D:20140507150453+02'00'\",\n",
       "    'trapped': '',\n",
       "    'encryption': None},\n",
       "   'Metadata': 'Cologne',\n",
       "   'Report_Type': 'Jahresbericht'},\n",
       "  2014: {'Place': {'format': 'PDF 1.7',\n",
       "    'title': '58164_000_U1+U4_ES.pdf',\n",
       "    'author': 'akock',\n",
       "    'subject': '',\n",
       "    'keywords': '',\n",
       "    'creator': 'Adobe InDesign CS4 (6.0.6)',\n",
       "    'producer': 'Acrobat Distiller 10.1.13 (Macintosh)',\n",
       "    'creationDate': \"D:20150529114935+02'00'\",\n",
       "    'modDate': \"D:20150529120904+02'00'\",\n",
       "    'trapped': '',\n",
       "    'encryption': None},\n",
       "   'Metadata': 'Cologne',\n",
       "   'Report_Type': 'Jahresbericht'},\n",
       "  2015: {'Place': {'format': 'PDF 1.7',\n",
       "    'title': '59597_003-071_Jahresbericht-2015_v04b.pdf',\n",
       "    'author': 'fbenninghoff',\n",
       "    'subject': '',\n",
       "    'keywords': '',\n",
       "    'creator': 'Adobe InDesign CC 2014 (Macintosh)',\n",
       "    'producer': 'Acrobat Distiller 15.0 (Macintosh)',\n",
       "    'creationDate': \"D:20160429132037+02'00'\",\n",
       "    'modDate': \"D:20160509115721+02'00'\",\n",
       "    'trapped': '',\n",
       "    'encryption': None},\n",
       "   'Metadata': 'Cologne',\n",
       "   'Report_Type': 'Jahresbericht'},\n",
       "  2016: {'Place': {'format': 'PDF 1.7',\n",
       "    'title': '60459_005-071_Jahresbericht-2016_v04.pdf',\n",
       "    'author': 'fbenninghoff',\n",
       "    'subject': '',\n",
       "    'keywords': '',\n",
       "    'creator': 'Adobe InDesign CC 2014 (Macintosh)',\n",
       "    'producer': 'Acrobat Distiller 17.0 (Macintosh)',\n",
       "    'creationDate': \"D:20170502144834+02'00'\",\n",
       "    'modDate': \"D:20170504122940+02'00'\",\n",
       "    'trapped': '',\n",
       "    'encryption': None},\n",
       "   'Metadata': 'Cologne',\n",
       "   'Report_Type': 'Jahresbericht'},\n",
       "  2017: {'Place': {'format': 'PDF 1.7',\n",
       "    'title': '61506_000_U1+U4.pdf',\n",
       "    'author': 'fbenninghoff',\n",
       "    'subject': '',\n",
       "    'keywords': '',\n",
       "    'creator': 'Adobe InDesign CC 13.1 (Macintosh)',\n",
       "    'producer': 'Acrobat Distiller 18.0 (Macintosh)',\n",
       "    'creationDate': \"D:20180530144031+02'00'\",\n",
       "    'modDate': \"D:20180621105402+02'00'\",\n",
       "    'trapped': '',\n",
       "    'encryption': None},\n",
       "   'Metadata': 'Cologne',\n",
       "   'Report_Type': 'Jahresbericht'},\n",
       "  2018: {'Place': {'format': 'PDF 1.7',\n",
       "    'title': '',\n",
       "    'author': '',\n",
       "    'subject': '',\n",
       "    'keywords': '',\n",
       "    'creator': 'Adobe InDesign CC 13.1 (Macintosh)',\n",
       "    'producer': 'Adobe PDF Library 15.0',\n",
       "    'creationDate': \"D:20190429115413+02'00'\",\n",
       "    'modDate': \"D:20200527135332+02'00'\",\n",
       "    'trapped': '',\n",
       "    'encryption': None},\n",
       "   'Metadata': 'Cologne',\n",
       "   'Report_Type': 'Jahresbericht'},\n",
       "  2019: {'Place': {'format': 'PDF 1.5',\n",
       "    'title': '',\n",
       "    'author': '',\n",
       "    'subject': '',\n",
       "    'keywords': '',\n",
       "    'creator': 'Adobe InDesign 15.0 (Windows)',\n",
       "    'producer': 'Adobe PDF Library 15.0',\n",
       "    'creationDate': \"D:20200526144637+02'00'\",\n",
       "    'modDate': \"D:20200526145139+02'00'\",\n",
       "    'trapped': '',\n",
       "    'encryption': None},\n",
       "   'Metadata': 'Cologne',\n",
       "   'Report_Type': 'Jahresbericht'},\n",
       "  2020: {'Place': {'format': 'PDF 1.6',\n",
       "    'title': '',\n",
       "    'author': '',\n",
       "    'subject': '',\n",
       "    'keywords': '',\n",
       "    'creator': 'Adobe InDesign 16.2 (Windows)',\n",
       "    'producer': 'Adobe PDF Library 15.0',\n",
       "    'creationDate': \"D:20210528162543+02'00'\",\n",
       "    'modDate': \"D:20210531090624+02'00'\",\n",
       "    'trapped': '',\n",
       "    'encryption': None},\n",
       "   'Metadata': 'Cologne',\n",
       "   'Report_Type': 'Jahresbericht'},\n",
       "  2021: {'Place': {'format': 'PDF 1.5',\n",
       "    'title': '',\n",
       "    'author': '',\n",
       "    'subject': '',\n",
       "    'keywords': '',\n",
       "    'creator': 'Adobe InDesign 17.3 (Windows)',\n",
       "    'producer': 'Adobe PDF Library 16.0.7',\n",
       "    'creationDate': \"D:20220624110503+02'00'\",\n",
       "    'modDate': \"D:20220624111228+02'00'\",\n",
       "    'trapped': '',\n",
       "    'encryption': None},\n",
       "   'Metadata': 'Cologne',\n",
       "   'Report_Type': 'Jahresbericht'},\n",
       "  2022: {'Place': {'format': 'PDF 1.3',\n",
       "    'title': '',\n",
       "    'author': '',\n",
       "    'subject': '',\n",
       "    'keywords': '',\n",
       "    'creator': 'Adobe InDesign 18.0 (Windows)',\n",
       "    'producer': 'Adobe PDF Library 17.0',\n",
       "    'creationDate': \"D:20230706081300+02'00'\",\n",
       "    'modDate': \"D:20230817134925+02'00'\",\n",
       "    'trapped': '',\n",
       "    'encryption': None},\n",
       "   'Metadata': 'Cologne',\n",
       "   'Report_Type': 'Jahresbericht'},\n",
       "  2023: {'Place': {'format': 'PDF 1.5',\n",
       "    'title': '',\n",
       "    'author': '',\n",
       "    'subject': '',\n",
       "    'keywords': '',\n",
       "    'creator': 'Adobe InDesign 18.0 (Windows)',\n",
       "    'producer': 'Adobe PDF Library 17.0',\n",
       "    'creationDate': \"D:20240514085443+02'00'\",\n",
       "    'modDate': \"D:20240514090028+02'00'\",\n",
       "    'trapped': '',\n",
       "    'encryption': None},\n",
       "   'Metadata': 'Cologne',\n",
       "   'Report_Type': 'Jahresbericht'}}}"
      ]
     },
     "execution_count": 36,
     "metadata": {},
     "output_type": "execute_result"
    }
   ],
   "source": [
    "metadata_dict['Cologne']"
   ]
  },
  {
   "cell_type": "code",
   "execution_count": 27,
   "id": "bf47cfcd",
   "metadata": {},
   "outputs": [],
   "source": [
    "def metadata_cologne_function(path: str, years: list, type_str: str) -> dict:\n",
    "    results = {}\n",
    "    for i in range(len(years)):\n",
    "        year = years[i]\n",
    "        print(year)\n",
    "        path_pdf = path + f'{year}.pdf'\n",
    "        md = metadata_function(path_pdf)\n",
    "        metadata = dict_metadata_function('Cologne', md, type_str)\n",
    "        results[year] = metadata\n",
    "    return results\n"
   ]
  },
  {
   "cell_type": "code",
   "execution_count": 28,
   "id": "9a4e4de4",
   "metadata": {},
   "outputs": [
    {
     "name": "stdout",
     "output_type": "stream",
     "text": [
      "2011\n",
      "2012\n",
      "2013\n",
      "2014\n",
      "2015\n",
      "2016\n",
      "2017\n",
      "2018\n",
      "2019\n",
      "2020\n",
      "2021\n",
      "2022\n",
      "2023\n",
      "2011\n",
      "2012\n",
      "2013\n",
      "2014\n",
      "2015\n",
      "2016\n",
      "2017\n",
      "2018\n",
      "2019\n",
      "2020\n",
      "2021\n",
      "2022\n",
      "2023\n"
     ]
    }
   ],
   "source": [
    "gb_md = metadata_cologne_function(path_gb, years, 'Geschäftsbericht')\n",
    "jb_md = metadata_cologne_function(path_jb, years, 'Jahresbericht')"
   ]
  },
  {
   "cell_type": "code",
   "execution_count": 29,
   "id": "1b98d65a",
   "metadata": {},
   "outputs": [
    {
     "data": {
      "text/plain": [
       "{2011: {'Place': {'format': 'PDF 1.6',\n",
       "   'title': '54421_005-060_Jahresbericht-2011_v04.pdf',\n",
       "   'author': 'fbenninghoff',\n",
       "   'subject': '',\n",
       "   'keywords': '',\n",
       "   'creator': 'Adobe InDesign CS4 (6.0.6)',\n",
       "   'producer': 'Acrobat Distiller 8.3.1 (Macintosh)',\n",
       "   'creationDate': \"D:20120411144556+02'00'\",\n",
       "   'modDate': \"D:20120411145356+02'00'\",\n",
       "   'trapped': '',\n",
       "   'encryption': None},\n",
       "  'Metadata': 'Cologne',\n",
       "  'Report_Type': 'Jahresbericht'},\n",
       " 2012: {'Place': {'format': 'PDF 1.6',\n",
       "   'title': '56424_000_U1+U4.pdf',\n",
       "   'author': 'fbenninghoff',\n",
       "   'subject': '',\n",
       "   'keywords': '',\n",
       "   'creator': 'Adobe InDesign CS4 (6.0.6)',\n",
       "   'producer': 'Acrobat Distiller 8.3.1 (Macintosh)',\n",
       "   'creationDate': \"D:20130402172155+02'00'\",\n",
       "   'modDate': \"D:20130403164545+02'00'\",\n",
       "   'trapped': '',\n",
       "   'encryption': None},\n",
       "  'Metadata': 'Cologne',\n",
       "  'Report_Type': 'Jahresbericht'},\n",
       " 2013: {'Place': {'format': 'PDF 1.6',\n",
       "   'title': '57786_000_U1+U4.pdf',\n",
       "   'author': 'fbenninghoff',\n",
       "   'subject': '',\n",
       "   'keywords': '',\n",
       "   'creator': 'Adobe InDesign CS4 (6.0.6)',\n",
       "   'producer': 'Acrobat Distiller 8.3.1 (Macintosh)',\n",
       "   'creationDate': \"D:20140505141335+02'00'\",\n",
       "   'modDate': \"D:20140507150453+02'00'\",\n",
       "   'trapped': '',\n",
       "   'encryption': None},\n",
       "  'Metadata': 'Cologne',\n",
       "  'Report_Type': 'Jahresbericht'},\n",
       " 2014: {'Place': {'format': 'PDF 1.7',\n",
       "   'title': '58164_000_U1+U4_ES.pdf',\n",
       "   'author': 'akock',\n",
       "   'subject': '',\n",
       "   'keywords': '',\n",
       "   'creator': 'Adobe InDesign CS4 (6.0.6)',\n",
       "   'producer': 'Acrobat Distiller 10.1.13 (Macintosh)',\n",
       "   'creationDate': \"D:20150529114935+02'00'\",\n",
       "   'modDate': \"D:20150529120904+02'00'\",\n",
       "   'trapped': '',\n",
       "   'encryption': None},\n",
       "  'Metadata': 'Cologne',\n",
       "  'Report_Type': 'Jahresbericht'},\n",
       " 2015: {'Place': {'format': 'PDF 1.7',\n",
       "   'title': '59597_003-071_Jahresbericht-2015_v04b.pdf',\n",
       "   'author': 'fbenninghoff',\n",
       "   'subject': '',\n",
       "   'keywords': '',\n",
       "   'creator': 'Adobe InDesign CC 2014 (Macintosh)',\n",
       "   'producer': 'Acrobat Distiller 15.0 (Macintosh)',\n",
       "   'creationDate': \"D:20160429132037+02'00'\",\n",
       "   'modDate': \"D:20160509115721+02'00'\",\n",
       "   'trapped': '',\n",
       "   'encryption': None},\n",
       "  'Metadata': 'Cologne',\n",
       "  'Report_Type': 'Jahresbericht'},\n",
       " 2016: {'Place': {'format': 'PDF 1.7',\n",
       "   'title': '60459_005-071_Jahresbericht-2016_v04.pdf',\n",
       "   'author': 'fbenninghoff',\n",
       "   'subject': '',\n",
       "   'keywords': '',\n",
       "   'creator': 'Adobe InDesign CC 2014 (Macintosh)',\n",
       "   'producer': 'Acrobat Distiller 17.0 (Macintosh)',\n",
       "   'creationDate': \"D:20170502144834+02'00'\",\n",
       "   'modDate': \"D:20170504122940+02'00'\",\n",
       "   'trapped': '',\n",
       "   'encryption': None},\n",
       "  'Metadata': 'Cologne',\n",
       "  'Report_Type': 'Jahresbericht'},\n",
       " 2017: {'Place': {'format': 'PDF 1.7',\n",
       "   'title': '61506_000_U1+U4.pdf',\n",
       "   'author': 'fbenninghoff',\n",
       "   'subject': '',\n",
       "   'keywords': '',\n",
       "   'creator': 'Adobe InDesign CC 13.1 (Macintosh)',\n",
       "   'producer': 'Acrobat Distiller 18.0 (Macintosh)',\n",
       "   'creationDate': \"D:20180530144031+02'00'\",\n",
       "   'modDate': \"D:20180621105402+02'00'\",\n",
       "   'trapped': '',\n",
       "   'encryption': None},\n",
       "  'Metadata': 'Cologne',\n",
       "  'Report_Type': 'Jahresbericht'},\n",
       " 2018: {'Place': {'format': 'PDF 1.7',\n",
       "   'title': '',\n",
       "   'author': '',\n",
       "   'subject': '',\n",
       "   'keywords': '',\n",
       "   'creator': 'Adobe InDesign CC 13.1 (Macintosh)',\n",
       "   'producer': 'Adobe PDF Library 15.0',\n",
       "   'creationDate': \"D:20190429115413+02'00'\",\n",
       "   'modDate': \"D:20200527135332+02'00'\",\n",
       "   'trapped': '',\n",
       "   'encryption': None},\n",
       "  'Metadata': 'Cologne',\n",
       "  'Report_Type': 'Jahresbericht'},\n",
       " 2019: {'Place': {'format': 'PDF 1.5',\n",
       "   'title': '',\n",
       "   'author': '',\n",
       "   'subject': '',\n",
       "   'keywords': '',\n",
       "   'creator': 'Adobe InDesign 15.0 (Windows)',\n",
       "   'producer': 'Adobe PDF Library 15.0',\n",
       "   'creationDate': \"D:20200526144637+02'00'\",\n",
       "   'modDate': \"D:20200526145139+02'00'\",\n",
       "   'trapped': '',\n",
       "   'encryption': None},\n",
       "  'Metadata': 'Cologne',\n",
       "  'Report_Type': 'Jahresbericht'},\n",
       " 2020: {'Place': {'format': 'PDF 1.6',\n",
       "   'title': '',\n",
       "   'author': '',\n",
       "   'subject': '',\n",
       "   'keywords': '',\n",
       "   'creator': 'Adobe InDesign 16.2 (Windows)',\n",
       "   'producer': 'Adobe PDF Library 15.0',\n",
       "   'creationDate': \"D:20210528162543+02'00'\",\n",
       "   'modDate': \"D:20210531090624+02'00'\",\n",
       "   'trapped': '',\n",
       "   'encryption': None},\n",
       "  'Metadata': 'Cologne',\n",
       "  'Report_Type': 'Jahresbericht'},\n",
       " 2021: {'Place': {'format': 'PDF 1.5',\n",
       "   'title': '',\n",
       "   'author': '',\n",
       "   'subject': '',\n",
       "   'keywords': '',\n",
       "   'creator': 'Adobe InDesign 17.3 (Windows)',\n",
       "   'producer': 'Adobe PDF Library 16.0.7',\n",
       "   'creationDate': \"D:20220624110503+02'00'\",\n",
       "   'modDate': \"D:20220624111228+02'00'\",\n",
       "   'trapped': '',\n",
       "   'encryption': None},\n",
       "  'Metadata': 'Cologne',\n",
       "  'Report_Type': 'Jahresbericht'},\n",
       " 2022: {'Place': {'format': 'PDF 1.3',\n",
       "   'title': '',\n",
       "   'author': '',\n",
       "   'subject': '',\n",
       "   'keywords': '',\n",
       "   'creator': 'Adobe InDesign 18.0 (Windows)',\n",
       "   'producer': 'Adobe PDF Library 17.0',\n",
       "   'creationDate': \"D:20230706081300+02'00'\",\n",
       "   'modDate': \"D:20230817134925+02'00'\",\n",
       "   'trapped': '',\n",
       "   'encryption': None},\n",
       "  'Metadata': 'Cologne',\n",
       "  'Report_Type': 'Jahresbericht'},\n",
       " 2023: {'Place': {'format': 'PDF 1.5',\n",
       "   'title': '',\n",
       "   'author': '',\n",
       "   'subject': '',\n",
       "   'keywords': '',\n",
       "   'creator': 'Adobe InDesign 18.0 (Windows)',\n",
       "   'producer': 'Adobe PDF Library 17.0',\n",
       "   'creationDate': \"D:20240514085443+02'00'\",\n",
       "   'modDate': \"D:20240514090028+02'00'\",\n",
       "   'trapped': '',\n",
       "   'encryption': None},\n",
       "  'Metadata': 'Cologne',\n",
       "  'Report_Type': 'Jahresbericht'}}"
      ]
     },
     "execution_count": 29,
     "metadata": {},
     "output_type": "execute_result"
    }
   ],
   "source": [
    "jb_md"
   ]
  },
  {
   "cell_type": "code",
   "execution_count": 30,
   "id": "3fae259e",
   "metadata": {},
   "outputs": [],
   "source": [
    "metadata_dict['Cologne']['JB'] = jb_md\n",
    "metadata_dict['Cologne']['GB'] = gb_md"
   ]
  },
  {
   "cell_type": "code",
   "execution_count": 31,
   "id": "65343ec9",
   "metadata": {},
   "outputs": [
    {
     "data": {
      "text/plain": [
       "dict_keys([2011, 2012, 2013, 2014, 2015, 2016, 2017, 2018, 2019, 2020, 2021, 2022, 2023])"
      ]
     },
     "execution_count": 31,
     "metadata": {},
     "output_type": "execute_result"
    }
   ],
   "source": [
    "metadata_dict['Cologne']['GB'].keys()"
   ]
  },
  {
   "cell_type": "code",
   "execution_count": 32,
   "id": "a5e3374f",
   "metadata": {},
   "outputs": [],
   "source": [
    "save_dict_pkl(metadata_dict, data_path + 'metadata.pkl')"
   ]
  },
  {
   "cell_type": "markdown",
   "id": "f13b8cc9",
   "metadata": {},
   "source": [
    "# Tables to pdf"
   ]
  },
  {
   "cell_type": "markdown",
   "id": "0792b0c9",
   "metadata": {},
   "source": [
    "Schreibgeschützt in GB Ordner:\n",
    "- 2021\n",
    "- 2016\n"
   ]
  },
  {
   "cell_type": "code",
   "execution_count": 40,
   "id": "2e57107d",
   "metadata": {},
   "outputs": [
    {
     "data": {
      "text/plain": [
       "{}"
      ]
     },
     "execution_count": 40,
     "metadata": {},
     "output_type": "execute_result"
    }
   ],
   "source": [
    "tables_dict['Cologne']"
   ]
  },
  {
   "cell_type": "code",
   "execution_count": 41,
   "id": "f54399a5",
   "metadata": {},
   "outputs": [
    {
     "data": {
      "text/plain": [
       "{'Jahresbericht': {}, 'Geschaeftsbericht': {}}"
      ]
     },
     "execution_count": 41,
     "metadata": {},
     "output_type": "execute_result"
    }
   ],
   "source": [
    "tables_dict['Cologne']['Jahresbericht'] = {}\n",
    "tables_dict['Cologne']['Geschaeftsbericht'] = {}\n",
    "tables_dict['Cologne']"
   ]
  },
  {
   "cell_type": "markdown",
   "id": "2a74b8ce",
   "metadata": {},
   "source": [
    "## GB"
   ]
  },
  {
   "cell_type": "code",
   "execution_count": 37,
   "id": "c2ed6952",
   "metadata": {},
   "outputs": [],
   "source": [
    "gb_years = [2011, 2012, 2013, 2014, 2015, 2017, 2018, 2019, 2020, 2022, 2023]"
   ]
  },
  {
   "cell_type": "code",
   "execution_count": 43,
   "id": "399643fb",
   "metadata": {},
   "outputs": [
    {
     "name": "stdout",
     "output_type": "stream",
     "text": [
      "2011\n",
      "2012\n",
      "2013\n",
      "2014\n",
      "2015\n",
      "2017\n"
     ]
    },
    {
     "name": "stderr",
     "output_type": "stream",
     "text": [
      "c:\\Users\\benjf\\anaconda3\\envs\\projects\\Lib\\site-packages\\camelot\\parsers\\base.py:124: UserWarning: page-47 is image-based, camelot only works on text-based pages.\n",
      "  warnings.warn(\n"
     ]
    },
    {
     "name": "stdout",
     "output_type": "stream",
     "text": [
      "2018\n",
      "2019\n",
      "2020\n",
      "2022\n"
     ]
    },
    {
     "name": "stderr",
     "output_type": "stream",
     "text": [
      "Cannot set gray stroke color because /'P0' is an invalid float value\n",
      "Cannot set gray non-stroke color because /'P1' is an invalid float value\n",
      "Cannot set gray non-stroke color because /'P0' is an invalid float value\n",
      "Cannot set gray non-stroke color because /'P1' is an invalid float value\n",
      "Cannot set gray stroke color because /'P0' is an invalid float value\n",
      "Cannot set gray stroke color because /'P1' is an invalid float value\n",
      "Cannot set gray stroke color because /'P2' is an invalid float value\n",
      "Cannot set gray stroke color because /'P3' is an invalid float value\n",
      "Cannot set gray stroke color because /'P4' is an invalid float value\n",
      "Cannot set gray stroke color because /'P5' is an invalid float value\n",
      "Cannot set gray stroke color because /'P6' is an invalid float value\n",
      "Cannot set gray stroke color because /'P7' is an invalid float value\n",
      "Cannot set gray stroke color because /'P8' is an invalid float value\n",
      "Cannot set gray stroke color because /'P9' is an invalid float value\n",
      "Cannot set gray stroke color because /'P10' is an invalid float value\n",
      "Cannot set gray stroke color because /'P11' is an invalid float value\n",
      "Cannot set gray non-stroke color because /'P0' is an invalid float value\n",
      "Cannot set gray stroke color because /'P1' is an invalid float value\n",
      "Cannot set gray stroke color because /'P2' is an invalid float value\n",
      "Cannot set gray stroke color because /'P3' is an invalid float value\n",
      "Cannot set gray stroke color because /'P4' is an invalid float value\n",
      "Cannot set gray stroke color because /'P5' is an invalid float value\n",
      "Cannot set gray non-stroke color because /'P0' is an invalid float value\n",
      "Cannot set gray non-stroke color because /'P1' is an invalid float value\n",
      "Cannot set gray non-stroke color because /'P2' is an invalid float value\n",
      "Cannot set gray non-stroke color because /'P3' is an invalid float value\n",
      "Cannot set gray non-stroke color because /'P4' is an invalid float value\n",
      "Cannot set gray non-stroke color because /'P5' is an invalid float value\n",
      "Cannot set gray stroke color because /'P6' is an invalid float value\n",
      "Cannot set gray stroke color because /'P7' is an invalid float value\n",
      "Cannot set gray non-stroke color because /'P0' is an invalid float value\n",
      "Cannot set gray non-stroke color because /'P1' is an invalid float value\n",
      "Cannot set gray non-stroke color because /'P0' is an invalid float value\n",
      "Cannot set gray non-stroke color because /'P1' is an invalid float value\n",
      "Cannot set gray non-stroke color because /'P2' is an invalid float value\n",
      "Cannot set gray non-stroke color because /'P3' is an invalid float value\n",
      "Cannot set gray non-stroke color because /'P4' is an invalid float value\n",
      "Cannot set gray non-stroke color because /'P5' is an invalid float value\n",
      "Cannot set gray non-stroke color because /'P0' is an invalid float value\n",
      "Cannot set gray non-stroke color because /'P1' is an invalid float value\n",
      "Cannot set gray non-stroke color because /'P2' is an invalid float value\n",
      "Cannot set gray non-stroke color because /'P3' is an invalid float value\n",
      "Cannot set gray non-stroke color because /'P0' is an invalid float value\n",
      "Cannot set gray non-stroke color because /'P1' is an invalid float value\n",
      "Cannot set gray non-stroke color because /'P2' is an invalid float value\n",
      "Cannot set gray non-stroke color because /'P3' is an invalid float value\n",
      "Cannot set gray non-stroke color because /'P0' is an invalid float value\n",
      "Cannot set gray non-stroke color because /'P1' is an invalid float value\n",
      "Cannot set gray non-stroke color because /'P2' is an invalid float value\n",
      "Cannot set gray non-stroke color because /'P3' is an invalid float value\n",
      "Cannot set gray non-stroke color because /'P0' is an invalid float value\n",
      "Cannot set gray non-stroke color because /'P1' is an invalid float value\n",
      "Cannot set gray non-stroke color because /'P0' is an invalid float value\n",
      "Cannot set gray non-stroke color because /'P1' is an invalid float value\n",
      "Cannot set gray non-stroke color because /'P2' is an invalid float value\n",
      "Cannot set gray stroke color because /'P3' is an invalid float value\n",
      "Cannot set gray non-stroke color because /'P4' is an invalid float value\n"
     ]
    },
    {
     "name": "stdout",
     "output_type": "stream",
     "text": [
      "2023\n"
     ]
    }
   ],
   "source": [
    "for i in range(len(gb_years)):\n",
    "    year = gb_years[i]\n",
    "    print(year)\n",
    "    tables = read_pdf_tables(path_gb + f'{year}.pdf', pages='all')\n",
    "    tables_dict['Cologne']['Geschaeftsbericht'][year] = tables\n",
    "    save_dict_pkl(tables_dict, tables_path)"
   ]
  },
  {
   "cell_type": "markdown",
   "id": "32e02537",
   "metadata": {},
   "source": [
    "## JB"
   ]
  },
  {
   "cell_type": "code",
   "execution_count": 44,
   "id": "daca3e55",
   "metadata": {},
   "outputs": [],
   "source": [
    "jb_years = [2011, 2012, 2013, 2014, 2015, 2016, 2017, 2018, 2019, 2020, 2021, 2022, 2023]"
   ]
  },
  {
   "cell_type": "code",
   "execution_count": 45,
   "id": "c71f07e0",
   "metadata": {},
   "outputs": [
    {
     "name": "stdout",
     "output_type": "stream",
     "text": [
      "2011\n",
      "2012\n"
     ]
    },
    {
     "name": "stderr",
     "output_type": "stream",
     "text": [
      "c:\\Users\\benjf\\anaconda3\\envs\\projects\\Lib\\site-packages\\camelot\\parsers\\base.py:124: UserWarning: page-3 is image-based, camelot only works on text-based pages.\n",
      "  warnings.warn(\n",
      "c:\\Users\\benjf\\anaconda3\\envs\\projects\\Lib\\site-packages\\camelot\\parsers\\base.py:124: UserWarning: page-71 is image-based, camelot only works on text-based pages.\n",
      "  warnings.warn(\n",
      "c:\\Users\\benjf\\anaconda3\\envs\\projects\\Lib\\site-packages\\camelot\\parsers\\base.py:124: UserWarning: page-72 is image-based, camelot only works on text-based pages.\n",
      "  warnings.warn(\n"
     ]
    },
    {
     "name": "stdout",
     "output_type": "stream",
     "text": [
      "2013\n",
      "2014\n"
     ]
    },
    {
     "name": "stderr",
     "output_type": "stream",
     "text": [
      "c:\\Users\\benjf\\anaconda3\\envs\\projects\\Lib\\site-packages\\camelot\\parsers\\base.py:124: UserWarning: page-80 is image-based, camelot only works on text-based pages.\n",
      "  warnings.warn(\n"
     ]
    },
    {
     "name": "stdout",
     "output_type": "stream",
     "text": [
      "2015\n"
     ]
    },
    {
     "name": "stderr",
     "output_type": "stream",
     "text": [
      "Cannot set non-stroke color because 2 components are specified but only 1 (grayscale), 3 (rgb) and 4 (cmyk) are supported\n",
      "Cannot set non-stroke color because 2 components are specified but only 1 (grayscale), 3 (rgb) and 4 (cmyk) are supported\n",
      "Cannot set non-stroke color because 2 components are specified but only 1 (grayscale), 3 (rgb) and 4 (cmyk) are supported\n",
      "Cannot set non-stroke color because 2 components are specified but only 1 (grayscale), 3 (rgb) and 4 (cmyk) are supported\n"
     ]
    },
    {
     "name": "stdout",
     "output_type": "stream",
     "text": [
      "2016\n",
      "2017\n"
     ]
    },
    {
     "name": "stderr",
     "output_type": "stream",
     "text": [
      "Cannot set non-stroke color because 2 components are specified but only 1 (grayscale), 3 (rgb) and 4 (cmyk) are supported\n",
      "Cannot set non-stroke color because 2 components are specified but only 1 (grayscale), 3 (rgb) and 4 (cmyk) are supported\n",
      "Cannot set non-stroke color because 2 components are specified but only 1 (grayscale), 3 (rgb) and 4 (cmyk) are supported\n",
      "c:\\Users\\benjf\\anaconda3\\envs\\projects\\Lib\\site-packages\\camelot\\parsers\\base.py:124: UserWarning: page-88 is image-based, camelot only works on text-based pages.\n",
      "  warnings.warn(\n"
     ]
    },
    {
     "name": "stdout",
     "output_type": "stream",
     "text": [
      "2018\n"
     ]
    },
    {
     "name": "stderr",
     "output_type": "stream",
     "text": [
      "c:\\Users\\benjf\\anaconda3\\envs\\projects\\Lib\\site-packages\\camelot\\parsers\\base.py:124: UserWarning: page-80 is image-based, camelot only works on text-based pages.\n",
      "  warnings.warn(\n"
     ]
    },
    {
     "name": "stdout",
     "output_type": "stream",
     "text": [
      "2019\n"
     ]
    },
    {
     "name": "stderr",
     "output_type": "stream",
     "text": [
      "c:\\Users\\benjf\\anaconda3\\envs\\projects\\Lib\\site-packages\\camelot\\parsers\\base.py:124: UserWarning: page-96 is image-based, camelot only works on text-based pages.\n",
      "  warnings.warn(\n"
     ]
    },
    {
     "name": "stdout",
     "output_type": "stream",
     "text": [
      "2020\n"
     ]
    },
    {
     "name": "stderr",
     "output_type": "stream",
     "text": [
      "Cannot set non-stroke color because 2 components are specified but only 1 (grayscale), 3 (rgb) and 4 (cmyk) are supported\n",
      "c:\\Users\\benjf\\anaconda3\\envs\\projects\\Lib\\site-packages\\camelot\\parsers\\base.py:124: UserWarning: page-100 is image-based, camelot only works on text-based pages.\n",
      "  warnings.warn(\n"
     ]
    },
    {
     "name": "stdout",
     "output_type": "stream",
     "text": [
      "2021\n"
     ]
    },
    {
     "name": "stderr",
     "output_type": "stream",
     "text": [
      "c:\\Users\\benjf\\anaconda3\\envs\\projects\\Lib\\site-packages\\camelot\\parsers\\base.py:124: UserWarning: page-107 is image-based, camelot only works on text-based pages.\n",
      "  warnings.warn(\n",
      "c:\\Users\\benjf\\anaconda3\\envs\\projects\\Lib\\site-packages\\camelot\\parsers\\base.py:124: UserWarning: page-108 is image-based, camelot only works on text-based pages.\n",
      "  warnings.warn(\n"
     ]
    },
    {
     "name": "stdout",
     "output_type": "stream",
     "text": [
      "2022\n"
     ]
    },
    {
     "name": "stderr",
     "output_type": "stream",
     "text": [
      "c:\\Users\\benjf\\anaconda3\\envs\\projects\\Lib\\site-packages\\camelot\\parsers\\base.py:218: UserWarning: No tables found on page-106\n",
      "  if self._document_has_no_text():\n",
      "c:\\Users\\benjf\\anaconda3\\envs\\projects\\Lib\\site-packages\\camelot\\parsers\\base.py:124: UserWarning: page-111 is image-based, camelot only works on text-based pages.\n",
      "  warnings.warn(\n",
      "c:\\Users\\benjf\\anaconda3\\envs\\projects\\Lib\\site-packages\\camelot\\parsers\\base.py:124: UserWarning: page-112 is image-based, camelot only works on text-based pages.\n",
      "  warnings.warn(\n"
     ]
    },
    {
     "name": "stdout",
     "output_type": "stream",
     "text": [
      "2023\n"
     ]
    },
    {
     "name": "stderr",
     "output_type": "stream",
     "text": [
      "c:\\Users\\benjf\\anaconda3\\envs\\projects\\Lib\\site-packages\\camelot\\parsers\\base.py:124: UserWarning: page-124 is image-based, camelot only works on text-based pages.\n",
      "  warnings.warn(\n"
     ]
    }
   ],
   "source": [
    "for i in range(len(jb_years)):\n",
    "    year = jb_years[i]\n",
    "    print(year)\n",
    "    tables = read_pdf_tables(path_jb + f'{year}.pdf', pages='all')\n",
    "    tables_dict['Cologne']['Jahresbericht'][year] = tables\n",
    "    save_dict_pkl(tables_dict, tables_path)"
   ]
  },
  {
   "cell_type": "code",
   "execution_count": null,
   "id": "c6391633",
   "metadata": {},
   "outputs": [],
   "source": []
  }
 ],
 "metadata": {
  "kernelspec": {
   "display_name": "projects",
   "language": "python",
   "name": "python3"
  },
  "language_info": {
   "codemirror_mode": {
    "name": "ipython",
    "version": 3
   },
   "file_extension": ".py",
   "mimetype": "text/x-python",
   "name": "python",
   "nbconvert_exporter": "python",
   "pygments_lexer": "ipython3",
   "version": "3.12.8"
  }
 },
 "nbformat": 4,
 "nbformat_minor": 5
}
