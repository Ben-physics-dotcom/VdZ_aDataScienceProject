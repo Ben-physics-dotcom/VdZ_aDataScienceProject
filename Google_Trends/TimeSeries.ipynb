{
 "cells": [
  {
   "cell_type": "markdown",
   "id": "51f79b7e",
   "metadata": {},
   "source": [
    "# Imports"
   ]
  },
  {
   "cell_type": "code",
   "execution_count": 1,
   "id": "a69395cb",
   "metadata": {},
   "outputs": [],
   "source": [
    "%run Imports.ipynb"
   ]
  },
  {
   "cell_type": "markdown",
   "id": "788c2000",
   "metadata": {},
   "source": [
    "# Data"
   ]
  },
  {
   "cell_type": "code",
   "execution_count": null,
   "id": "8fb4521f",
   "metadata": {},
   "outputs": [],
   "source": [
    "path = \"../Data/Deutschland/\"\n",
    "path_rml_yt = path + \"RML_YouTube/\"\n",
    "path_rml_web = path + \"Robert_Marc_Lehmann_Websuche/\"\n",
    "path_zoos_web = path + \"Zoos_Websuche/\"\n",
    "path_zoos_yt = path + \"Zoos_YouTubesuche/\"\n",
    "path_vdz_web = path + \"Verband der Zoologischen Gärten/\""
   ]
  }
 ],
 "metadata": {
  "kernelspec": {
   "display_name": "projects",
   "language": "python",
   "name": "python3"
  },
  "language_info": {
   "codemirror_mode": {
    "name": "ipython",
    "version": 3
   },
   "file_extension": ".py",
   "mimetype": "text/x-python",
   "name": "python",
   "nbconvert_exporter": "python",
   "pygments_lexer": "ipython3",
   "version": "3.12.8"
  }
 },
 "nbformat": 4,
 "nbformat_minor": 5
}
