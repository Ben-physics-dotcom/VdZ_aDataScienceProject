{
 "cells": [
  {
   "cell_type": "markdown",
   "id": "51f79b7e",
   "metadata": {},
   "source": [
    "# Imports"
   ]
  },
  {
   "cell_type": "code",
   "execution_count": 1,
   "id": "a69395cb",
   "metadata": {},
   "outputs": [],
   "source": [
    "%run Imports.ipynb"
   ]
  },
  {
   "cell_type": "markdown",
   "id": "788c2000",
   "metadata": {},
   "source": [
    "# Data"
   ]
  },
  {
   "cell_type": "code",
   "execution_count": 2,
   "id": "8fb4521f",
   "metadata": {},
   "outputs": [],
   "source": [
    "path = \"../Data/Deutschland/\"\n",
    "path_rml_yt = path + \"RML_YouTube/\"\n",
    "path_rml_web = path + \"Robert_Marc_Lehmann_Websuche/\"\n",
    "path_zoos_web = path + \"Zoos_Websuche/\"\n",
    "path_zoos_yt = path + \"Zoos_YouTubesuche/\"\n",
    "path_vdz_web = path + \"Verband der Zoologischen Gärten/\""
   ]
  },
  {
   "cell_type": "code",
   "execution_count": 3,
   "id": "e14e8c9f",
   "metadata": {},
   "outputs": [],
   "source": [
    "file = 'multiTimeline.csv'"
   ]
  },
  {
   "cell_type": "code",
   "execution_count": 16,
   "id": "e8b4d8e3",
   "metadata": {},
   "outputs": [
    {
     "data": {
      "text/html": [
       "<div>\n",
       "<style scoped>\n",
       "    .dataframe tbody tr th:only-of-type {\n",
       "        vertical-align: middle;\n",
       "    }\n",
       "\n",
       "    .dataframe tbody tr th {\n",
       "        vertical-align: top;\n",
       "    }\n",
       "\n",
       "    .dataframe thead th {\n",
       "        text-align: right;\n",
       "    }\n",
       "</style>\n",
       "<table border=\"1\" class=\"dataframe\">\n",
       "  <thead>\n",
       "    <tr style=\"text-align: right;\">\n",
       "      <th></th>\n",
       "      <th>Monat</th>\n",
       "      <th>RML Websuche</th>\n",
       "      <th>Zoos Web</th>\n",
       "      <th>Zoos YT</th>\n",
       "      <th>VdZ Web</th>\n",
       "    </tr>\n",
       "  </thead>\n",
       "  <tbody>\n",
       "    <tr>\n",
       "      <th>0</th>\n",
       "      <td>2017-01</td>\n",
       "      <td>0</td>\n",
       "      <td>11</td>\n",
       "      <td>0</td>\n",
       "      <td>0</td>\n",
       "    </tr>\n",
       "    <tr>\n",
       "      <th>1</th>\n",
       "      <td>2017-02</td>\n",
       "      <td>0</td>\n",
       "      <td>15</td>\n",
       "      <td>0</td>\n",
       "      <td>0</td>\n",
       "    </tr>\n",
       "    <tr>\n",
       "      <th>2</th>\n",
       "      <td>2017-03</td>\n",
       "      <td>0</td>\n",
       "      <td>18</td>\n",
       "      <td>0</td>\n",
       "      <td>0</td>\n",
       "    </tr>\n",
       "    <tr>\n",
       "      <th>3</th>\n",
       "      <td>2017-04</td>\n",
       "      <td>0</td>\n",
       "      <td>23</td>\n",
       "      <td>0</td>\n",
       "      <td>0</td>\n",
       "    </tr>\n",
       "    <tr>\n",
       "      <th>4</th>\n",
       "      <td>2017-05</td>\n",
       "      <td>0</td>\n",
       "      <td>15</td>\n",
       "      <td>0</td>\n",
       "      <td>0</td>\n",
       "    </tr>\n",
       "  </tbody>\n",
       "</table>\n",
       "</div>"
      ],
      "text/plain": [
       "     Monat  RML Websuche  Zoos Web  Zoos YT  VdZ Web\n",
       "0  2017-01             0        11        0        0\n",
       "1  2017-02             0        15        0        0\n",
       "2  2017-03             0        18        0        0\n",
       "3  2017-04             0        23        0        0\n",
       "4  2017-05             0        15        0        0"
      ]
     },
     "execution_count": 16,
     "metadata": {},
     "output_type": "execute_result"
    }
   ],
   "source": [
    "df = pd.read_csv(path + 'combined_timeseries.csv')\n",
    "df.head()"
   ]
  },
  {
   "cell_type": "markdown",
   "id": "4b29e518",
   "metadata": {},
   "source": [
    "## Recombine files"
   ]
  },
  {
   "cell_type": "code",
   "execution_count": null,
   "id": "6231ce6d",
   "metadata": {},
   "outputs": [],
   "source": [
    "# rml_yt = pd.read_csv(path_rml_yt + file, skiprows=1)\n",
    "# rml_web = pd.read_csv(path_rml_web + file, skiprows=1)\n",
    "# zoos_web = pd.read_csv(path_zoos_web + file, skiprows=1)\n",
    "# zoos_yt = pd.read_csv(path_zoos_yt + file, skiprows=1)\n",
    "# vdz_web = pd.read_csv(path_vdz_web + file, skiprows=1)"
   ]
  },
  {
   "cell_type": "code",
   "execution_count": null,
   "id": "fa8658ed",
   "metadata": {},
   "outputs": [
    {
     "name": "stdout",
     "output_type": "stream",
     "text": [
      "Index(['Monat', 'Robert Marc Lehmann: (Deutschland)'], dtype='object')\n",
      "Index(['Monat', 'zoos: (Deutschland)'], dtype='object')\n",
      "Index(['Monat', 'zoos: (Deutschland)'], dtype='object')\n",
      "Index(['Monat', 'Verband der Zoologischen Gärten: (Deutschland)'], dtype='object')\n"
     ]
    }
   ],
   "source": [
    "# print(rml_yt.columns)\n",
    "# print(zoos_web.columns)\n",
    "# print(zoos_yt.columns)\n",
    "# print(vdz_web.columns)"
   ]
  },
  {
   "cell_type": "code",
   "execution_count": 15,
   "id": "2c14d172",
   "metadata": {},
   "outputs": [],
   "source": [
    "# df = rml_web.copy()\n",
    "# df = df.rename(columns={\"Robert Marc Lehmann: (Deutschland)\": \"RML Websuche\"})\n",
    "# df['Zoos Web'] = zoos_web[\"zoos: (Deutschland)\"]\n",
    "# df['Zoos YT'] = zoos_yt[\"zoos: (Deutschland)\"]\n",
    "# df['VdZ Web'] = vdz_web[\"Verband der Zoologischen Gärten: (Deutschland)\"]\n",
    "# df.head()"
   ]
  },
  {
   "cell_type": "markdown",
   "id": "83c55621",
   "metadata": {},
   "source": [
    "# View"
   ]
  },
  {
   "cell_type": "code",
   "execution_count": 19,
   "id": "c1f9d796",
   "metadata": {},
   "outputs": [
    {
     "data": {
      "text/html": [
       "<div>\n",
       "<style scoped>\n",
       "    .dataframe tbody tr th:only-of-type {\n",
       "        vertical-align: middle;\n",
       "    }\n",
       "\n",
       "    .dataframe tbody tr th {\n",
       "        vertical-align: top;\n",
       "    }\n",
       "\n",
       "    .dataframe thead th {\n",
       "        text-align: right;\n",
       "    }\n",
       "</style>\n",
       "<table border=\"1\" class=\"dataframe\">\n",
       "  <thead>\n",
       "    <tr style=\"text-align: right;\">\n",
       "      <th></th>\n",
       "      <th>Monat</th>\n",
       "      <th>RML Websuche</th>\n",
       "      <th>Zoos Web</th>\n",
       "      <th>Zoos YT</th>\n",
       "      <th>VdZ Web</th>\n",
       "    </tr>\n",
       "  </thead>\n",
       "  <tbody>\n",
       "    <tr>\n",
       "      <th>0</th>\n",
       "      <td>2017-01</td>\n",
       "      <td>0</td>\n",
       "      <td>11</td>\n",
       "      <td>0</td>\n",
       "      <td>0</td>\n",
       "    </tr>\n",
       "    <tr>\n",
       "      <th>1</th>\n",
       "      <td>2017-02</td>\n",
       "      <td>0</td>\n",
       "      <td>15</td>\n",
       "      <td>0</td>\n",
       "      <td>0</td>\n",
       "    </tr>\n",
       "    <tr>\n",
       "      <th>2</th>\n",
       "      <td>2017-03</td>\n",
       "      <td>0</td>\n",
       "      <td>18</td>\n",
       "      <td>0</td>\n",
       "      <td>0</td>\n",
       "    </tr>\n",
       "    <tr>\n",
       "      <th>3</th>\n",
       "      <td>2017-04</td>\n",
       "      <td>0</td>\n",
       "      <td>23</td>\n",
       "      <td>0</td>\n",
       "      <td>0</td>\n",
       "    </tr>\n",
       "    <tr>\n",
       "      <th>4</th>\n",
       "      <td>2017-05</td>\n",
       "      <td>0</td>\n",
       "      <td>15</td>\n",
       "      <td>0</td>\n",
       "      <td>0</td>\n",
       "    </tr>\n",
       "  </tbody>\n",
       "</table>\n",
       "</div>"
      ],
      "text/plain": [
       "     Monat  RML Websuche  Zoos Web  Zoos YT  VdZ Web\n",
       "0  2017-01             0        11        0        0\n",
       "1  2017-02             0        15        0        0\n",
       "2  2017-03             0        18        0        0\n",
       "3  2017-04             0        23        0        0\n",
       "4  2017-05             0        15        0        0"
      ]
     },
     "execution_count": 19,
     "metadata": {},
     "output_type": "execute_result"
    }
   ],
   "source": [
    "df.head()"
   ]
  },
  {
   "cell_type": "code",
   "execution_count": 29,
   "id": "41222932",
   "metadata": {},
   "outputs": [
    {
     "data": {
      "text/html": [
       "<div>\n",
       "<style scoped>\n",
       "    .dataframe tbody tr th:only-of-type {\n",
       "        vertical-align: middle;\n",
       "    }\n",
       "\n",
       "    .dataframe tbody tr th {\n",
       "        vertical-align: top;\n",
       "    }\n",
       "\n",
       "    .dataframe thead th {\n",
       "        text-align: right;\n",
       "    }\n",
       "</style>\n",
       "<table border=\"1\" class=\"dataframe\">\n",
       "  <thead>\n",
       "    <tr style=\"text-align: right;\">\n",
       "      <th></th>\n",
       "      <th>RML Websuche</th>\n",
       "      <th>Zoos Web</th>\n",
       "      <th>Zoos YT</th>\n",
       "      <th>VdZ Web</th>\n",
       "    </tr>\n",
       "  </thead>\n",
       "  <tbody>\n",
       "    <tr>\n",
       "      <th>count</th>\n",
       "      <td>97.000000</td>\n",
       "      <td>97.000000</td>\n",
       "      <td>97.000000</td>\n",
       "      <td>97.000000</td>\n",
       "    </tr>\n",
       "    <tr>\n",
       "      <th>mean</th>\n",
       "      <td>15.268041</td>\n",
       "      <td>19.288660</td>\n",
       "      <td>22.907216</td>\n",
       "      <td>16.649485</td>\n",
       "    </tr>\n",
       "    <tr>\n",
       "      <th>std</th>\n",
       "      <td>18.972851</td>\n",
       "      <td>11.119576</td>\n",
       "      <td>23.083671</td>\n",
       "      <td>19.599661</td>\n",
       "    </tr>\n",
       "    <tr>\n",
       "      <th>min</th>\n",
       "      <td>0.000000</td>\n",
       "      <td>8.000000</td>\n",
       "      <td>0.000000</td>\n",
       "      <td>0.000000</td>\n",
       "    </tr>\n",
       "    <tr>\n",
       "      <th>25%</th>\n",
       "      <td>1.000000</td>\n",
       "      <td>14.000000</td>\n",
       "      <td>0.000000</td>\n",
       "      <td>0.000000</td>\n",
       "    </tr>\n",
       "    <tr>\n",
       "      <th>50%</th>\n",
       "      <td>6.000000</td>\n",
       "      <td>18.000000</td>\n",
       "      <td>20.000000</td>\n",
       "      <td>18.000000</td>\n",
       "    </tr>\n",
       "    <tr>\n",
       "      <th>75%</th>\n",
       "      <td>23.000000</td>\n",
       "      <td>22.000000</td>\n",
       "      <td>38.000000</td>\n",
       "      <td>27.000000</td>\n",
       "    </tr>\n",
       "    <tr>\n",
       "      <th>max</th>\n",
       "      <td>100.000000</td>\n",
       "      <td>100.000000</td>\n",
       "      <td>100.000000</td>\n",
       "      <td>100.000000</td>\n",
       "    </tr>\n",
       "  </tbody>\n",
       "</table>\n",
       "</div>"
      ],
      "text/plain": [
       "       RML Websuche    Zoos Web     Zoos YT     VdZ Web\n",
       "count     97.000000   97.000000   97.000000   97.000000\n",
       "mean      15.268041   19.288660   22.907216   16.649485\n",
       "std       18.972851   11.119576   23.083671   19.599661\n",
       "min        0.000000    8.000000    0.000000    0.000000\n",
       "25%        1.000000   14.000000    0.000000    0.000000\n",
       "50%        6.000000   18.000000   20.000000   18.000000\n",
       "75%       23.000000   22.000000   38.000000   27.000000\n",
       "max      100.000000  100.000000  100.000000  100.000000"
      ]
     },
     "execution_count": 29,
     "metadata": {},
     "output_type": "execute_result"
    }
   ],
   "source": [
    "df.describe()"
   ]
  },
  {
   "cell_type": "code",
   "execution_count": 30,
   "id": "bcda50b0",
   "metadata": {},
   "outputs": [
    {
     "data": {
      "image/png": "[encoded data removed]",
      "text/plain": [
       "<Figure size 640x480 with 1 Axes>"
      ]
     },
     "metadata": {},
     "output_type": "display_data"
    }
   ],
   "source": [
    "sns.lineplot(data=df[33:], x='Monat', y='RML Websuche', label='RML Websuche')\n",
    "sns.lineplot(data=df[33:], x='Monat', y='Zoos Web', label='Zoos Web')\n",
    "plt.show()"
   ]
  },
  {
   "cell_type": "code",
   "execution_count": 22,
   "id": "953b2052",
   "metadata": {},
   "outputs": [
    {
     "data": {
      "text/plain": [
       "Index(['Monat', 'RML Websuche', 'Zoos Web', 'Zoos YT', 'VdZ Web'], dtype='object')"
      ]
     },
     "execution_count": 22,
     "metadata": {},
     "output_type": "execute_result"
    }
   ],
   "source": [
    "df.columns"
   ]
  },
  {
   "cell_type": "code",
   "execution_count": 25,
   "id": "cf9fbe96",
   "metadata": {},
   "outputs": [
    {
     "data": {
      "image/png": "[encoded data removed]",
      "text/plain": [
       "<Figure size 640x480 with 2 Axes>"
      ]
     },
     "metadata": {},
     "output_type": "display_data"
    }
   ],
   "source": [
    "plt.imshow(df[['RML Websuche', 'Zoos Web', 'Zoos YT', 'VdZ Web']].corr())\n",
    "plt.colorbar()\n",
    "plt.show()"
   ]
  }
 ],
 "metadata": {
  "kernelspec": {
   "display_name": "projects",
   "language": "python",
   "name": "python3"
  },
  "language_info": {
   "codemirror_mode": {
    "name": "ipython",
    "version": 3
   },
   "file_extension": ".py",
   "mimetype": "text/x-python",
   "name": "python",
   "nbconvert_exporter": "python",
   "pygments_lexer": "ipython3",
   "version": "3.12.8"
  }
 },
 "nbformat": 4,
 "nbformat_minor": 5
}
