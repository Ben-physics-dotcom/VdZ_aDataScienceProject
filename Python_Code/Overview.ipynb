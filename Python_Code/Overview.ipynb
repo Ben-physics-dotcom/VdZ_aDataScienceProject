{
 "cells": [
  {
   "cell_type": "markdown",
   "id": "124aa886",
   "metadata": {},
   "source": [
    "# Imports"
   ]
  },
  {
   "cell_type": "code",
   "execution_count": 1,
   "id": "395464da",
   "metadata": {},
   "outputs": [],
   "source": [
    "import numpy as np\n",
    "import matplotlib.pyplot as plt\n",
    "import pandas as pd\n",
    "import seaborn as sns\n",
    "import os"
   ]
  },
  {
   "cell_type": "markdown",
   "id": "9a885db4",
   "metadata": {},
   "source": [
    "# Loading Data"
   ]
  },
  {
   "cell_type": "code",
   "execution_count": 3,
   "id": "49501221",
   "metadata": {},
   "outputs": [
    {
     "data": {
      "text/html": [
       "<div>\n",
       "<style scoped>\n",
       "    .dataframe tbody tr th:only-of-type {\n",
       "        vertical-align: middle;\n",
       "    }\n",
       "\n",
       "    .dataframe tbody tr th {\n",
       "        vertical-align: top;\n",
       "    }\n",
       "\n",
       "    .dataframe thead th {\n",
       "        text-align: right;\n",
       "    }\n",
       "</style>\n",
       "<table border=\"1\" class=\"dataframe\">\n",
       "  <thead>\n",
       "    <tr style=\"text-align: right;\">\n",
       "      <th></th>\n",
       "      <th>Land</th>\n",
       "      <th>Bundesland</th>\n",
       "      <th>Stadt/Ort</th>\n",
       "      <th>Unternehmensform</th>\n",
       "      <th>Name</th>\n",
       "    </tr>\n",
       "  </thead>\n",
       "  <tbody>\n",
       "    <tr>\n",
       "      <th>0</th>\n",
       "      <td>Deutschland</td>\n",
       "      <td>Baden-Wüttenberg</td>\n",
       "      <td>Heidelberg</td>\n",
       "      <td>gGmbH</td>\n",
       "      <td>Zoo Heidelberg</td>\n",
       "    </tr>\n",
       "    <tr>\n",
       "      <th>1</th>\n",
       "      <td>Deutschland</td>\n",
       "      <td>Baden-Wüttenberg</td>\n",
       "      <td>Karlsruhe</td>\n",
       "      <td>Stadt</td>\n",
       "      <td>Zoologischer Stadtgarten Karlsruhe</td>\n",
       "    </tr>\n",
       "    <tr>\n",
       "      <th>2</th>\n",
       "      <td>Deutschland</td>\n",
       "      <td>Baden-Wüttenberg</td>\n",
       "      <td>Stuttgart</td>\n",
       "      <td>Stadt</td>\n",
       "      <td>Willhelma</td>\n",
       "    </tr>\n",
       "    <tr>\n",
       "      <th>3</th>\n",
       "      <td>Deutschland</td>\n",
       "      <td>Bayern</td>\n",
       "      <td>Altschönau</td>\n",
       "      <td>Nationalparkverwaltung</td>\n",
       "      <td>Tier-Freigelände des Nationalparks Bayerischer...</td>\n",
       "    </tr>\n",
       "    <tr>\n",
       "      <th>4</th>\n",
       "      <td>Deutschland</td>\n",
       "      <td>Bayern</td>\n",
       "      <td>Augsburg</td>\n",
       "      <td>GmbH</td>\n",
       "      <td>Zoologischer Garten Augsburg</td>\n",
       "    </tr>\n",
       "  </tbody>\n",
       "</table>\n",
       "</div>"
      ],
      "text/plain": [
       "          Land        Bundesland   Stadt/Ort        Unternehmensform  \\\n",
       "0  Deutschland  Baden-Wüttenberg  Heidelberg                   gGmbH   \n",
       "1  Deutschland  Baden-Wüttenberg   Karlsruhe                   Stadt   \n",
       "2  Deutschland  Baden-Wüttenberg   Stuttgart                   Stadt   \n",
       "3  Deutschland            Bayern  Altschönau  Nationalparkverwaltung   \n",
       "4  Deutschland            Bayern    Augsburg                    GmbH   \n",
       "\n",
       "                                                Name  \n",
       "0                                     Zoo Heidelberg  \n",
       "1                 Zoologischer Stadtgarten Karlsruhe  \n",
       "2                                          Willhelma  \n",
       "3  Tier-Freigelände des Nationalparks Bayerischer...  \n",
       "4                       Zoologischer Garten Augsburg  "
      ]
     },
     "execution_count": 3,
     "metadata": {},
     "output_type": "execute_result"
    }
   ],
   "source": [
    "path = '../Data/Members.xlsx'\n",
    "df = pd.read_excel(path)\n",
    "df = df.dropna()\n",
    "df.head()"
   ]
  },
  {
   "cell_type": "code",
   "execution_count": 4,
   "id": "56fed645",
   "metadata": {},
   "outputs": [
    {
     "data": {
      "text/html": [
       "<div>\n",
       "<style scoped>\n",
       "    .dataframe tbody tr th:only-of-type {\n",
       "        vertical-align: middle;\n",
       "    }\n",
       "\n",
       "    .dataframe tbody tr th {\n",
       "        vertical-align: top;\n",
       "    }\n",
       "\n",
       "    .dataframe thead th {\n",
       "        text-align: right;\n",
       "    }\n",
       "</style>\n",
       "<table border=\"1\" class=\"dataframe\">\n",
       "  <thead>\n",
       "    <tr style=\"text-align: right;\">\n",
       "      <th></th>\n",
       "      <th>Land</th>\n",
       "      <th>Bundesland</th>\n",
       "      <th>Stadt/Ort</th>\n",
       "      <th>Unternehmensform</th>\n",
       "      <th>Name</th>\n",
       "    </tr>\n",
       "  </thead>\n",
       "  <tbody>\n",
       "    <tr>\n",
       "      <th>10</th>\n",
       "      <td>Deutschland</td>\n",
       "      <td>Brandenburg</td>\n",
       "      <td>Cottbus</td>\n",
       "      <td>Stadt</td>\n",
       "      <td>Tierpark Cottbus</td>\n",
       "    </tr>\n",
       "    <tr>\n",
       "      <th>11</th>\n",
       "      <td>Deutschland</td>\n",
       "      <td>Brandenburg</td>\n",
       "      <td>Eberswalde</td>\n",
       "      <td>Stadt</td>\n",
       "      <td>Zoo Eberswalde</td>\n",
       "    </tr>\n",
       "    <tr>\n",
       "      <th>12</th>\n",
       "      <td>Deutschland</td>\n",
       "      <td>Bremen</td>\n",
       "      <td>Bremenerhaven</td>\n",
       "      <td>GmbH</td>\n",
       "      <td>Zoo am Meer  Bremerhaven</td>\n",
       "    </tr>\n",
       "    <tr>\n",
       "      <th>13</th>\n",
       "      <td>Deutschland</td>\n",
       "      <td>Hamburg</td>\n",
       "      <td>Hamburg</td>\n",
       "      <td>gGmbH</td>\n",
       "      <td>Tierpark Hagenbeck Hamburg</td>\n",
       "    </tr>\n",
       "    <tr>\n",
       "      <th>14</th>\n",
       "      <td>Deutschland</td>\n",
       "      <td>Hessen</td>\n",
       "      <td>Darmstadt</td>\n",
       "      <td>EAD</td>\n",
       "      <td>Zoo Vivarium Darmstadt</td>\n",
       "    </tr>\n",
       "  </tbody>\n",
       "</table>\n",
       "</div>"
      ],
      "text/plain": [
       "           Land   Bundesland      Stadt/Ort Unternehmensform  \\\n",
       "10  Deutschland  Brandenburg        Cottbus            Stadt   \n",
       "11  Deutschland  Brandenburg     Eberswalde            Stadt   \n",
       "12  Deutschland       Bremen  Bremenerhaven             GmbH   \n",
       "13  Deutschland      Hamburg        Hamburg            gGmbH   \n",
       "14  Deutschland       Hessen      Darmstadt              EAD   \n",
       "\n",
       "                          Name  \n",
       "10            Tierpark Cottbus  \n",
       "11              Zoo Eberswalde  \n",
       "12    Zoo am Meer  Bremerhaven  \n",
       "13  Tierpark Hagenbeck Hamburg  \n",
       "14      Zoo Vivarium Darmstadt  "
      ]
     },
     "execution_count": 4,
     "metadata": {},
     "output_type": "execute_result"
    }
   ],
   "source": [
    "df.tail()"
   ]
  },
  {
   "cell_type": "markdown",
   "id": "3d8baecb",
   "metadata": {},
   "source": [
    "# EDA"
   ]
  },
  {
   "cell_type": "code",
   "execution_count": 10,
   "id": "56b414c2",
   "metadata": {},
   "outputs": [
    {
     "data": {
      "image/png": "[encoded data removed]",
      "text/plain": [
       "<Figure size 640x480 with 1 Axes>"
      ]
     },
     "metadata": {},
     "output_type": "display_data"
    }
   ],
   "source": [
    "sns.histplot(df['Unternehmensform'])\n",
    "plt.xticks(rotation=90)\n",
    "plt.show()"
   ]
  },
  {
   "cell_type": "code",
   "execution_count": 11,
   "id": "bb8f18bd",
   "metadata": {},
   "outputs": [
    {
     "data": {
      "image/png": "[encoded data removed]",
      "text/plain": [
       "<Figure size 640x480 with 1 Axes>"
      ]
     },
     "metadata": {},
     "output_type": "display_data"
    }
   ],
   "source": [
    "sns.histplot(df['Bundesland'])\n",
    "plt.xticks(rotation=90)\n",
    "plt.show()"
   ]
  }
 ],
 "metadata": {
  "kernelspec": {
   "display_name": "projects",
   "language": "python",
   "name": "python3"
  },
  "language_info": {
   "codemirror_mode": {
    "name": "ipython",
    "version": 3
   },
   "file_extension": ".py",
   "mimetype": "text/x-python",
   "name": "python",
   "nbconvert_exporter": "python",
   "pygments_lexer": "ipython3",
   "version": "3.12.8"
  }
 },
 "nbformat": 4,
 "nbformat_minor": 5
}
