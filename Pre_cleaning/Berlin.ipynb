{
 "cells": [
  {
   "cell_type": "markdown",
   "id": "e06e12ab",
   "metadata": {},
   "source": [
    "# Imports and data"
   ]
  },
  {
   "cell_type": "code",
   "execution_count": 97,
   "id": "c6140f56",
   "metadata": {},
   "outputs": [],
   "source": [
    "%run Imports.ipynb"
   ]
  },
  {
   "cell_type": "code",
   "execution_count": 98,
   "id": "fd419dce",
   "metadata": {},
   "outputs": [],
   "source": [
    "Berlin_dict = tables_dict['Berlin']\n",
    "Berlin_meta = meta_dict['Berlin']"
   ]
  },
  {
   "cell_type": "markdown",
   "id": "61ffed1f",
   "metadata": {},
   "source": [
    "# Overview"
   ]
  },
  {
   "cell_type": "code",
   "execution_count": 99,
   "id": "a8314fa7",
   "metadata": {},
   "outputs": [],
   "source": [
    "zoo = Berlin_dict['ZooAquarium']\n",
    "tg = Berlin_dict['Tiergarten']"
   ]
  },
  {
   "cell_type": "code",
   "execution_count": 100,
   "id": "41dd199f",
   "metadata": {},
   "outputs": [
    {
     "name": "stdout",
     "output_type": "stream",
     "text": [
      "dict_keys([2017, 2018, 2019, 2020, 2021])\n"
     ]
    }
   ],
   "source": [
    "print(zoo.keys())"
   ]
  },
  {
   "cell_type": "markdown",
   "id": "0ced86ea",
   "metadata": {},
   "source": [
    "# Zoo"
   ]
  },
  {
   "cell_type": "code",
   "execution_count": 101,
   "id": "f92b3630",
   "metadata": {},
   "outputs": [
    {
     "data": {
      "text/plain": [
       "dict_keys([2017, 2018, 2019, 2020, 2021])"
      ]
     },
     "execution_count": 101,
     "metadata": {},
     "output_type": "execute_result"
    }
   ],
   "source": [
    "zoo.keys()"
   ]
  },
  {
   "cell_type": "code",
   "execution_count": 102,
   "id": "16c88061",
   "metadata": {},
   "outputs": [],
   "source": [
    "def clean_zoo(zoo: dict, year: int, del_list: list) -> dict:\n",
    "    z_clean = {}\n",
    "    for i in range(len(zoo[year])):\n",
    "        if i not in del_list:\n",
    "            z_clean[i] = zoo[year][i]\n",
    "\n",
    "    updated = {}\n",
    "    for i in range(len(z_clean)):\n",
    "        index = list(z_clean.keys())[i]\n",
    "        updated[i] = z_clean[index]\n",
    "    zoo[year] = updated\n",
    "    return zoo"
   ]
  },
  {
   "cell_type": "markdown",
   "id": "f53dd2f2",
   "metadata": {},
   "source": [
    "## 2017"
   ]
  },
  {
   "cell_type": "code",
   "execution_count": 103,
   "id": "08a41981",
   "metadata": {},
   "outputs": [],
   "source": [
    "dl_17 = [0, 1, 6]"
   ]
  },
  {
   "cell_type": "code",
   "execution_count": 104,
   "id": "468c1b0a",
   "metadata": {},
   "outputs": [],
   "source": [
    "zoo = clean_zoo(zoo, 2017, dl_17)"
   ]
  },
  {
   "cell_type": "markdown",
   "id": "b7cb4465",
   "metadata": {},
   "source": [
    "## 2018"
   ]
  },
  {
   "cell_type": "code",
   "execution_count": 105,
   "id": "8ce6e8c8",
   "metadata": {},
   "outputs": [
    {
     "data": {
      "text/plain": [
       "47"
      ]
     },
     "execution_count": 105,
     "metadata": {},
     "output_type": "execute_result"
    }
   ],
   "source": [
    "len(zoo[2018])"
   ]
  },
  {
   "cell_type": "code",
   "execution_count": 106,
   "id": "102b847c",
   "metadata": {},
   "outputs": [
    {
     "data": {
      "text/html": [
       "<div>\n",
       "<style scoped>\n",
       "    .dataframe tbody tr th:only-of-type {\n",
       "        vertical-align: middle;\n",
       "    }\n",
       "\n",
       "    .dataframe tbody tr th {\n",
       "        vertical-align: top;\n",
       "    }\n",
       "\n",
       "    .dataframe thead th {\n",
       "        text-align: right;\n",
       "    }\n",
       "</style>\n",
       "<table border=\"1\" class=\"dataframe\">\n",
       "  <thead>\n",
       "    <tr style=\"text-align: right;\">\n",
       "      <th></th>\n",
       "      <th>0</th>\n",
       "      <th>1</th>\n",
       "      <th>2</th>\n",
       "      <th>3</th>\n",
       "      <th>4</th>\n",
       "      <th>5</th>\n",
       "      <th>6</th>\n",
       "      <th>7</th>\n",
       "      <th>8</th>\n",
       "      <th>9</th>\n",
       "      <th>...</th>\n",
       "      <th>11</th>\n",
       "      <th>12</th>\n",
       "      <th>13</th>\n",
       "      <th>14</th>\n",
       "      <th>15</th>\n",
       "      <th>16</th>\n",
       "      <th>17</th>\n",
       "      <th>18</th>\n",
       "      <th>19</th>\n",
       "      <th>20</th>\n",
       "    </tr>\n",
       "  </thead>\n",
       "  <tbody>\n",
       "    <tr>\n",
       "      <th>0</th>\n",
       "      <td>KNOCHENFISCHE</td>\n",
       "      <td>OSTEICHTHYES\\nArtenzahl\\n2017\\ngeboren\\nZugäng...</td>\n",
       "      <td></td>\n",
       "      <td></td>\n",
       "      <td></td>\n",
       "      <td></td>\n",
       "      <td></td>\n",
       "      <td></td>\n",
       "      <td></td>\n",
       "      <td></td>\n",
       "      <td>...</td>\n",
       "      <td></td>\n",
       "      <td></td>\n",
       "      <td></td>\n",
       "      <td></td>\n",
       "      <td></td>\n",
       "      <td></td>\n",
       "      <td></td>\n",
       "      <td></td>\n",
       "      <td></td>\n",
       "      <td></td>\n",
       "    </tr>\n",
       "    <tr>\n",
       "      <th>1</th>\n",
       "      <td></td>\n",
       "      <td></td>\n",
       "      <td></td>\n",
       "      <td>m</td>\n",
       "      <td>w</td>\n",
       "      <td>u</td>\n",
       "      <td>m</td>\n",
       "      <td>w</td>\n",
       "      <td>u</td>\n",
       "      <td>m</td>\n",
       "      <td>...</td>\n",
       "      <td>u</td>\n",
       "      <td>m</td>\n",
       "      <td>w</td>\n",
       "      <td>u</td>\n",
       "      <td>m</td>\n",
       "      <td>w</td>\n",
       "      <td>u</td>\n",
       "      <td>m</td>\n",
       "      <td>w</td>\n",
       "      <td>u</td>\n",
       "    </tr>\n",
       "    <tr>\n",
       "      <th>2</th>\n",
       "      <td>Flösselhechtartige</td>\n",
       "      <td>Polypteriformes</td>\n",
       "      <td>2</td>\n",
       "      <td>0</td>\n",
       "      <td>0</td>\n",
       "      <td>3</td>\n",
       "      <td>0</td>\n",
       "      <td>0</td>\n",
       "      <td>0</td>\n",
       "      <td>0</td>\n",
       "      <td>...</td>\n",
       "      <td>0</td>\n",
       "      <td>0</td>\n",
       "      <td>0</td>\n",
       "      <td>0</td>\n",
       "      <td>0</td>\n",
       "      <td>0</td>\n",
       "      <td>0</td>\n",
       "      <td>0</td>\n",
       "      <td>0</td>\n",
       "      <td>3</td>\n",
       "    </tr>\n",
       "    <tr>\n",
       "      <th>3</th>\n",
       "      <td>Störartige</td>\n",
       "      <td>Acipenseriformes</td>\n",
       "      <td>0</td>\n",
       "      <td>0</td>\n",
       "      <td>0</td>\n",
       "      <td>0</td>\n",
       "      <td>0</td>\n",
       "      <td>0</td>\n",
       "      <td>0</td>\n",
       "      <td>0</td>\n",
       "      <td>...</td>\n",
       "      <td>0</td>\n",
       "      <td>0</td>\n",
       "      <td>0</td>\n",
       "      <td>0</td>\n",
       "      <td>0</td>\n",
       "      <td>0</td>\n",
       "      <td>0</td>\n",
       "      <td>0</td>\n",
       "      <td>0</td>\n",
       "      <td>0</td>\n",
       "    </tr>\n",
       "    <tr>\n",
       "      <th>4</th>\n",
       "      <td>Knochenhechtartige</td>\n",
       "      <td>Lepisosteiformes</td>\n",
       "      <td>3</td>\n",
       "      <td>0</td>\n",
       "      <td>0</td>\n",
       "      <td>11</td>\n",
       "      <td>0</td>\n",
       "      <td>0</td>\n",
       "      <td>0</td>\n",
       "      <td>0</td>\n",
       "      <td>...</td>\n",
       "      <td>0</td>\n",
       "      <td>0</td>\n",
       "      <td>0</td>\n",
       "      <td>0</td>\n",
       "      <td>0</td>\n",
       "      <td>0</td>\n",
       "      <td>0</td>\n",
       "      <td>0</td>\n",
       "      <td>0</td>\n",
       "      <td>11</td>\n",
       "    </tr>\n",
       "    <tr>\n",
       "      <th>5</th>\n",
       "      <td>Tarpunartige</td>\n",
       "      <td>Elopiformes</td>\n",
       "      <td>1</td>\n",
       "      <td>0</td>\n",
       "      <td>0</td>\n",
       "      <td>9</td>\n",
       "      <td>0</td>\n",
       "      <td>0</td>\n",
       "      <td>0</td>\n",
       "      <td>0</td>\n",
       "      <td>...</td>\n",
       "      <td>0</td>\n",
       "      <td>0</td>\n",
       "      <td>0</td>\n",
       "      <td>0</td>\n",
       "      <td>0</td>\n",
       "      <td>0</td>\n",
       "      <td>0</td>\n",
       "      <td>0</td>\n",
       "      <td>0</td>\n",
       "      <td>9</td>\n",
       "    </tr>\n",
       "    <tr>\n",
       "      <th>6</th>\n",
       "      <td>Aalartige</td>\n",
       "      <td>Anguilliformes</td>\n",
       "      <td>6</td>\n",
       "      <td>0</td>\n",
       "      <td>0</td>\n",
       "      <td>52</td>\n",
       "      <td>0</td>\n",
       "      <td>0</td>\n",
       "      <td>0</td>\n",
       "      <td>0</td>\n",
       "      <td>...</td>\n",
       "      <td>9</td>\n",
       "      <td>0</td>\n",
       "      <td>0</td>\n",
       "      <td>50</td>\n",
       "      <td>0</td>\n",
       "      <td>0</td>\n",
       "      <td>0</td>\n",
       "      <td>0</td>\n",
       "      <td>0</td>\n",
       "      <td>11</td>\n",
       "    </tr>\n",
       "    <tr>\n",
       "      <th>7</th>\n",
       "      <td>Knochenzünglerartige</td>\n",
       "      <td>Osteoglossiformes</td>\n",
       "      <td>4</td>\n",
       "      <td>0</td>\n",
       "      <td>0</td>\n",
       "      <td>38</td>\n",
       "      <td>0</td>\n",
       "      <td>0</td>\n",
       "      <td>0</td>\n",
       "      <td>0</td>\n",
       "      <td>...</td>\n",
       "      <td>0</td>\n",
       "      <td>0</td>\n",
       "      <td>0</td>\n",
       "      <td>14</td>\n",
       "      <td>0</td>\n",
       "      <td>0</td>\n",
       "      <td>0</td>\n",
       "      <td>0</td>\n",
       "      <td>0</td>\n",
       "      <td>24</td>\n",
       "    </tr>\n",
       "    <tr>\n",
       "      <th>8</th>\n",
       "      <td>Hechtartige</td>\n",
       "      <td>Esociformes</td>\n",
       "      <td>1</td>\n",
       "      <td>0</td>\n",
       "      <td>0</td>\n",
       "      <td>0</td>\n",
       "      <td>0</td>\n",
       "      <td>0</td>\n",
       "      <td>0</td>\n",
       "      <td>0</td>\n",
       "      <td>...</td>\n",
       "      <td>1</td>\n",
       "      <td>0</td>\n",
       "      <td>0</td>\n",
       "      <td>0</td>\n",
       "      <td>0</td>\n",
       "      <td>0</td>\n",
       "      <td>0</td>\n",
       "      <td>0</td>\n",
       "      <td>0</td>\n",
       "      <td>1</td>\n",
       "    </tr>\n",
       "    <tr>\n",
       "      <th>9</th>\n",
       "      <td>Schildfischartige</td>\n",
       "      <td>Gobiesociformes</td>\n",
       "      <td>0</td>\n",
       "      <td>0</td>\n",
       "      <td>0</td>\n",
       "      <td>0</td>\n",
       "      <td>0</td>\n",
       "      <td>0</td>\n",
       "      <td>0</td>\n",
       "      <td>0</td>\n",
       "      <td>...</td>\n",
       "      <td>0</td>\n",
       "      <td>0</td>\n",
       "      <td>0</td>\n",
       "      <td>0</td>\n",
       "      <td>0</td>\n",
       "      <td>0</td>\n",
       "      <td>0</td>\n",
       "      <td>0</td>\n",
       "      <td>0</td>\n",
       "      <td>0</td>\n",
       "    </tr>\n",
       "    <tr>\n",
       "      <th>10</th>\n",
       "      <td>Salmlerartige</td>\n",
       "      <td>Characiformes</td>\n",
       "      <td>40</td>\n",
       "      <td>0</td>\n",
       "      <td>0</td>\n",
       "      <td>1025</td>\n",
       "      <td>0</td>\n",
       "      <td>0</td>\n",
       "      <td>0</td>\n",
       "      <td>0</td>\n",
       "      <td>...</td>\n",
       "      <td>340</td>\n",
       "      <td>0</td>\n",
       "      <td>0</td>\n",
       "      <td>407</td>\n",
       "      <td>0</td>\n",
       "      <td>0</td>\n",
       "      <td>0</td>\n",
       "      <td>0</td>\n",
       "      <td>0</td>\n",
       "      <td>958</td>\n",
       "    </tr>\n",
       "    <tr>\n",
       "      <th>11</th>\n",
       "      <td>Karpfenfischartige</td>\n",
       "      <td>Cypriniformes</td>\n",
       "      <td>27</td>\n",
       "      <td>0</td>\n",
       "      <td>0</td>\n",
       "      <td>709</td>\n",
       "      <td>0</td>\n",
       "      <td>0</td>\n",
       "      <td>0</td>\n",
       "      <td>0</td>\n",
       "      <td>...</td>\n",
       "      <td>422</td>\n",
       "      <td>0</td>\n",
       "      <td>0</td>\n",
       "      <td>531</td>\n",
       "      <td>0</td>\n",
       "      <td>0</td>\n",
       "      <td>77</td>\n",
       "      <td>0</td>\n",
       "      <td>0</td>\n",
       "      <td>523</td>\n",
       "    </tr>\n",
       "    <tr>\n",
       "      <th>12</th>\n",
       "      <td>Neuwelt-Messerfische</td>\n",
       "      <td>Gymnotiformes</td>\n",
       "      <td>1</td>\n",
       "      <td>0</td>\n",
       "      <td>0</td>\n",
       "      <td>1</td>\n",
       "      <td>0</td>\n",
       "      <td>0</td>\n",
       "      <td>0</td>\n",
       "      <td>0</td>\n",
       "      <td>...</td>\n",
       "      <td>0</td>\n",
       "      <td>0</td>\n",
       "      <td>0</td>\n",
       "      <td>0</td>\n",
       "      <td>0</td>\n",
       "      <td>0</td>\n",
       "      <td>0</td>\n",
       "      <td>0</td>\n",
       "      <td>0</td>\n",
       "      <td>1</td>\n",
       "    </tr>\n",
       "    <tr>\n",
       "      <th>13</th>\n",
       "      <td>Welse</td>\n",
       "      <td>Siluriformes</td>\n",
       "      <td>71</td>\n",
       "      <td>0</td>\n",
       "      <td>0</td>\n",
       "      <td>646</td>\n",
       "      <td>0</td>\n",
       "      <td>0</td>\n",
       "      <td>20</td>\n",
       "      <td>0</td>\n",
       "      <td>...</td>\n",
       "      <td>8</td>\n",
       "      <td>0</td>\n",
       "      <td>0</td>\n",
       "      <td>222</td>\n",
       "      <td>0</td>\n",
       "      <td>0</td>\n",
       "      <td>10</td>\n",
       "      <td>0</td>\n",
       "      <td>0</td>\n",
       "      <td>442</td>\n",
       "    </tr>\n",
       "    <tr>\n",
       "      <th>14</th>\n",
       "      <td>Froschfische</td>\n",
       "      <td>Batrachoidiformes</td>\n",
       "      <td>0</td>\n",
       "      <td>0</td>\n",
       "      <td>0</td>\n",
       "      <td>1</td>\n",
       "      <td>0</td>\n",
       "      <td>0</td>\n",
       "      <td>0</td>\n",
       "      <td>0</td>\n",
       "      <td>...</td>\n",
       "      <td>0</td>\n",
       "      <td>0</td>\n",
       "      <td>0</td>\n",
       "      <td>1</td>\n",
       "      <td>0</td>\n",
       "      <td>0</td>\n",
       "      <td>0</td>\n",
       "      <td>0</td>\n",
       "      <td>0</td>\n",
       "      <td>0</td>\n",
       "    </tr>\n",
       "  </tbody>\n",
       "</table>\n",
       "<p>15 rows × 21 columns</p>\n",
       "</div>"
      ],
      "text/plain": [
       "                      0                                                  1   \\\n",
       "0          KNOCHENFISCHE  OSTEICHTHYES\\nArtenzahl\\n2017\\ngeboren\\nZugäng...   \n",
       "1                                                                             \n",
       "2     Flösselhechtartige                                    Polypteriformes   \n",
       "3             Störartige                                   Acipenseriformes   \n",
       "4     Knochenhechtartige                                   Lepisosteiformes   \n",
       "5           Tarpunartige                                        Elopiformes   \n",
       "6              Aalartige                                     Anguilliformes   \n",
       "7   Knochenzünglerartige                                  Osteoglossiformes   \n",
       "8            Hechtartige                                        Esociformes   \n",
       "9      Schildfischartige                                    Gobiesociformes   \n",
       "10         Salmlerartige                                      Characiformes   \n",
       "11    Karpfenfischartige                                      Cypriniformes   \n",
       "12  Neuwelt-Messerfische                                      Gymnotiformes   \n",
       "13                 Welse                                       Siluriformes   \n",
       "14          Froschfische                                  Batrachoidiformes   \n",
       "\n",
       "    2  3  4     5  6  7   8  9   ...   11 12 13   14 15 16  17 18 19   20  \n",
       "0                                ...                                       \n",
       "1       m  w     u  m  w   u  m  ...    u  m  w    u  m  w   u  m  w    u  \n",
       "2    2  0  0     3  0  0   0  0  ...    0  0  0    0  0  0   0  0  0    3  \n",
       "3    0  0  0     0  0  0   0  0  ...    0  0  0    0  0  0   0  0  0    0  \n",
       "4    3  0  0    11  0  0   0  0  ...    0  0  0    0  0  0   0  0  0   11  \n",
       "5    1  0  0     9  0  0   0  0  ...    0  0  0    0  0  0   0  0  0    9  \n",
       "6    6  0  0    52  0  0   0  0  ...    9  0  0   50  0  0   0  0  0   11  \n",
       "7    4  0  0    38  0  0   0  0  ...    0  0  0   14  0  0   0  0  0   24  \n",
       "8    1  0  0     0  0  0   0  0  ...    1  0  0    0  0  0   0  0  0    1  \n",
       "9    0  0  0     0  0  0   0  0  ...    0  0  0    0  0  0   0  0  0    0  \n",
       "10  40  0  0  1025  0  0   0  0  ...  340  0  0  407  0  0   0  0  0  958  \n",
       "11  27  0  0   709  0  0   0  0  ...  422  0  0  531  0  0  77  0  0  523  \n",
       "12   1  0  0     1  0  0   0  0  ...    0  0  0    0  0  0   0  0  0    1  \n",
       "13  71  0  0   646  0  0  20  0  ...    8  0  0  222  0  0  10  0  0  442  \n",
       "14   0  0  0     1  0  0   0  0  ...    0  0  0    1  0  0   0  0  0    0  \n",
       "\n",
       "[15 rows x 21 columns]"
      ]
     },
     "execution_count": 106,
     "metadata": {},
     "output_type": "execute_result"
    }
   ],
   "source": [
    "zoo[2018][46]"
   ]
  },
  {
   "cell_type": "markdown",
   "id": "728d4f3d",
   "metadata": {},
   "source": [
    "## 2019"
   ]
  },
  {
   "cell_type": "code",
   "execution_count": 107,
   "id": "99bc5fe8",
   "metadata": {},
   "outputs": [
    {
     "data": {
      "text/plain": [
       "43"
      ]
     },
     "execution_count": 107,
     "metadata": {},
     "output_type": "execute_result"
    }
   ],
   "source": [
    "len(zoo[2019])"
   ]
  },
  {
   "cell_type": "code",
   "execution_count": 108,
   "id": "4b8d020f",
   "metadata": {},
   "outputs": [],
   "source": [
    "z19_del = [0, 5]"
   ]
  },
  {
   "cell_type": "code",
   "execution_count": 109,
   "id": "71647329",
   "metadata": {},
   "outputs": [],
   "source": [
    "zoo = clean_zoo(zoo, 2019, z19_del)"
   ]
  },
  {
   "cell_type": "markdown",
   "id": "ac927331",
   "metadata": {},
   "source": [
    "## 2020"
   ]
  },
  {
   "cell_type": "code",
   "execution_count": 110,
   "id": "8f00c014",
   "metadata": {},
   "outputs": [
    {
     "data": {
      "text/plain": [
       "dict_keys([0, 1, 2, 3, 4, 5, 6, 7, 8, 9, 10, 11, 12, 13, 14, 15, 16, 17, 18, 19, 20, 21, 22, 23, 24, 25, 26, 27, 28, 29, 30, 31, 32, 33, 34, 35, 36])"
      ]
     },
     "execution_count": 110,
     "metadata": {},
     "output_type": "execute_result"
    }
   ],
   "source": [
    "zoo[2020].keys()"
   ]
  },
  {
   "cell_type": "code",
   "execution_count": 111,
   "id": "ee98043f",
   "metadata": {},
   "outputs": [],
   "source": [
    "del20 = [0, 5]"
   ]
  },
  {
   "cell_type": "code",
   "execution_count": 112,
   "id": "866da6f2",
   "metadata": {},
   "outputs": [],
   "source": [
    "zoo = clean_zoo(zoo, 2020, del20)"
   ]
  },
  {
   "cell_type": "markdown",
   "id": "66c1a466",
   "metadata": {},
   "source": [
    "## 2021"
   ]
  },
  {
   "cell_type": "code",
   "execution_count": 113,
   "id": "111acf50",
   "metadata": {},
   "outputs": [
    {
     "data": {
      "text/plain": [
       "dict_keys([0, 1, 2, 3, 4, 5, 6, 7, 8, 9, 10, 11, 12, 13, 14, 15, 16, 17, 18, 19, 20, 21, 22, 23, 24, 25, 26, 27, 28, 29, 30, 31, 32, 33, 34, 35, 36, 37, 38, 39])"
      ]
     },
     "execution_count": 113,
     "metadata": {},
     "output_type": "execute_result"
    }
   ],
   "source": [
    "zoo[2021].keys()"
   ]
  },
  {
   "cell_type": "code",
   "execution_count": 156,
   "id": "d2ec5d38",
   "metadata": {},
   "outputs": [],
   "source": [
    "del21 = [4]"
   ]
  },
  {
   "cell_type": "code",
   "execution_count": 157,
   "id": "61a941d6",
   "metadata": {},
   "outputs": [],
   "source": [
    "zoo = clean_zoo(zoo, 2021, del21)"
   ]
  },
  {
   "cell_type": "code",
   "execution_count": 158,
   "id": "8fb94d86",
   "metadata": {},
   "outputs": [],
   "source": [
    "tables_dict['Berlin']['ZooAquarium'] = zoo\n",
    "save_dict_pkl(tables_dict, tables_path)"
   ]
  },
  {
   "cell_type": "markdown",
   "id": "e1ef0225",
   "metadata": {},
   "source": [
    "# Tiergarten"
   ]
  },
  {
   "cell_type": "code",
   "execution_count": 159,
   "id": "83af4188",
   "metadata": {},
   "outputs": [
    {
     "data": {
      "text/plain": [
       "dict_keys([2017, 2018, 2019, 2020, 2021])"
      ]
     },
     "execution_count": 159,
     "metadata": {},
     "output_type": "execute_result"
    }
   ],
   "source": [
    "tg.keys()"
   ]
  },
  {
   "cell_type": "code",
   "execution_count": null,
   "id": "c703630f",
   "metadata": {},
   "outputs": [],
   "source": [
    "del17 = [3, 4, 5, 6]\n",
    "del18 = [0, 1, 2, 3,6,7]\n",
    "del19 = []\n",
    "del20 = []\n",
    "del21 = []"
   ]
  },
  {
   "cell_type": "code",
   "execution_count": 195,
   "id": "b3590def",
   "metadata": {},
   "outputs": [
    {
     "data": {
      "text/plain": [
       "60"
      ]
     },
     "execution_count": 195,
     "metadata": {},
     "output_type": "execute_result"
    }
   ],
   "source": [
    "len(tg[2018])"
   ]
  },
  {
   "cell_type": "code",
   "execution_count": 272,
   "id": "8c2876be",
   "metadata": {},
   "outputs": [
    {
     "data": {
      "text/html": [
       "<div>\n",
       "<style scoped>\n",
       "    .dataframe tbody tr th:only-of-type {\n",
       "        vertical-align: middle;\n",
       "    }\n",
       "\n",
       "    .dataframe tbody tr th {\n",
       "        vertical-align: top;\n",
       "    }\n",
       "\n",
       "    .dataframe thead th {\n",
       "        text-align: right;\n",
       "    }\n",
       "</style>\n",
       "<table border=\"1\" class=\"dataframe\">\n",
       "  <thead>\n",
       "    <tr style=\"text-align: right;\">\n",
       "      <th></th>\n",
       "      <th>0</th>\n",
       "      <th>1</th>\n",
       "      <th>2</th>\n",
       "      <th>3</th>\n",
       "      <th>4</th>\n",
       "      <th>5</th>\n",
       "      <th>6</th>\n",
       "      <th>7</th>\n",
       "    </tr>\n",
       "  </thead>\n",
       "  <tbody>\n",
       "    <tr>\n",
       "      <th>0</th>\n",
       "      <td></td>\n",
       "      <td>78.941,41</td>\n",
       "      <td>19.290,08</td>\n",
       "      <td>-6.379,00</td>\n",
       "      <td>0,00</td>\n",
       "      <td>91.852,49</td>\n",
       "      <td>73.381,00</td>\n",
       "      <td>44.821,00</td>\n",
       "    </tr>\n",
       "    <tr>\n",
       "      <th>1</th>\n",
       "      <td>II.  Sachanlagen\\n1. Grundstücke und Bauten \\n...</td>\n",
       "      <td>1.577.693,13\\n403.469,34\\n2.047.160,93\\n0,00</td>\n",
       "      <td>166.178,27\\n25.802,31\\n203.199,13\\n0,00</td>\n",
       "      <td>0,00\\n-24.062,65\\n-51.076,83\\n0,00</td>\n",
       "      <td>0,00\\n0,00\\n0,00\\n0,00</td>\n",
       "      <td>1.743.871,40\\n405.209,00\\n2.199.283,23\\n0,00</td>\n",
       "      <td>2.732.485,00\\n129.984,00\\n959.660,00\\n6.611.50...</td>\n",
       "      <td>2.535.542,00\\n123.318,00\\n838.222,05\\n2.102.13...</td>\n",
       "    </tr>\n",
       "  </tbody>\n",
       "</table>\n",
       "</div>"
      ],
      "text/plain": [
       "                                                   0  \\\n",
       "0                                                      \n",
       "1  II.  Sachanlagen\\n1. Grundstücke und Bauten \\n...   \n",
       "\n",
       "                                              1  \\\n",
       "0                                     78.941,41   \n",
       "1  1.577.693,13\\n403.469,34\\n2.047.160,93\\n0,00   \n",
       "\n",
       "                                         2  \\\n",
       "0                                19.290,08   \n",
       "1  166.178,27\\n25.802,31\\n203.199,13\\n0,00   \n",
       "\n",
       "                                    3                       4  \\\n",
       "0                           -6.379,00                    0,00   \n",
       "1  0,00\\n-24.062,65\\n-51.076,83\\n0,00  0,00\\n0,00\\n0,00\\n0,00   \n",
       "\n",
       "                                              5  \\\n",
       "0                                     91.852,49   \n",
       "1  1.743.871,40\\n405.209,00\\n2.199.283,23\\n0,00   \n",
       "\n",
       "                                                   6  \\\n",
       "0                                          73.381,00   \n",
       "1  2.732.485,00\\n129.984,00\\n959.660,00\\n6.611.50...   \n",
       "\n",
       "                                                   7  \n",
       "0                                          44.821,00  \n",
       "1  2.535.542,00\\n123.318,00\\n838.222,05\\n2.102.13...  "
      ]
     },
     "execution_count": 272,
     "metadata": {},
     "output_type": "execute_result"
    }
   ],
   "source": [
    "tg[2018][23]"
   ]
  }
 ],
 "metadata": {
  "kernelspec": {
   "display_name": "projects",
   "language": "python",
   "name": "python3"
  },
  "language_info": {
   "codemirror_mode": {
    "name": "ipython",
    "version": 3
   },
   "file_extension": ".py",
   "mimetype": "text/x-python",
   "name": "python",
   "nbconvert_exporter": "python",
   "pygments_lexer": "ipython3",
   "version": "3.12.8"
  }
 },
 "nbformat": 4,
 "nbformat_minor": 5
}
