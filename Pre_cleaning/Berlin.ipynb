{
 "cells": [
  {
   "cell_type": "markdown",
   "id": "e06e12ab",
   "metadata": {},
   "source": [
    "# Imports and data"
   ]
  },
  {
   "cell_type": "code",
   "execution_count": 1,
   "id": "c6140f56",
   "metadata": {},
   "outputs": [],
   "source": [
    "%run Imports.ipynb"
   ]
  },
  {
   "cell_type": "code",
   "execution_count": 2,
   "id": "fd419dce",
   "metadata": {},
   "outputs": [],
   "source": [
    "Berlin_dict = tables_dict['Berlin']\n",
    "Berlin_meta = meta_dict['Berlin']"
   ]
  },
  {
   "cell_type": "markdown",
   "id": "61ffed1f",
   "metadata": {},
   "source": [
    "# Overview"
   ]
  },
  {
   "cell_type": "code",
   "execution_count": 3,
   "id": "a8314fa7",
   "metadata": {},
   "outputs": [],
   "source": [
    "zoo = Berlin_dict['ZooAquarium']\n",
    "tg = Berlin_dict['Tiergarten']"
   ]
  },
  {
   "cell_type": "markdown",
   "id": "0ced86ea",
   "metadata": {},
   "source": [
    "# Zoo"
   ]
  },
  {
   "cell_type": "code",
   "execution_count": 11,
   "id": "f92b3630",
   "metadata": {},
   "outputs": [
    {
     "data": {
      "text/plain": [
       "dict_keys([2017, 2018, 2019, 2020, 2021])"
      ]
     },
     "execution_count": 11,
     "metadata": {},
     "output_type": "execute_result"
    }
   ],
   "source": [
    "zoo.keys()"
   ]
  },
  {
   "cell_type": "markdown",
   "id": "f53dd2f2",
   "metadata": {},
   "source": [
    "## 2017"
   ]
  },
  {
   "cell_type": "code",
   "execution_count": 4,
   "id": "08a41981",
   "metadata": {},
   "outputs": [],
   "source": [
    "dl_17 = [0, 1, 6]"
   ]
  },
  {
   "cell_type": "code",
   "execution_count": 5,
   "id": "8c594beb",
   "metadata": {},
   "outputs": [],
   "source": [
    "z17 = {}\n",
    "for i in range(len(zoo[2017])):\n",
    "    if i not in dl_17:\n",
    "        z17[i] = zoo[2017][i]"
   ]
  },
  {
   "cell_type": "code",
   "execution_count": 6,
   "id": "a0c0c444",
   "metadata": {},
   "outputs": [],
   "source": [
    "z17_updated = {}\n",
    "for i in range(len(z17)):\n",
    "    index = list(z17.keys())[i]\n",
    "    z17_updated[i] = z17[index]"
   ]
  },
  {
   "cell_type": "code",
   "execution_count": 7,
   "id": "35b7f03c",
   "metadata": {},
   "outputs": [
    {
     "data": {
      "text/plain": [
       "dict_keys([0, 1, 2, 3, 4, 5, 6, 7, 8, 9, 10, 11, 12, 13, 14, 15, 16, 17, 18, 19, 20, 21, 22, 23, 24, 25, 26, 27, 28, 29, 30, 31, 32, 33, 34, 35, 36, 37, 38, 39, 40, 41, 42, 43, 44, 45])"
      ]
     },
     "execution_count": 7,
     "metadata": {},
     "output_type": "execute_result"
    }
   ],
   "source": [
    "z17_updated.keys()"
   ]
  },
  {
   "cell_type": "code",
   "execution_count": 8,
   "id": "dc97c00f",
   "metadata": {},
   "outputs": [
    {
     "data": {
      "text/plain": [
       "46"
      ]
     },
     "execution_count": 8,
     "metadata": {},
     "output_type": "execute_result"
    }
   ],
   "source": [
    "len(z17_updated)"
   ]
  },
  {
   "cell_type": "code",
   "execution_count": 9,
   "id": "fb2b791c",
   "metadata": {},
   "outputs": [
    {
     "data": {
      "text/plain": [
       "49"
      ]
     },
     "execution_count": 9,
     "metadata": {},
     "output_type": "execute_result"
    }
   ],
   "source": [
    "len(zoo[2017])"
   ]
  },
  {
   "cell_type": "code",
   "execution_count": 10,
   "id": "18b40fbb",
   "metadata": {},
   "outputs": [],
   "source": [
    "zoo[2017] = z17_updated"
   ]
  },
  {
   "cell_type": "markdown",
   "id": "b7cb4465",
   "metadata": {},
   "source": [
    "## 2018"
   ]
  },
  {
   "cell_type": "code",
   "execution_count": 25,
   "id": "8ce6e8c8",
   "metadata": {},
   "outputs": [
    {
     "data": {
      "text/plain": [
       "47"
      ]
     },
     "execution_count": 25,
     "metadata": {},
     "output_type": "execute_result"
    }
   ],
   "source": [
    "len(zoo[2018])"
   ]
  },
  {
   "cell_type": "code",
   "execution_count": 60,
   "id": "102b847c",
   "metadata": {},
   "outputs": [
    {
     "data": {
      "text/html": [
       "<div>\n",
       "<style scoped>\n",
       "    .dataframe tbody tr th:only-of-type {\n",
       "        vertical-align: middle;\n",
       "    }\n",
       "\n",
       "    .dataframe tbody tr th {\n",
       "        vertical-align: top;\n",
       "    }\n",
       "\n",
       "    .dataframe thead th {\n",
       "        text-align: right;\n",
       "    }\n",
       "</style>\n",
       "<table border=\"1\" class=\"dataframe\">\n",
       "  <thead>\n",
       "    <tr style=\"text-align: right;\">\n",
       "      <th></th>\n",
       "      <th>0</th>\n",
       "      <th>1</th>\n",
       "      <th>2</th>\n",
       "      <th>3</th>\n",
       "      <th>4</th>\n",
       "      <th>5</th>\n",
       "      <th>6</th>\n",
       "      <th>7</th>\n",
       "      <th>8</th>\n",
       "      <th>9</th>\n",
       "      <th>...</th>\n",
       "      <th>11</th>\n",
       "      <th>12</th>\n",
       "      <th>13</th>\n",
       "      <th>14</th>\n",
       "      <th>15</th>\n",
       "      <th>16</th>\n",
       "      <th>17</th>\n",
       "      <th>18</th>\n",
       "      <th>19</th>\n",
       "      <th>20</th>\n",
       "    </tr>\n",
       "  </thead>\n",
       "  <tbody>\n",
       "    <tr>\n",
       "      <th>0</th>\n",
       "      <td>KNOCHENFISCHE</td>\n",
       "      <td>OSTEICHTHYES\\nArtenzahl\\n2017\\ngeboren\\nZugäng...</td>\n",
       "      <td></td>\n",
       "      <td></td>\n",
       "      <td></td>\n",
       "      <td></td>\n",
       "      <td></td>\n",
       "      <td></td>\n",
       "      <td></td>\n",
       "      <td></td>\n",
       "      <td>...</td>\n",
       "      <td></td>\n",
       "      <td></td>\n",
       "      <td></td>\n",
       "      <td></td>\n",
       "      <td></td>\n",
       "      <td></td>\n",
       "      <td></td>\n",
       "      <td></td>\n",
       "      <td></td>\n",
       "      <td></td>\n",
       "    </tr>\n",
       "    <tr>\n",
       "      <th>1</th>\n",
       "      <td></td>\n",
       "      <td></td>\n",
       "      <td></td>\n",
       "      <td>m</td>\n",
       "      <td>w</td>\n",
       "      <td>u</td>\n",
       "      <td>m</td>\n",
       "      <td>w</td>\n",
       "      <td>u</td>\n",
       "      <td>m</td>\n",
       "      <td>...</td>\n",
       "      <td>u</td>\n",
       "      <td>m</td>\n",
       "      <td>w</td>\n",
       "      <td>u</td>\n",
       "      <td>m</td>\n",
       "      <td>w</td>\n",
       "      <td>u</td>\n",
       "      <td>m</td>\n",
       "      <td>w</td>\n",
       "      <td>u</td>\n",
       "    </tr>\n",
       "    <tr>\n",
       "      <th>2</th>\n",
       "      <td>Flösselhechtartige</td>\n",
       "      <td>Polypteriformes</td>\n",
       "      <td>2</td>\n",
       "      <td>0</td>\n",
       "      <td>0</td>\n",
       "      <td>3</td>\n",
       "      <td>0</td>\n",
       "      <td>0</td>\n",
       "      <td>0</td>\n",
       "      <td>0</td>\n",
       "      <td>...</td>\n",
       "      <td>0</td>\n",
       "      <td>0</td>\n",
       "      <td>0</td>\n",
       "      <td>0</td>\n",
       "      <td>0</td>\n",
       "      <td>0</td>\n",
       "      <td>0</td>\n",
       "      <td>0</td>\n",
       "      <td>0</td>\n",
       "      <td>3</td>\n",
       "    </tr>\n",
       "    <tr>\n",
       "      <th>3</th>\n",
       "      <td>Störartige</td>\n",
       "      <td>Acipenseriformes</td>\n",
       "      <td>0</td>\n",
       "      <td>0</td>\n",
       "      <td>0</td>\n",
       "      <td>0</td>\n",
       "      <td>0</td>\n",
       "      <td>0</td>\n",
       "      <td>0</td>\n",
       "      <td>0</td>\n",
       "      <td>...</td>\n",
       "      <td>0</td>\n",
       "      <td>0</td>\n",
       "      <td>0</td>\n",
       "      <td>0</td>\n",
       "      <td>0</td>\n",
       "      <td>0</td>\n",
       "      <td>0</td>\n",
       "      <td>0</td>\n",
       "      <td>0</td>\n",
       "      <td>0</td>\n",
       "    </tr>\n",
       "    <tr>\n",
       "      <th>4</th>\n",
       "      <td>Knochenhechtartige</td>\n",
       "      <td>Lepisosteiformes</td>\n",
       "      <td>3</td>\n",
       "      <td>0</td>\n",
       "      <td>0</td>\n",
       "      <td>11</td>\n",
       "      <td>0</td>\n",
       "      <td>0</td>\n",
       "      <td>0</td>\n",
       "      <td>0</td>\n",
       "      <td>...</td>\n",
       "      <td>0</td>\n",
       "      <td>0</td>\n",
       "      <td>0</td>\n",
       "      <td>0</td>\n",
       "      <td>0</td>\n",
       "      <td>0</td>\n",
       "      <td>0</td>\n",
       "      <td>0</td>\n",
       "      <td>0</td>\n",
       "      <td>11</td>\n",
       "    </tr>\n",
       "    <tr>\n",
       "      <th>5</th>\n",
       "      <td>Tarpunartige</td>\n",
       "      <td>Elopiformes</td>\n",
       "      <td>1</td>\n",
       "      <td>0</td>\n",
       "      <td>0</td>\n",
       "      <td>9</td>\n",
       "      <td>0</td>\n",
       "      <td>0</td>\n",
       "      <td>0</td>\n",
       "      <td>0</td>\n",
       "      <td>...</td>\n",
       "      <td>0</td>\n",
       "      <td>0</td>\n",
       "      <td>0</td>\n",
       "      <td>0</td>\n",
       "      <td>0</td>\n",
       "      <td>0</td>\n",
       "      <td>0</td>\n",
       "      <td>0</td>\n",
       "      <td>0</td>\n",
       "      <td>9</td>\n",
       "    </tr>\n",
       "    <tr>\n",
       "      <th>6</th>\n",
       "      <td>Aalartige</td>\n",
       "      <td>Anguilliformes</td>\n",
       "      <td>6</td>\n",
       "      <td>0</td>\n",
       "      <td>0</td>\n",
       "      <td>52</td>\n",
       "      <td>0</td>\n",
       "      <td>0</td>\n",
       "      <td>0</td>\n",
       "      <td>0</td>\n",
       "      <td>...</td>\n",
       "      <td>9</td>\n",
       "      <td>0</td>\n",
       "      <td>0</td>\n",
       "      <td>50</td>\n",
       "      <td>0</td>\n",
       "      <td>0</td>\n",
       "      <td>0</td>\n",
       "      <td>0</td>\n",
       "      <td>0</td>\n",
       "      <td>11</td>\n",
       "    </tr>\n",
       "    <tr>\n",
       "      <th>7</th>\n",
       "      <td>Knochenzünglerartige</td>\n",
       "      <td>Osteoglossiformes</td>\n",
       "      <td>4</td>\n",
       "      <td>0</td>\n",
       "      <td>0</td>\n",
       "      <td>38</td>\n",
       "      <td>0</td>\n",
       "      <td>0</td>\n",
       "      <td>0</td>\n",
       "      <td>0</td>\n",
       "      <td>...</td>\n",
       "      <td>0</td>\n",
       "      <td>0</td>\n",
       "      <td>0</td>\n",
       "      <td>14</td>\n",
       "      <td>0</td>\n",
       "      <td>0</td>\n",
       "      <td>0</td>\n",
       "      <td>0</td>\n",
       "      <td>0</td>\n",
       "      <td>24</td>\n",
       "    </tr>\n",
       "    <tr>\n",
       "      <th>8</th>\n",
       "      <td>Hechtartige</td>\n",
       "      <td>Esociformes</td>\n",
       "      <td>1</td>\n",
       "      <td>0</td>\n",
       "      <td>0</td>\n",
       "      <td>0</td>\n",
       "      <td>0</td>\n",
       "      <td>0</td>\n",
       "      <td>0</td>\n",
       "      <td>0</td>\n",
       "      <td>...</td>\n",
       "      <td>1</td>\n",
       "      <td>0</td>\n",
       "      <td>0</td>\n",
       "      <td>0</td>\n",
       "      <td>0</td>\n",
       "      <td>0</td>\n",
       "      <td>0</td>\n",
       "      <td>0</td>\n",
       "      <td>0</td>\n",
       "      <td>1</td>\n",
       "    </tr>\n",
       "    <tr>\n",
       "      <th>9</th>\n",
       "      <td>Schildfischartige</td>\n",
       "      <td>Gobiesociformes</td>\n",
       "      <td>0</td>\n",
       "      <td>0</td>\n",
       "      <td>0</td>\n",
       "      <td>0</td>\n",
       "      <td>0</td>\n",
       "      <td>0</td>\n",
       "      <td>0</td>\n",
       "      <td>0</td>\n",
       "      <td>...</td>\n",
       "      <td>0</td>\n",
       "      <td>0</td>\n",
       "      <td>0</td>\n",
       "      <td>0</td>\n",
       "      <td>0</td>\n",
       "      <td>0</td>\n",
       "      <td>0</td>\n",
       "      <td>0</td>\n",
       "      <td>0</td>\n",
       "      <td>0</td>\n",
       "    </tr>\n",
       "    <tr>\n",
       "      <th>10</th>\n",
       "      <td>Salmlerartige</td>\n",
       "      <td>Characiformes</td>\n",
       "      <td>40</td>\n",
       "      <td>0</td>\n",
       "      <td>0</td>\n",
       "      <td>1025</td>\n",
       "      <td>0</td>\n",
       "      <td>0</td>\n",
       "      <td>0</td>\n",
       "      <td>0</td>\n",
       "      <td>...</td>\n",
       "      <td>340</td>\n",
       "      <td>0</td>\n",
       "      <td>0</td>\n",
       "      <td>407</td>\n",
       "      <td>0</td>\n",
       "      <td>0</td>\n",
       "      <td>0</td>\n",
       "      <td>0</td>\n",
       "      <td>0</td>\n",
       "      <td>958</td>\n",
       "    </tr>\n",
       "    <tr>\n",
       "      <th>11</th>\n",
       "      <td>Karpfenfischartige</td>\n",
       "      <td>Cypriniformes</td>\n",
       "      <td>27</td>\n",
       "      <td>0</td>\n",
       "      <td>0</td>\n",
       "      <td>709</td>\n",
       "      <td>0</td>\n",
       "      <td>0</td>\n",
       "      <td>0</td>\n",
       "      <td>0</td>\n",
       "      <td>...</td>\n",
       "      <td>422</td>\n",
       "      <td>0</td>\n",
       "      <td>0</td>\n",
       "      <td>531</td>\n",
       "      <td>0</td>\n",
       "      <td>0</td>\n",
       "      <td>77</td>\n",
       "      <td>0</td>\n",
       "      <td>0</td>\n",
       "      <td>523</td>\n",
       "    </tr>\n",
       "    <tr>\n",
       "      <th>12</th>\n",
       "      <td>Neuwelt-Messerfische</td>\n",
       "      <td>Gymnotiformes</td>\n",
       "      <td>1</td>\n",
       "      <td>0</td>\n",
       "      <td>0</td>\n",
       "      <td>1</td>\n",
       "      <td>0</td>\n",
       "      <td>0</td>\n",
       "      <td>0</td>\n",
       "      <td>0</td>\n",
       "      <td>...</td>\n",
       "      <td>0</td>\n",
       "      <td>0</td>\n",
       "      <td>0</td>\n",
       "      <td>0</td>\n",
       "      <td>0</td>\n",
       "      <td>0</td>\n",
       "      <td>0</td>\n",
       "      <td>0</td>\n",
       "      <td>0</td>\n",
       "      <td>1</td>\n",
       "    </tr>\n",
       "    <tr>\n",
       "      <th>13</th>\n",
       "      <td>Welse</td>\n",
       "      <td>Siluriformes</td>\n",
       "      <td>71</td>\n",
       "      <td>0</td>\n",
       "      <td>0</td>\n",
       "      <td>646</td>\n",
       "      <td>0</td>\n",
       "      <td>0</td>\n",
       "      <td>20</td>\n",
       "      <td>0</td>\n",
       "      <td>...</td>\n",
       "      <td>8</td>\n",
       "      <td>0</td>\n",
       "      <td>0</td>\n",
       "      <td>222</td>\n",
       "      <td>0</td>\n",
       "      <td>0</td>\n",
       "      <td>10</td>\n",
       "      <td>0</td>\n",
       "      <td>0</td>\n",
       "      <td>442</td>\n",
       "    </tr>\n",
       "    <tr>\n",
       "      <th>14</th>\n",
       "      <td>Froschfische</td>\n",
       "      <td>Batrachoidiformes</td>\n",
       "      <td>0</td>\n",
       "      <td>0</td>\n",
       "      <td>0</td>\n",
       "      <td>1</td>\n",
       "      <td>0</td>\n",
       "      <td>0</td>\n",
       "      <td>0</td>\n",
       "      <td>0</td>\n",
       "      <td>...</td>\n",
       "      <td>0</td>\n",
       "      <td>0</td>\n",
       "      <td>0</td>\n",
       "      <td>1</td>\n",
       "      <td>0</td>\n",
       "      <td>0</td>\n",
       "      <td>0</td>\n",
       "      <td>0</td>\n",
       "      <td>0</td>\n",
       "      <td>0</td>\n",
       "    </tr>\n",
       "  </tbody>\n",
       "</table>\n",
       "<p>15 rows × 21 columns</p>\n",
       "</div>"
      ],
      "text/plain": [
       "                      0                                                  1   \\\n",
       "0          KNOCHENFISCHE  OSTEICHTHYES\\nArtenzahl\\n2017\\ngeboren\\nZugäng...   \n",
       "1                                                                             \n",
       "2     Flösselhechtartige                                    Polypteriformes   \n",
       "3             Störartige                                   Acipenseriformes   \n",
       "4     Knochenhechtartige                                   Lepisosteiformes   \n",
       "5           Tarpunartige                                        Elopiformes   \n",
       "6              Aalartige                                     Anguilliformes   \n",
       "7   Knochenzünglerartige                                  Osteoglossiformes   \n",
       "8            Hechtartige                                        Esociformes   \n",
       "9      Schildfischartige                                    Gobiesociformes   \n",
       "10         Salmlerartige                                      Characiformes   \n",
       "11    Karpfenfischartige                                      Cypriniformes   \n",
       "12  Neuwelt-Messerfische                                      Gymnotiformes   \n",
       "13                 Welse                                       Siluriformes   \n",
       "14          Froschfische                                  Batrachoidiformes   \n",
       "\n",
       "    2  3  4     5  6  7   8  9   ...   11 12 13   14 15 16  17 18 19   20  \n",
       "0                                ...                                       \n",
       "1       m  w     u  m  w   u  m  ...    u  m  w    u  m  w   u  m  w    u  \n",
       "2    2  0  0     3  0  0   0  0  ...    0  0  0    0  0  0   0  0  0    3  \n",
       "3    0  0  0     0  0  0   0  0  ...    0  0  0    0  0  0   0  0  0    0  \n",
       "4    3  0  0    11  0  0   0  0  ...    0  0  0    0  0  0   0  0  0   11  \n",
       "5    1  0  0     9  0  0   0  0  ...    0  0  0    0  0  0   0  0  0    9  \n",
       "6    6  0  0    52  0  0   0  0  ...    9  0  0   50  0  0   0  0  0   11  \n",
       "7    4  0  0    38  0  0   0  0  ...    0  0  0   14  0  0   0  0  0   24  \n",
       "8    1  0  0     0  0  0   0  0  ...    1  0  0    0  0  0   0  0  0    1  \n",
       "9    0  0  0     0  0  0   0  0  ...    0  0  0    0  0  0   0  0  0    0  \n",
       "10  40  0  0  1025  0  0   0  0  ...  340  0  0  407  0  0   0  0  0  958  \n",
       "11  27  0  0   709  0  0   0  0  ...  422  0  0  531  0  0  77  0  0  523  \n",
       "12   1  0  0     1  0  0   0  0  ...    0  0  0    0  0  0   0  0  0    1  \n",
       "13  71  0  0   646  0  0  20  0  ...    8  0  0  222  0  0  10  0  0  442  \n",
       "14   0  0  0     1  0  0   0  0  ...    0  0  0    1  0  0   0  0  0    0  \n",
       "\n",
       "[15 rows x 21 columns]"
      ]
     },
     "execution_count": 60,
     "metadata": {},
     "output_type": "execute_result"
    }
   ],
   "source": [
    "zoo[2018][46]"
   ]
  },
  {
   "cell_type": "markdown",
   "id": "728d4f3d",
   "metadata": {},
   "source": [
    "## 2019"
   ]
  },
  {
   "cell_type": "code",
   "execution_count": 61,
   "id": "99bc5fe8",
   "metadata": {},
   "outputs": [
    {
     "data": {
      "text/plain": [
       "43"
      ]
     },
     "execution_count": 61,
     "metadata": {},
     "output_type": "execute_result"
    }
   ],
   "source": [
    "len(zoo[2019])"
   ]
  },
  {
   "cell_type": "code",
   "execution_count": null,
   "id": "9ffc1e0e",
   "metadata": {},
   "outputs": [],
   "source": [
    "0, 5,"
   ]
  },
  {
   "cell_type": "code",
   "execution_count": 82,
   "id": "6ab03959",
   "metadata": {},
   "outputs": [
    {
     "data": {
      "text/html": [
       "<div>\n",
       "<style scoped>\n",
       "    .dataframe tbody tr th:only-of-type {\n",
       "        vertical-align: middle;\n",
       "    }\n",
       "\n",
       "    .dataframe tbody tr th {\n",
       "        vertical-align: top;\n",
       "    }\n",
       "\n",
       "    .dataframe thead th {\n",
       "        text-align: right;\n",
       "    }\n",
       "</style>\n",
       "<table border=\"1\" class=\"dataframe\">\n",
       "  <thead>\n",
       "    <tr style=\"text-align: right;\">\n",
       "      <th></th>\n",
       "      <th>0</th>\n",
       "      <th>1</th>\n",
       "      <th>2</th>\n",
       "      <th>3</th>\n",
       "      <th>4</th>\n",
       "      <th>5</th>\n",
       "      <th>6</th>\n",
       "      <th>7</th>\n",
       "    </tr>\n",
       "  </thead>\n",
       "  <tbody>\n",
       "    <tr>\n",
       "      <th>0</th>\n",
       "      <td></td>\n",
       "      <td>16.703.583,61</td>\n",
       "      <td>2.447.455,29</td>\n",
       "      <td>146.681,92</td>\n",
       "      <td>19.004.356,98</td>\n",
       "      <td>51.559.844,31</td>\n",
       "      <td>46.713.663,41</td>\n",
       "      <td></td>\n",
       "    </tr>\n",
       "    <tr>\n",
       "      <th>1</th>\n",
       "      <td>III.  Finanzanlagen\\n1. Ausleihungen an ver- \\...</td>\n",
       "      <td>0,00\\n0,00\\n0,00</td>\n",
       "      <td>0,00\\n0,00\\n0,00</td>\n",
       "      <td>0,00\\n0,00\\n0,00</td>\n",
       "      <td>0,00\\n0,00\\n0,00</td>\n",
       "      <td>1.755.608,92\\n15.227.695,76\\n1.120,00</td>\n",
       "      <td>1.755.608,92\\n11.449.068,19\\n1.120,00</td>\n",
       "      <td></td>\n",
       "    </tr>\n",
       "  </tbody>\n",
       "</table>\n",
       "</div>"
      ],
      "text/plain": [
       "                                                   0                 1  \\\n",
       "0                                                        16.703.583,61   \n",
       "1  III.  Finanzanlagen\\n1. Ausleihungen an ver- \\...  0,00\\n0,00\\n0,00   \n",
       "\n",
       "                  2                 3                 4  \\\n",
       "0      2.447.455,29        146.681,92     19.004.356,98   \n",
       "1  0,00\\n0,00\\n0,00  0,00\\n0,00\\n0,00  0,00\\n0,00\\n0,00   \n",
       "\n",
       "                                       5  \\\n",
       "0                          51.559.844,31   \n",
       "1  1.755.608,92\\n15.227.695,76\\n1.120,00   \n",
       "\n",
       "                                       6 7  \n",
       "0                          46.713.663,41    \n",
       "1  1.755.608,92\\n11.449.068,19\\n1.120,00    "
      ]
     },
     "execution_count": 82,
     "metadata": {},
     "output_type": "execute_result"
    }
   ],
   "source": [
    "zoo[2019][20]"
   ]
  }
 ],
 "metadata": {
  "kernelspec": {
   "display_name": "projects",
   "language": "python",
   "name": "python3"
  },
  "language_info": {
   "codemirror_mode": {
    "name": "ipython",
    "version": 3
   },
   "file_extension": ".py",
   "mimetype": "text/x-python",
   "name": "python",
   "nbconvert_exporter": "python",
   "pygments_lexer": "ipython3",
   "version": "3.12.8"
  }
 },
 "nbformat": 4,
 "nbformat_minor": 5
}
