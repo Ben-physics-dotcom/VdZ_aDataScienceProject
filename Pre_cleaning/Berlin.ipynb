{
 "cells": [
  {
   "cell_type": "markdown",
   "id": "e06e12ab",
   "metadata": {},
   "source": [
    "# Imports and data"
   ]
  },
  {
   "cell_type": "code",
   "execution_count": 1,
   "id": "c6140f56",
   "metadata": {},
   "outputs": [],
   "source": [
    "%run Imports.ipynb"
   ]
  },
  {
   "cell_type": "code",
   "execution_count": 2,
   "id": "fd419dce",
   "metadata": {},
   "outputs": [],
   "source": [
    "Berlin_dict = tables_dict['Berlin']\n",
    "Berlin_meta = meta_dict['Berlin']"
   ]
  },
  {
   "cell_type": "markdown",
   "id": "61ffed1f",
   "metadata": {},
   "source": [
    "# Overview"
   ]
  },
  {
   "cell_type": "code",
   "execution_count": 5,
   "id": "a8314fa7",
   "metadata": {},
   "outputs": [],
   "source": [
    "zoo = Berlin_dict['ZooAquarium']\n",
    "tg = Berlin_dict['Tiergarten']"
   ]
  },
  {
   "cell_type": "markdown",
   "id": "f53dd2f2",
   "metadata": {},
   "source": [
    "# 2017"
   ]
  },
  {
   "cell_type": "code",
   "execution_count": 67,
   "id": "08a41981",
   "metadata": {},
   "outputs": [],
   "source": [
    "dl_17 = [0, 1, 6]"
   ]
  },
  {
   "cell_type": "code",
   "execution_count": 68,
   "id": "8c594beb",
   "metadata": {},
   "outputs": [],
   "source": [
    "z17 = {}\n",
    "for i in range(len(zoo[2017])):\n",
    "    if i not in dl_17:\n",
    "        z17[i] = zoo[2017][i]"
   ]
  },
  {
   "cell_type": "code",
   "execution_count": 69,
   "id": "a0c0c444",
   "metadata": {},
   "outputs": [],
   "source": [
    "z17_updated = {}\n",
    "for i in range(len(z17)):\n",
    "    index = list(z17.keys())[i]\n",
    "    z17_updated[i] = z17[index]"
   ]
  },
  {
   "cell_type": "code",
   "execution_count": 70,
   "id": "35b7f03c",
   "metadata": {},
   "outputs": [
    {
     "data": {
      "text/plain": [
       "dict_keys([0, 1, 2, 3, 4, 5, 6, 7, 8, 9, 10, 11, 12, 13, 14, 15, 16, 17, 18, 19, 20, 21, 22, 23, 24, 25, 26, 27, 28, 29, 30, 31, 32, 33, 34, 35, 36, 37, 38, 39, 40, 41, 42, 43, 44, 45])"
      ]
     },
     "execution_count": 70,
     "metadata": {},
     "output_type": "execute_result"
    }
   ],
   "source": [
    "z17_updated.keys()"
   ]
  },
  {
   "cell_type": "code",
   "execution_count": 71,
   "id": "dc97c00f",
   "metadata": {},
   "outputs": [
    {
     "data": {
      "text/plain": [
       "46"
      ]
     },
     "execution_count": 71,
     "metadata": {},
     "output_type": "execute_result"
    }
   ],
   "source": [
    "len(z17_updated)"
   ]
  },
  {
   "cell_type": "code",
   "execution_count": 72,
   "id": "fb2b791c",
   "metadata": {},
   "outputs": [
    {
     "data": {
      "text/plain": [
       "49"
      ]
     },
     "execution_count": 72,
     "metadata": {},
     "output_type": "execute_result"
    }
   ],
   "source": [
    "len(zoo[2017])"
   ]
  },
  {
   "cell_type": "code",
   "execution_count": 73,
   "id": "18b40fbb",
   "metadata": {},
   "outputs": [],
   "source": [
    "zoo[2017] = z17_updated"
   ]
  },
  {
   "cell_type": "code",
   "execution_count": null,
   "id": "99bc5fe8",
   "metadata": {},
   "outputs": [],
   "source": []
  }
 ],
 "metadata": {
  "kernelspec": {
   "display_name": "projects",
   "language": "python",
   "name": "python3"
  },
  "language_info": {
   "codemirror_mode": {
    "name": "ipython",
    "version": 3
   },
   "file_extension": ".py",
   "mimetype": "text/x-python",
   "name": "python",
   "nbconvert_exporter": "python",
   "pygments_lexer": "ipython3",
   "version": "3.12.8"
  }
 },
 "nbformat": 4,
 "nbformat_minor": 5
}
