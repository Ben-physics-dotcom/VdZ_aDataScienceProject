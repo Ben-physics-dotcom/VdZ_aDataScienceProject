{
 "cells": [
  {
   "cell_type": "markdown",
   "id": "0a5ad04a",
   "metadata": {},
   "source": [
    "The goal is to drop out failed readed tables."
   ]
  },
  {
   "cell_type": "markdown",
   "id": "e06e12ab",
   "metadata": {},
   "source": [
    "# Imports and data"
   ]
  },
  {
   "cell_type": "code",
   "execution_count": 22,
   "id": "c6140f56",
   "metadata": {},
   "outputs": [],
   "source": [
    "%run Imports.ipynb"
   ]
  },
  {
   "cell_type": "code",
   "execution_count": 23,
   "id": "fd419dce",
   "metadata": {},
   "outputs": [],
   "source": [
    "Berlin_dict = tables_dict['Berlin']\n",
    "Berlin_meta = meta_dict['Berlin']"
   ]
  },
  {
   "cell_type": "markdown",
   "id": "61ffed1f",
   "metadata": {},
   "source": [
    "# Overview"
   ]
  },
  {
   "cell_type": "code",
   "execution_count": 24,
   "id": "a8314fa7",
   "metadata": {},
   "outputs": [],
   "source": [
    "zoo = Berlin_dict['ZooAquarium']\n",
    "tg = Berlin_dict['Tiergarten']"
   ]
  },
  {
   "cell_type": "code",
   "execution_count": 25,
   "id": "41dd199f",
   "metadata": {},
   "outputs": [
    {
     "name": "stdout",
     "output_type": "stream",
     "text": [
      "dict_keys([2017, 2018, 2019, 2020, 2021])\n"
     ]
    }
   ],
   "source": [
    "print(zoo.keys())"
   ]
  },
  {
   "cell_type": "code",
   "execution_count": 48,
   "id": "6e11d489",
   "metadata": {},
   "outputs": [
    {
     "data": {
      "text/plain": [
       "42"
      ]
     },
     "execution_count": 48,
     "metadata": {},
     "output_type": "execute_result"
    }
   ],
   "source": [
    "len(tg[2017])"
   ]
  },
  {
   "cell_type": "code",
   "execution_count": 49,
   "id": "6a8b93fa",
   "metadata": {},
   "outputs": [
    {
     "data": {
      "text/plain": [
       "42"
      ]
     },
     "execution_count": 49,
     "metadata": {},
     "output_type": "execute_result"
    }
   ],
   "source": [
    "len(zoo[2017])"
   ]
  },
  {
   "cell_type": "code",
   "execution_count": 50,
   "id": "de2b1eab",
   "metadata": {},
   "outputs": [
    {
     "name": "stdout",
     "output_type": "stream",
     "text": [
      "2017: 42 entries in Tiergarten\n",
      "2017: 42 entries in ZooAquarium\n",
      "2018: 32 entries in Tiergarten\n",
      "2018: 32 entries in ZooAquarium\n",
      "2019: 32 entries in Tiergarten\n",
      "2019: 32 entries in ZooAquarium\n",
      "2020: 27 entries in Tiergarten\n",
      "2020: 27 entries in ZooAquarium\n",
      "2021: 25 entries in Tiergarten\n",
      "2021: 25 entries in ZooAquarium\n"
     ]
    }
   ],
   "source": [
    "for year in [2017, 2018, 2019, 2020, 2021]:\n",
    "    print(f\"{year}: {len(tg[year])} entries in Tiergarten\")\n",
    "    print(f\"{year}: {len(zoo[year])} entries in ZooAquarium\")"
   ]
  },
  {
   "cell_type": "markdown",
   "id": "0ced86ea",
   "metadata": {},
   "source": [
    "# Zoo"
   ]
  },
  {
   "cell_type": "code",
   "execution_count": 5,
   "id": "f92b3630",
   "metadata": {},
   "outputs": [
    {
     "data": {
      "text/plain": [
       "dict_keys([2017, 2018, 2019, 2020, 2021])"
      ]
     },
     "execution_count": 5,
     "metadata": {},
     "output_type": "execute_result"
    }
   ],
   "source": [
    "zoo.keys()"
   ]
  },
  {
   "cell_type": "code",
   "execution_count": 6,
   "id": "16c88061",
   "metadata": {},
   "outputs": [],
   "source": [
    "def clean_zoo(zoo: dict, year: int, del_list: list) -> dict:\n",
    "    z_clean = {}\n",
    "    for i in range(len(zoo[year])):\n",
    "        if i not in del_list:\n",
    "            z_clean[i] = zoo[year][i]\n",
    "\n",
    "    updated = {}\n",
    "    for i in range(len(z_clean)):\n",
    "        index = list(z_clean.keys())[i]\n",
    "        updated[i] = z_clean[index]\n",
    "    zoo[year] = updated\n",
    "    return zoo"
   ]
  },
  {
   "cell_type": "markdown",
   "id": "f53dd2f2",
   "metadata": {},
   "source": [
    "## 2017"
   ]
  },
  {
   "cell_type": "code",
   "execution_count": 7,
   "id": "08a41981",
   "metadata": {},
   "outputs": [],
   "source": [
    "dl_17 = [0, 1, 6]"
   ]
  },
  {
   "cell_type": "code",
   "execution_count": 8,
   "id": "468c1b0a",
   "metadata": {},
   "outputs": [],
   "source": [
    "zoo = clean_zoo(zoo, 2017, dl_17)"
   ]
  },
  {
   "cell_type": "markdown",
   "id": "b7cb4465",
   "metadata": {},
   "source": [
    "## 2018"
   ]
  },
  {
   "cell_type": "code",
   "execution_count": 9,
   "id": "8ce6e8c8",
   "metadata": {},
   "outputs": [
    {
     "data": {
      "text/plain": [
       "47"
      ]
     },
     "execution_count": 9,
     "metadata": {},
     "output_type": "execute_result"
    }
   ],
   "source": [
    "len(zoo[2018])"
   ]
  },
  {
   "cell_type": "code",
   "execution_count": 10,
   "id": "102b847c",
   "metadata": {},
   "outputs": [
    {
     "data": {
      "text/html": [
       "<div>\n",
       "<style scoped>\n",
       "    .dataframe tbody tr th:only-of-type {\n",
       "        vertical-align: middle;\n",
       "    }\n",
       "\n",
       "    .dataframe tbody tr th {\n",
       "        vertical-align: top;\n",
       "    }\n",
       "\n",
       "    .dataframe thead th {\n",
       "        text-align: right;\n",
       "    }\n",
       "</style>\n",
       "<table border=\"1\" class=\"dataframe\">\n",
       "  <thead>\n",
       "    <tr style=\"text-align: right;\">\n",
       "      <th></th>\n",
       "      <th>0</th>\n",
       "      <th>1</th>\n",
       "      <th>2</th>\n",
       "      <th>3</th>\n",
       "      <th>4</th>\n",
       "      <th>5</th>\n",
       "      <th>6</th>\n",
       "      <th>7</th>\n",
       "      <th>8</th>\n",
       "      <th>9</th>\n",
       "      <th>...</th>\n",
       "      <th>11</th>\n",
       "      <th>12</th>\n",
       "      <th>13</th>\n",
       "      <th>14</th>\n",
       "      <th>15</th>\n",
       "      <th>16</th>\n",
       "      <th>17</th>\n",
       "      <th>18</th>\n",
       "      <th>19</th>\n",
       "      <th>20</th>\n",
       "    </tr>\n",
       "  </thead>\n",
       "  <tbody>\n",
       "    <tr>\n",
       "      <th>0</th>\n",
       "      <td>KNOCHENFISCHE</td>\n",
       "      <td>OSTEICHTHYES\\nArtenzahl\\n2017\\ngeboren\\nZugäng...</td>\n",
       "      <td></td>\n",
       "      <td></td>\n",
       "      <td></td>\n",
       "      <td></td>\n",
       "      <td></td>\n",
       "      <td></td>\n",
       "      <td></td>\n",
       "      <td></td>\n",
       "      <td>...</td>\n",
       "      <td></td>\n",
       "      <td></td>\n",
       "      <td></td>\n",
       "      <td></td>\n",
       "      <td></td>\n",
       "      <td></td>\n",
       "      <td></td>\n",
       "      <td></td>\n",
       "      <td></td>\n",
       "      <td></td>\n",
       "    </tr>\n",
       "    <tr>\n",
       "      <th>1</th>\n",
       "      <td></td>\n",
       "      <td></td>\n",
       "      <td></td>\n",
       "      <td>m</td>\n",
       "      <td>w</td>\n",
       "      <td>u</td>\n",
       "      <td>m</td>\n",
       "      <td>w</td>\n",
       "      <td>u</td>\n",
       "      <td>m</td>\n",
       "      <td>...</td>\n",
       "      <td>u</td>\n",
       "      <td>m</td>\n",
       "      <td>w</td>\n",
       "      <td>u</td>\n",
       "      <td>m</td>\n",
       "      <td>w</td>\n",
       "      <td>u</td>\n",
       "      <td>m</td>\n",
       "      <td>w</td>\n",
       "      <td>u</td>\n",
       "    </tr>\n",
       "    <tr>\n",
       "      <th>2</th>\n",
       "      <td>Flösselhechtartige</td>\n",
       "      <td>Polypteriformes</td>\n",
       "      <td>2</td>\n",
       "      <td>0</td>\n",
       "      <td>0</td>\n",
       "      <td>3</td>\n",
       "      <td>0</td>\n",
       "      <td>0</td>\n",
       "      <td>0</td>\n",
       "      <td>0</td>\n",
       "      <td>...</td>\n",
       "      <td>0</td>\n",
       "      <td>0</td>\n",
       "      <td>0</td>\n",
       "      <td>0</td>\n",
       "      <td>0</td>\n",
       "      <td>0</td>\n",
       "      <td>0</td>\n",
       "      <td>0</td>\n",
       "      <td>0</td>\n",
       "      <td>3</td>\n",
       "    </tr>\n",
       "    <tr>\n",
       "      <th>3</th>\n",
       "      <td>Störartige</td>\n",
       "      <td>Acipenseriformes</td>\n",
       "      <td>0</td>\n",
       "      <td>0</td>\n",
       "      <td>0</td>\n",
       "      <td>0</td>\n",
       "      <td>0</td>\n",
       "      <td>0</td>\n",
       "      <td>0</td>\n",
       "      <td>0</td>\n",
       "      <td>...</td>\n",
       "      <td>0</td>\n",
       "      <td>0</td>\n",
       "      <td>0</td>\n",
       "      <td>0</td>\n",
       "      <td>0</td>\n",
       "      <td>0</td>\n",
       "      <td>0</td>\n",
       "      <td>0</td>\n",
       "      <td>0</td>\n",
       "      <td>0</td>\n",
       "    </tr>\n",
       "    <tr>\n",
       "      <th>4</th>\n",
       "      <td>Knochenhechtartige</td>\n",
       "      <td>Lepisosteiformes</td>\n",
       "      <td>3</td>\n",
       "      <td>0</td>\n",
       "      <td>0</td>\n",
       "      <td>11</td>\n",
       "      <td>0</td>\n",
       "      <td>0</td>\n",
       "      <td>0</td>\n",
       "      <td>0</td>\n",
       "      <td>...</td>\n",
       "      <td>0</td>\n",
       "      <td>0</td>\n",
       "      <td>0</td>\n",
       "      <td>0</td>\n",
       "      <td>0</td>\n",
       "      <td>0</td>\n",
       "      <td>0</td>\n",
       "      <td>0</td>\n",
       "      <td>0</td>\n",
       "      <td>11</td>\n",
       "    </tr>\n",
       "    <tr>\n",
       "      <th>5</th>\n",
       "      <td>Tarpunartige</td>\n",
       "      <td>Elopiformes</td>\n",
       "      <td>1</td>\n",
       "      <td>0</td>\n",
       "      <td>0</td>\n",
       "      <td>9</td>\n",
       "      <td>0</td>\n",
       "      <td>0</td>\n",
       "      <td>0</td>\n",
       "      <td>0</td>\n",
       "      <td>...</td>\n",
       "      <td>0</td>\n",
       "      <td>0</td>\n",
       "      <td>0</td>\n",
       "      <td>0</td>\n",
       "      <td>0</td>\n",
       "      <td>0</td>\n",
       "      <td>0</td>\n",
       "      <td>0</td>\n",
       "      <td>0</td>\n",
       "      <td>9</td>\n",
       "    </tr>\n",
       "    <tr>\n",
       "      <th>6</th>\n",
       "      <td>Aalartige</td>\n",
       "      <td>Anguilliformes</td>\n",
       "      <td>6</td>\n",
       "      <td>0</td>\n",
       "      <td>0</td>\n",
       "      <td>52</td>\n",
       "      <td>0</td>\n",
       "      <td>0</td>\n",
       "      <td>0</td>\n",
       "      <td>0</td>\n",
       "      <td>...</td>\n",
       "      <td>9</td>\n",
       "      <td>0</td>\n",
       "      <td>0</td>\n",
       "      <td>50</td>\n",
       "      <td>0</td>\n",
       "      <td>0</td>\n",
       "      <td>0</td>\n",
       "      <td>0</td>\n",
       "      <td>0</td>\n",
       "      <td>11</td>\n",
       "    </tr>\n",
       "    <tr>\n",
       "      <th>7</th>\n",
       "      <td>Knochenzünglerartige</td>\n",
       "      <td>Osteoglossiformes</td>\n",
       "      <td>4</td>\n",
       "      <td>0</td>\n",
       "      <td>0</td>\n",
       "      <td>38</td>\n",
       "      <td>0</td>\n",
       "      <td>0</td>\n",
       "      <td>0</td>\n",
       "      <td>0</td>\n",
       "      <td>...</td>\n",
       "      <td>0</td>\n",
       "      <td>0</td>\n",
       "      <td>0</td>\n",
       "      <td>14</td>\n",
       "      <td>0</td>\n",
       "      <td>0</td>\n",
       "      <td>0</td>\n",
       "      <td>0</td>\n",
       "      <td>0</td>\n",
       "      <td>24</td>\n",
       "    </tr>\n",
       "    <tr>\n",
       "      <th>8</th>\n",
       "      <td>Hechtartige</td>\n",
       "      <td>Esociformes</td>\n",
       "      <td>1</td>\n",
       "      <td>0</td>\n",
       "      <td>0</td>\n",
       "      <td>0</td>\n",
       "      <td>0</td>\n",
       "      <td>0</td>\n",
       "      <td>0</td>\n",
       "      <td>0</td>\n",
       "      <td>...</td>\n",
       "      <td>1</td>\n",
       "      <td>0</td>\n",
       "      <td>0</td>\n",
       "      <td>0</td>\n",
       "      <td>0</td>\n",
       "      <td>0</td>\n",
       "      <td>0</td>\n",
       "      <td>0</td>\n",
       "      <td>0</td>\n",
       "      <td>1</td>\n",
       "    </tr>\n",
       "    <tr>\n",
       "      <th>9</th>\n",
       "      <td>Schildfischartige</td>\n",
       "      <td>Gobiesociformes</td>\n",
       "      <td>0</td>\n",
       "      <td>0</td>\n",
       "      <td>0</td>\n",
       "      <td>0</td>\n",
       "      <td>0</td>\n",
       "      <td>0</td>\n",
       "      <td>0</td>\n",
       "      <td>0</td>\n",
       "      <td>...</td>\n",
       "      <td>0</td>\n",
       "      <td>0</td>\n",
       "      <td>0</td>\n",
       "      <td>0</td>\n",
       "      <td>0</td>\n",
       "      <td>0</td>\n",
       "      <td>0</td>\n",
       "      <td>0</td>\n",
       "      <td>0</td>\n",
       "      <td>0</td>\n",
       "    </tr>\n",
       "    <tr>\n",
       "      <th>10</th>\n",
       "      <td>Salmlerartige</td>\n",
       "      <td>Characiformes</td>\n",
       "      <td>40</td>\n",
       "      <td>0</td>\n",
       "      <td>0</td>\n",
       "      <td>1025</td>\n",
       "      <td>0</td>\n",
       "      <td>0</td>\n",
       "      <td>0</td>\n",
       "      <td>0</td>\n",
       "      <td>...</td>\n",
       "      <td>340</td>\n",
       "      <td>0</td>\n",
       "      <td>0</td>\n",
       "      <td>407</td>\n",
       "      <td>0</td>\n",
       "      <td>0</td>\n",
       "      <td>0</td>\n",
       "      <td>0</td>\n",
       "      <td>0</td>\n",
       "      <td>958</td>\n",
       "    </tr>\n",
       "    <tr>\n",
       "      <th>11</th>\n",
       "      <td>Karpfenfischartige</td>\n",
       "      <td>Cypriniformes</td>\n",
       "      <td>27</td>\n",
       "      <td>0</td>\n",
       "      <td>0</td>\n",
       "      <td>709</td>\n",
       "      <td>0</td>\n",
       "      <td>0</td>\n",
       "      <td>0</td>\n",
       "      <td>0</td>\n",
       "      <td>...</td>\n",
       "      <td>422</td>\n",
       "      <td>0</td>\n",
       "      <td>0</td>\n",
       "      <td>531</td>\n",
       "      <td>0</td>\n",
       "      <td>0</td>\n",
       "      <td>77</td>\n",
       "      <td>0</td>\n",
       "      <td>0</td>\n",
       "      <td>523</td>\n",
       "    </tr>\n",
       "    <tr>\n",
       "      <th>12</th>\n",
       "      <td>Neuwelt-Messerfische</td>\n",
       "      <td>Gymnotiformes</td>\n",
       "      <td>1</td>\n",
       "      <td>0</td>\n",
       "      <td>0</td>\n",
       "      <td>1</td>\n",
       "      <td>0</td>\n",
       "      <td>0</td>\n",
       "      <td>0</td>\n",
       "      <td>0</td>\n",
       "      <td>...</td>\n",
       "      <td>0</td>\n",
       "      <td>0</td>\n",
       "      <td>0</td>\n",
       "      <td>0</td>\n",
       "      <td>0</td>\n",
       "      <td>0</td>\n",
       "      <td>0</td>\n",
       "      <td>0</td>\n",
       "      <td>0</td>\n",
       "      <td>1</td>\n",
       "    </tr>\n",
       "    <tr>\n",
       "      <th>13</th>\n",
       "      <td>Welse</td>\n",
       "      <td>Siluriformes</td>\n",
       "      <td>71</td>\n",
       "      <td>0</td>\n",
       "      <td>0</td>\n",
       "      <td>646</td>\n",
       "      <td>0</td>\n",
       "      <td>0</td>\n",
       "      <td>20</td>\n",
       "      <td>0</td>\n",
       "      <td>...</td>\n",
       "      <td>8</td>\n",
       "      <td>0</td>\n",
       "      <td>0</td>\n",
       "      <td>222</td>\n",
       "      <td>0</td>\n",
       "      <td>0</td>\n",
       "      <td>10</td>\n",
       "      <td>0</td>\n",
       "      <td>0</td>\n",
       "      <td>442</td>\n",
       "    </tr>\n",
       "    <tr>\n",
       "      <th>14</th>\n",
       "      <td>Froschfische</td>\n",
       "      <td>Batrachoidiformes</td>\n",
       "      <td>0</td>\n",
       "      <td>0</td>\n",
       "      <td>0</td>\n",
       "      <td>1</td>\n",
       "      <td>0</td>\n",
       "      <td>0</td>\n",
       "      <td>0</td>\n",
       "      <td>0</td>\n",
       "      <td>...</td>\n",
       "      <td>0</td>\n",
       "      <td>0</td>\n",
       "      <td>0</td>\n",
       "      <td>1</td>\n",
       "      <td>0</td>\n",
       "      <td>0</td>\n",
       "      <td>0</td>\n",
       "      <td>0</td>\n",
       "      <td>0</td>\n",
       "      <td>0</td>\n",
       "    </tr>\n",
       "  </tbody>\n",
       "</table>\n",
       "<p>15 rows × 21 columns</p>\n",
       "</div>"
      ],
      "text/plain": [
       "                      0                                                  1   \\\n",
       "0          KNOCHENFISCHE  OSTEICHTHYES\\nArtenzahl\\n2017\\ngeboren\\nZugäng...   \n",
       "1                                                                             \n",
       "2     Flösselhechtartige                                    Polypteriformes   \n",
       "3             Störartige                                   Acipenseriformes   \n",
       "4     Knochenhechtartige                                   Lepisosteiformes   \n",
       "5           Tarpunartige                                        Elopiformes   \n",
       "6              Aalartige                                     Anguilliformes   \n",
       "7   Knochenzünglerartige                                  Osteoglossiformes   \n",
       "8            Hechtartige                                        Esociformes   \n",
       "9      Schildfischartige                                    Gobiesociformes   \n",
       "10         Salmlerartige                                      Characiformes   \n",
       "11    Karpfenfischartige                                      Cypriniformes   \n",
       "12  Neuwelt-Messerfische                                      Gymnotiformes   \n",
       "13                 Welse                                       Siluriformes   \n",
       "14          Froschfische                                  Batrachoidiformes   \n",
       "\n",
       "    2  3  4     5  6  7   8  9   ...   11 12 13   14 15 16  17 18 19   20  \n",
       "0                                ...                                       \n",
       "1       m  w     u  m  w   u  m  ...    u  m  w    u  m  w   u  m  w    u  \n",
       "2    2  0  0     3  0  0   0  0  ...    0  0  0    0  0  0   0  0  0    3  \n",
       "3    0  0  0     0  0  0   0  0  ...    0  0  0    0  0  0   0  0  0    0  \n",
       "4    3  0  0    11  0  0   0  0  ...    0  0  0    0  0  0   0  0  0   11  \n",
       "5    1  0  0     9  0  0   0  0  ...    0  0  0    0  0  0   0  0  0    9  \n",
       "6    6  0  0    52  0  0   0  0  ...    9  0  0   50  0  0   0  0  0   11  \n",
       "7    4  0  0    38  0  0   0  0  ...    0  0  0   14  0  0   0  0  0   24  \n",
       "8    1  0  0     0  0  0   0  0  ...    1  0  0    0  0  0   0  0  0    1  \n",
       "9    0  0  0     0  0  0   0  0  ...    0  0  0    0  0  0   0  0  0    0  \n",
       "10  40  0  0  1025  0  0   0  0  ...  340  0  0  407  0  0   0  0  0  958  \n",
       "11  27  0  0   709  0  0   0  0  ...  422  0  0  531  0  0  77  0  0  523  \n",
       "12   1  0  0     1  0  0   0  0  ...    0  0  0    0  0  0   0  0  0    1  \n",
       "13  71  0  0   646  0  0  20  0  ...    8  0  0  222  0  0  10  0  0  442  \n",
       "14   0  0  0     1  0  0   0  0  ...    0  0  0    1  0  0   0  0  0    0  \n",
       "\n",
       "[15 rows x 21 columns]"
      ]
     },
     "execution_count": 10,
     "metadata": {},
     "output_type": "execute_result"
    }
   ],
   "source": [
    "zoo[2018][46]"
   ]
  },
  {
   "cell_type": "markdown",
   "id": "728d4f3d",
   "metadata": {},
   "source": [
    "## 2019"
   ]
  },
  {
   "cell_type": "code",
   "execution_count": 11,
   "id": "99bc5fe8",
   "metadata": {},
   "outputs": [
    {
     "data": {
      "text/plain": [
       "41"
      ]
     },
     "execution_count": 11,
     "metadata": {},
     "output_type": "execute_result"
    }
   ],
   "source": [
    "len(zoo[2019])"
   ]
  },
  {
   "cell_type": "code",
   "execution_count": 12,
   "id": "4b8d020f",
   "metadata": {},
   "outputs": [],
   "source": [
    "z19_del = [0, 5]"
   ]
  },
  {
   "cell_type": "code",
   "execution_count": 13,
   "id": "71647329",
   "metadata": {},
   "outputs": [],
   "source": [
    "zoo = clean_zoo(zoo, 2019, z19_del)"
   ]
  },
  {
   "cell_type": "markdown",
   "id": "ac927331",
   "metadata": {},
   "source": [
    "## 2020"
   ]
  },
  {
   "cell_type": "code",
   "execution_count": 14,
   "id": "8f00c014",
   "metadata": {},
   "outputs": [
    {
     "data": {
      "text/plain": [
       "dict_keys([0, 1, 2, 3, 4, 5, 6, 7, 8, 9, 10, 11, 12, 13, 14, 15, 16, 17, 18, 19, 20, 21, 22, 23, 24, 25, 26, 27, 28, 29, 30, 31, 32, 33, 34])"
      ]
     },
     "execution_count": 14,
     "metadata": {},
     "output_type": "execute_result"
    }
   ],
   "source": [
    "zoo[2020].keys()"
   ]
  },
  {
   "cell_type": "code",
   "execution_count": 15,
   "id": "ee98043f",
   "metadata": {},
   "outputs": [],
   "source": [
    "del20 = [0, 5]"
   ]
  },
  {
   "cell_type": "code",
   "execution_count": 16,
   "id": "866da6f2",
   "metadata": {},
   "outputs": [],
   "source": [
    "zoo = clean_zoo(zoo, 2020, del20)"
   ]
  },
  {
   "cell_type": "markdown",
   "id": "66c1a466",
   "metadata": {},
   "source": [
    "## 2021"
   ]
  },
  {
   "cell_type": "code",
   "execution_count": 17,
   "id": "111acf50",
   "metadata": {},
   "outputs": [
    {
     "data": {
      "text/plain": [
       "dict_keys([0, 1, 2, 3, 4, 5, 6, 7, 8, 9, 10, 11, 12, 13, 14, 15, 16, 17, 18, 19, 20, 21, 22, 23, 24, 25, 26, 27, 28, 29, 30, 31, 32, 33, 34, 35, 36, 37, 38])"
      ]
     },
     "execution_count": 17,
     "metadata": {},
     "output_type": "execute_result"
    }
   ],
   "source": [
    "zoo[2021].keys()"
   ]
  },
  {
   "cell_type": "code",
   "execution_count": 18,
   "id": "d2ec5d38",
   "metadata": {},
   "outputs": [],
   "source": [
    "del21 = [4]"
   ]
  },
  {
   "cell_type": "code",
   "execution_count": 19,
   "id": "61a941d6",
   "metadata": {},
   "outputs": [],
   "source": [
    "zoo = clean_zoo(zoo, 2021, del21)"
   ]
  },
  {
   "cell_type": "code",
   "execution_count": 27,
   "id": "2e2ba68a",
   "metadata": {},
   "outputs": [
    {
     "data": {
      "text/html": [
       "<div>\n",
       "<style scoped>\n",
       "    .dataframe tbody tr th:only-of-type {\n",
       "        vertical-align: middle;\n",
       "    }\n",
       "\n",
       "    .dataframe tbody tr th {\n",
       "        vertical-align: top;\n",
       "    }\n",
       "\n",
       "    .dataframe thead th {\n",
       "        text-align: right;\n",
       "    }\n",
       "</style>\n",
       "<table border=\"1\" class=\"dataframe\">\n",
       "  <thead>\n",
       "    <tr style=\"text-align: right;\">\n",
       "      <th></th>\n",
       "      <th>0</th>\n",
       "      <th>1</th>\n",
       "      <th>2</th>\n",
       "      <th>3</th>\n",
       "    </tr>\n",
       "  </thead>\n",
       "  <tbody>\n",
       "    <tr>\n",
       "      <th>0</th>\n",
       "      <td>Tagestickets Zoo</td>\n",
       "      <td>Eintrittskarten 2021</td>\n",
       "      <td>Eintrittskarten 2020</td>\n",
       "      <td>+/- Vorjahr in %</td>\n",
       "    </tr>\n",
       "    <tr>\n",
       "      <th>1</th>\n",
       "      <td>Erwachsene</td>\n",
       "      <td>523.993</td>\n",
       "      <td>503.883</td>\n",
       "      <td>4 %</td>\n",
       "    </tr>\n",
       "    <tr>\n",
       "      <th>2</th>\n",
       "      <td>Ermäßigte</td>\n",
       "      <td>70.031</td>\n",
       "      <td>58.453</td>\n",
       "      <td>20 %</td>\n",
       "    </tr>\n",
       "    <tr>\n",
       "      <th>3</th>\n",
       "      <td>Kinder</td>\n",
       "      <td>186.630</td>\n",
       "      <td>157.271</td>\n",
       "      <td>19 %</td>\n",
       "    </tr>\n",
       "    <tr>\n",
       "      <th>4</th>\n",
       "      <td>Familien</td>\n",
       "      <td>0</td>\n",
       "      <td>12.794</td>\n",
       "      <td>-100 %</td>\n",
       "    </tr>\n",
       "    <tr>\n",
       "      <th>5</th>\n",
       "      <td>Andere Eintrittsgelder</td>\n",
       "      <td>168</td>\n",
       "      <td>3.220</td>\n",
       "      <td>-95 %</td>\n",
       "    </tr>\n",
       "    <tr>\n",
       "      <th>6</th>\n",
       "      <td>Summe Tagestickets Zoo</td>\n",
       "      <td>780.822</td>\n",
       "      <td>735.621</td>\n",
       "      <td>6 %</td>\n",
       "    </tr>\n",
       "  </tbody>\n",
       "</table>\n",
       "</div>"
      ],
      "text/plain": [
       "                        0                     1                     2  \\\n",
       "0        Tagestickets Zoo  Eintrittskarten 2021  Eintrittskarten 2020   \n",
       "1              Erwachsene               523.993               503.883   \n",
       "2               Ermäßigte                70.031                58.453   \n",
       "3                  Kinder               186.630               157.271   \n",
       "4                Familien                     0                12.794   \n",
       "5  Andere Eintrittsgelder                   168                 3.220   \n",
       "6  Summe Tagestickets Zoo               780.822               735.621   \n",
       "\n",
       "                  3  \n",
       "0  +/- Vorjahr in %  \n",
       "1               4 %  \n",
       "2              20 %  \n",
       "3              19 %  \n",
       "4            -100 %  \n",
       "5             -95 %  \n",
       "6               6 %  "
      ]
     },
     "execution_count": 27,
     "metadata": {},
     "output_type": "execute_result"
    }
   ],
   "source": [
    "zoo[2021][0]"
   ]
  },
  {
   "cell_type": "code",
   "execution_count": null,
   "id": "8fb94d86",
   "metadata": {},
   "outputs": [],
   "source": [
    "# tables_dict['Berlin']['ZooAquarium'] = zoo\n",
    "# save_dict_pkl(tables_dict, tables_path)"
   ]
  },
  {
   "cell_type": "markdown",
   "id": "e1ef0225",
   "metadata": {},
   "source": [
    "# Tiergarten"
   ]
  },
  {
   "cell_type": "code",
   "execution_count": 26,
   "id": "c5cec5f1",
   "metadata": {},
   "outputs": [],
   "source": [
    "def clean_tg(tg: dict, year: int, del_list: list) -> dict:\n",
    "    z_clean = {}\n",
    "    for i in range(len(tg[year])):\n",
    "        if i not in del_list:\n",
    "            z_clean[i] = tg[year][i]\n",
    "\n",
    "    updated = {}\n",
    "    for i in range(len(z_clean)):\n",
    "        index = list(z_clean.keys())[i]\n",
    "        updated[i] = z_clean[index]\n",
    "    zoo[year] = updated\n",
    "    return zoo"
   ]
  },
  {
   "cell_type": "code",
   "execution_count": 27,
   "id": "83af4188",
   "metadata": {},
   "outputs": [
    {
     "data": {
      "text/plain": [
       "dict_keys([2017, 2018, 2019, 2020, 2021])"
      ]
     },
     "execution_count": 27,
     "metadata": {},
     "output_type": "execute_result"
    }
   ],
   "source": [
    "tg.keys()"
   ]
  },
  {
   "cell_type": "code",
   "execution_count": 17,
   "id": "c703630f",
   "metadata": {},
   "outputs": [],
   "source": [
    "del17 = [3, 4, 5, 6]\n",
    "del18 = [0, 1, 2, 3, 6, 7, 29, 30, 36, 37, 38, 39, 41, 44, 46, 48, 49, 51]\n",
    "del19 = [0, 1, 2, 5, 6, 29, 33, 41]\n",
    "del20 = [0, 1, 2, 5, 6, 9, 39]\n",
    "del21 = [0, 1, 2, 5, 6, 9, 29, 30, 31, 32, 33, 34, 36, 40, 42, 45, 50, 52, 54, 55]"
   ]
  },
  {
   "cell_type": "code",
   "execution_count": 29,
   "id": "6c5e41e0",
   "metadata": {},
   "outputs": [
    {
     "data": {
      "text/plain": [
       "dict_keys([0, 1, 2, 3, 4, 5, 6, 7, 8, 9, 10, 11, 12, 13, 14, 15, 16, 17, 18, 19, 20, 21, 22, 23, 24, 25, 26, 27, 28, 29, 30, 31, 32, 33, 34, 35, 36, 37, 38, 39, 40, 41, 42, 43, 44, 45])"
      ]
     },
     "execution_count": 29,
     "metadata": {},
     "output_type": "execute_result"
    }
   ],
   "source": [
    "tg[2017].keys()"
   ]
  },
  {
   "cell_type": "code",
   "execution_count": 31,
   "id": "c170cda3",
   "metadata": {},
   "outputs": [],
   "source": [
    "tg = clean_tg(tg, 2017, del17)\n",
    "tg = clean_tg(tg, 2018, del18)\n",
    "tg = clean_tg(tg, 2019, del19)\n",
    "tg = clean_tg(tg, 2020, del20)\n",
    "tg = clean_tg(tg, 2021, del21)"
   ]
  },
  {
   "cell_type": "code",
   "execution_count": 33,
   "id": "7d40560a",
   "metadata": {},
   "outputs": [
    {
     "data": {
      "text/html": [
       "<div>\n",
       "<style scoped>\n",
       "    .dataframe tbody tr th:only-of-type {\n",
       "        vertical-align: middle;\n",
       "    }\n",
       "\n",
       "    .dataframe tbody tr th {\n",
       "        vertical-align: top;\n",
       "    }\n",
       "\n",
       "    .dataframe thead th {\n",
       "        text-align: right;\n",
       "    }\n",
       "</style>\n",
       "<table border=\"1\" class=\"dataframe\">\n",
       "  <thead>\n",
       "    <tr style=\"text-align: right;\">\n",
       "      <th></th>\n",
       "      <th>0</th>\n",
       "      <th>1</th>\n",
       "      <th>2</th>\n",
       "    </tr>\n",
       "  </thead>\n",
       "  <tbody>\n",
       "    <tr>\n",
       "      <th>0</th>\n",
       "      <td>Summe Sachanlagen</td>\n",
       "      <td>5.599.218,79</td>\n",
       "      <td>3.337.378,29</td>\n",
       "    </tr>\n",
       "    <tr>\n",
       "      <th>1</th>\n",
       "      <td>III.\\nFinanzanlagen</td>\n",
       "      <td></td>\n",
       "      <td></td>\n",
       "    </tr>\n",
       "    <tr>\n",
       "      <th>2</th>\n",
       "      <td>Genossenschaftsanteile</td>\n",
       "      <td>600,00</td>\n",
       "      <td>0,00</td>\n",
       "    </tr>\n",
       "  </tbody>\n",
       "</table>\n",
       "</div>"
      ],
      "text/plain": [
       "                        0             1             2\n",
       "0       Summe Sachanlagen  5.599.218,79  3.337.378,29\n",
       "1     III.\\nFinanzanlagen                            \n",
       "2  Genossenschaftsanteile        600,00          0,00"
      ]
     },
     "execution_count": 33,
     "metadata": {},
     "output_type": "execute_result"
    }
   ],
   "source": [
    "tg[2017][4]"
   ]
  },
  {
   "cell_type": "code",
   "execution_count": 35,
   "id": "9e3dd73b",
   "metadata": {},
   "outputs": [
    {
     "data": {
      "text/plain": [
       "25"
      ]
     },
     "execution_count": 35,
     "metadata": {},
     "output_type": "execute_result"
    }
   ],
   "source": [
    "len(tg[2021])"
   ]
  },
  {
   "cell_type": "code",
   "execution_count": 43,
   "id": "329ccb9b",
   "metadata": {},
   "outputs": [
    {
     "data": {
      "text/html": [
       "<div>\n",
       "<style scoped>\n",
       "    .dataframe tbody tr th:only-of-type {\n",
       "        vertical-align: middle;\n",
       "    }\n",
       "\n",
       "    .dataframe tbody tr th {\n",
       "        vertical-align: top;\n",
       "    }\n",
       "\n",
       "    .dataframe thead th {\n",
       "        text-align: right;\n",
       "    }\n",
       "</style>\n",
       "<table border=\"1\" class=\"dataframe\">\n",
       "  <thead>\n",
       "    <tr style=\"text-align: right;\">\n",
       "      <th></th>\n",
       "      <th>0</th>\n",
       "      <th>1</th>\n",
       "      <th>2</th>\n",
       "      <th>3</th>\n",
       "    </tr>\n",
       "  </thead>\n",
       "  <tbody>\n",
       "    <tr>\n",
       "      <th>0</th>\n",
       "      <td>Jahreskarten Zoo-Aquarium</td>\n",
       "      <td>Eintrittskarten 2021</td>\n",
       "      <td>Eintrittskarten 2020\\n+/- Vorjahr in %</td>\n",
       "      <td></td>\n",
       "    </tr>\n",
       "    <tr>\n",
       "      <th>1</th>\n",
       "      <td>Erwachsene</td>\n",
       "      <td>3.470</td>\n",
       "      <td>3.477\\n0 %</td>\n",
       "      <td></td>\n",
       "    </tr>\n",
       "    <tr>\n",
       "      <th>2</th>\n",
       "      <td>Ermäßigte</td>\n",
       "      <td>715</td>\n",
       "      <td>834</td>\n",
       "      <td>-14 %</td>\n",
       "    </tr>\n",
       "    <tr>\n",
       "      <th>3</th>\n",
       "      <td>Kinder</td>\n",
       "      <td>256</td>\n",
       "      <td>202</td>\n",
       "      <td>27 %</td>\n",
       "    </tr>\n",
       "    <tr>\n",
       "      <th>4</th>\n",
       "      <td>Familien</td>\n",
       "      <td>7\\n.841</td>\n",
       "      <td>7\\n.472</td>\n",
       "      <td>5 %</td>\n",
       "    </tr>\n",
       "    <tr>\n",
       "      <th>5</th>\n",
       "      <td>1-2-3-Card</td>\n",
       "      <td>9.491</td>\n",
       "      <td>8.189</td>\n",
       "      <td>16 %</td>\n",
       "    </tr>\n",
       "    <tr>\n",
       "      <th>6</th>\n",
       "      <td>Summe Jahreskarten Zoo-Aquarium</td>\n",
       "      <td>21.773</td>\n",
       "      <td>20.174</td>\n",
       "      <td>8 %</td>\n",
       "    </tr>\n",
       "    <tr>\n",
       "      <th>7</th>\n",
       "      <td>SUMME JAHRESKARTEN TOTAL</td>\n",
       "      <td>67.189</td>\n",
       "      <td>63.700</td>\n",
       "      <td>5 %</td>\n",
       "    </tr>\n",
       "    <tr>\n",
       "      <th>8</th>\n",
       "      <td>Sonstige Tickets Zoo*</td>\n",
       "      <td>67.924</td>\n",
       "      <td>43.653</td>\n",
       "      <td>56 %</td>\n",
       "    </tr>\n",
       "    <tr>\n",
       "      <th>9</th>\n",
       "      <td>Sonstige Tickets Zoo-Aquarium*</td>\n",
       "      <td>13.383</td>\n",
       "      <td>23.689</td>\n",
       "      <td>-44 %</td>\n",
       "    </tr>\n",
       "    <tr>\n",
       "      <th>10</th>\n",
       "      <td>Summe Tickets Zoo</td>\n",
       "      <td>894.162</td>\n",
       "      <td>822.800</td>\n",
       "      <td>9 %</td>\n",
       "    </tr>\n",
       "    <tr>\n",
       "      <th>11</th>\n",
       "      <td>Summe Tickets Zoo-Aquarium</td>\n",
       "      <td>270.209</td>\n",
       "      <td>304.882</td>\n",
       "      <td>-11 %</td>\n",
       "    </tr>\n",
       "    <tr>\n",
       "      <th>12</th>\n",
       "      <td>EINTRITTSKARTEN GESAMT</td>\n",
       "      <td>1.164.371</td>\n",
       "      <td>1.127.682</td>\n",
       "      <td>3 %</td>\n",
       "    </tr>\n",
       "    <tr>\n",
       "      <th>13</th>\n",
       "      <td>Ermittelte Besucher**</td>\n",
       "      <td>2.344.236</td>\n",
       "      <td>2.267.398</td>\n",
       "      <td>3 %</td>\n",
       "    </tr>\n",
       "  </tbody>\n",
       "</table>\n",
       "</div>"
      ],
      "text/plain": [
       "                                  0                     1  \\\n",
       "0         Jahreskarten Zoo-Aquarium  Eintrittskarten 2021   \n",
       "1                        Erwachsene                 3.470   \n",
       "2                         Ermäßigte                   715   \n",
       "3                            Kinder                   256   \n",
       "4                          Familien               7\\n.841   \n",
       "5                        1-2-3-Card                 9.491   \n",
       "6   Summe Jahreskarten Zoo-Aquarium                21.773   \n",
       "7          SUMME JAHRESKARTEN TOTAL                67.189   \n",
       "8             Sonstige Tickets Zoo*                67.924   \n",
       "9    Sonstige Tickets Zoo-Aquarium*                13.383   \n",
       "10                Summe Tickets Zoo               894.162   \n",
       "11       Summe Tickets Zoo-Aquarium               270.209   \n",
       "12           EINTRITTSKARTEN GESAMT             1.164.371   \n",
       "13            Ermittelte Besucher**             2.344.236   \n",
       "\n",
       "                                         2      3  \n",
       "0   Eintrittskarten 2020\\n+/- Vorjahr in %         \n",
       "1                               3.477\\n0 %         \n",
       "2                                      834  -14 %  \n",
       "3                                      202   27 %  \n",
       "4                                  7\\n.472    5 %  \n",
       "5                                    8.189   16 %  \n",
       "6                                   20.174    8 %  \n",
       "7                                   63.700    5 %  \n",
       "8                                   43.653   56 %  \n",
       "9                                   23.689  -44 %  \n",
       "10                                 822.800    9 %  \n",
       "11                                 304.882  -11 %  \n",
       "12                               1.127.682    3 %  \n",
       "13                               2.267.398    3 %  "
      ]
     },
     "execution_count": 43,
     "metadata": {},
     "output_type": "execute_result"
    }
   ],
   "source": [
    "tg[2021][0]"
   ]
  }
 ],
 "metadata": {
  "kernelspec": {
   "display_name": "projects",
   "language": "python",
   "name": "python3"
  },
  "language_info": {
   "codemirror_mode": {
    "name": "ipython",
    "version": 3
   },
   "file_extension": ".py",
   "mimetype": "text/x-python",
   "name": "python",
   "nbconvert_exporter": "python",
   "pygments_lexer": "ipython3",
   "version": "3.12.8"
  }
 },
 "nbformat": 4,
 "nbformat_minor": 5
}
