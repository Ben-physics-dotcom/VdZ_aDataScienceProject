{
 "cells": [
  {
   "cell_type": "markdown",
   "id": "a65df120",
   "metadata": {},
   "source": [
    "# Imports"
   ]
  },
  {
   "cell_type": "code",
   "execution_count": 2,
   "id": "240228ff",
   "metadata": {},
   "outputs": [],
   "source": [
    "import numpy as np\n",
    "import pandas as pd\n",
    "import seaborn as sns\n",
    "import matplotlib.pyplot as plt\n"
   ]
  },
  {
   "cell_type": "code",
   "execution_count": 3,
   "id": "ed93ad7c",
   "metadata": {},
   "outputs": [],
   "source": [
    "import os\n",
    "import sys\n",
    "parent_dir = os.path.abspath(os.path.join(os.getcwd(), \"..\"))\n",
    "sys.path.append(parent_dir)\n",
    "from generall_function import save_dict_pkl, open_dict_pkl"
   ]
  },
  {
   "cell_type": "markdown",
   "id": "d265a8e3",
   "metadata": {},
   "source": [
    "# Data"
   ]
  },
  {
   "cell_type": "code",
   "execution_count": 4,
   "id": "9f7066bc",
   "metadata": {},
   "outputs": [],
   "source": [
    "metadata_path = '../Data/metadata.pkl'\n",
    "tables_path = '../Data/tables.pkl'\n"
   ]
  },
  {
   "cell_type": "code",
   "execution_count": 5,
   "id": "d89ea94e",
   "metadata": {},
   "outputs": [],
   "source": [
    "meta_dict = open_dict_pkl(metadata_path)\n",
    "tables_dict = open_dict_pkl(tables_path)"
   ]
  }
 ],
 "metadata": {
  "kernelspec": {
   "display_name": "projects",
   "language": "python",
   "name": "python3"
  },
  "language_info": {
   "codemirror_mode": {
    "name": "ipython",
    "version": 3
   },
   "file_extension": ".py",
   "mimetype": "text/x-python",
   "name": "python",
   "nbconvert_exporter": "python",
   "pygments_lexer": "ipython3",
   "version": "3.12.8"
  }
 },
 "nbformat": 4,
 "nbformat_minor": 5
}
