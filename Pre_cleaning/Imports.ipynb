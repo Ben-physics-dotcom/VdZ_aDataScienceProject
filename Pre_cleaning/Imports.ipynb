{
 "cells": [
  {
   "cell_type": "markdown",
   "id": "a65df120",
   "metadata": {},
   "source": [
    "# Imports"
   ]
  },
  {
   "cell_type": "code",
   "execution_count": null,
   "id": "240228ff",
   "metadata": {},
   "outputs": [],
   "source": [
    "import numpy as np\n",
    "import pandas as pd\n",
    "import seaborn as sns\n",
    "import matplotlib.pyplot as plt\n",
    "import camelot\n",
    "import openpyxl\n",
    "import pymupdf"
   ]
  },
  {
   "cell_type": "code",
   "execution_count": null,
   "id": "ed93ad7c",
   "metadata": {},
   "outputs": [],
   "source": [
    "import os\n",
    "import sys\n",
    "parent_dir = os.path.abspath(os.path.join(os.getcwd(), \"..\"))\n",
    "sys.path.append(parent_dir)"
   ]
  },
  {
   "cell_type": "markdown",
   "id": "18a234df",
   "metadata": {},
   "source": [
    "# Functions"
   ]
  },
  {
   "cell_type": "code",
   "execution_count": null,
   "id": "0086ce7d",
   "metadata": {},
   "outputs": [],
   "source": [
    "def open_dict_pkl(file_path):\n",
    "    with open(file_path, 'rb') as f:\n",
    "        results = pd.read_pickle(f)\n",
    "    return results"
   ]
  },
  {
   "cell_type": "code",
   "execution_count": null,
   "id": "20acab3d",
   "metadata": {},
   "outputs": [],
   "source": [
    "def save_dict_pkl(results, file_path):\n",
    "    with open(file_path, 'wb') as f:\n",
    "        pd.to_pickle(results, f)"
   ]
  },
  {
   "cell_type": "markdown",
   "id": "d265a8e3",
   "metadata": {},
   "source": [
    "# Data"
   ]
  },
  {
   "cell_type": "code",
   "execution_count": null,
   "id": "9f7066bc",
   "metadata": {},
   "outputs": [],
   "source": [
    "metadata_path = '../Data/metadata.pkl'\n",
    "tables_path = '../Data/tables.pkl'\n"
   ]
  }
 ],
 "metadata": {
  "language_info": {
   "name": "python"
  }
 },
 "nbformat": 4,
 "nbformat_minor": 5
}
